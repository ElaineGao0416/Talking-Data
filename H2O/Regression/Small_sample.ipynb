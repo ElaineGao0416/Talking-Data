{
 "cells": [
  {
   "cell_type": "code",
   "execution_count": 29,
   "metadata": {},
   "outputs": [],
   "source": [
    "import pandas as pd\n",
    "import matplotlib.pyplot as plt\n",
    "import seaborn as sns\n",
    "import numpy as np\n",
    "from scipy.stats import norm\n",
    "from sklearn.preprocessing import StandardScaler\n",
    "from scipy import stats\n",
    "import warnings\n",
    "warnings.filterwarnings('ignore')\n",
    "%matplotlib inline"
   ]
  },
  {
   "cell_type": "code",
   "execution_count": 30,
   "metadata": {},
   "outputs": [
    {
     "name": "stdout",
     "output_type": "stream",
     "text": [
      "Checking whether there is an H2O instance running at http://localhost:54321 . connected.\n"
     ]
    },
    {
     "data": {
      "text/html": [
       "<div style=\"overflow:auto\"><table style=\"width:50%\"><tr><td>H2O cluster uptime:</td>\n",
       "<td>3 hours 6 mins</td></tr>\n",
       "<tr><td>H2O cluster timezone:</td>\n",
       "<td>America/Los_Angeles</td></tr>\n",
       "<tr><td>H2O data parsing timezone:</td>\n",
       "<td>UTC</td></tr>\n",
       "<tr><td>H2O cluster version:</td>\n",
       "<td>3.24.0.5</td></tr>\n",
       "<tr><td>H2O cluster version age:</td>\n",
       "<td>14 days, 14 hours and 52 minutes </td></tr>\n",
       "<tr><td>H2O cluster name:</td>\n",
       "<td>H2O_from_python_gaozhiping_m9096x</td></tr>\n",
       "<tr><td>H2O cluster total nodes:</td>\n",
       "<td>1</td></tr>\n",
       "<tr><td>H2O cluster free memory:</td>\n",
       "<td>1.623 Gb</td></tr>\n",
       "<tr><td>H2O cluster total cores:</td>\n",
       "<td>4</td></tr>\n",
       "<tr><td>H2O cluster allowed cores:</td>\n",
       "<td>4</td></tr>\n",
       "<tr><td>H2O cluster status:</td>\n",
       "<td>locked, healthy</td></tr>\n",
       "<tr><td>H2O connection url:</td>\n",
       "<td>http://localhost:54321</td></tr>\n",
       "<tr><td>H2O connection proxy:</td>\n",
       "<td>None</td></tr>\n",
       "<tr><td>H2O internal security:</td>\n",
       "<td>False</td></tr>\n",
       "<tr><td>H2O API Extensions:</td>\n",
       "<td>Amazon S3, XGBoost, Algos, AutoML, Core V3, Core V4</td></tr>\n",
       "<tr><td>Python version:</td>\n",
       "<td>3.6.8 final</td></tr></table></div>"
      ],
      "text/plain": [
       "--------------------------  ---------------------------------------------------\n",
       "H2O cluster uptime:         3 hours 6 mins\n",
       "H2O cluster timezone:       America/Los_Angeles\n",
       "H2O data parsing timezone:  UTC\n",
       "H2O cluster version:        3.24.0.5\n",
       "H2O cluster version age:    14 days, 14 hours and 52 minutes\n",
       "H2O cluster name:           H2O_from_python_gaozhiping_m9096x\n",
       "H2O cluster total nodes:    1\n",
       "H2O cluster free memory:    1.623 Gb\n",
       "H2O cluster total cores:    4\n",
       "H2O cluster allowed cores:  4\n",
       "H2O cluster status:         locked, healthy\n",
       "H2O connection url:         http://localhost:54321\n",
       "H2O connection proxy:\n",
       "H2O internal security:      False\n",
       "H2O API Extensions:         Amazon S3, XGBoost, Algos, AutoML, Core V3, Core V4\n",
       "Python version:             3.6.8 final\n",
       "--------------------------  ---------------------------------------------------"
      ]
     },
     "metadata": {},
     "output_type": "display_data"
    }
   ],
   "source": [
    "# Start and connect to a local H2O cluster\n",
    "import h2o\n",
    "h2o.init(nthreads = -1)"
   ]
  },
  {
   "cell_type": "code",
   "execution_count": 31,
   "metadata": {},
   "outputs": [
    {
     "name": "stdout",
     "output_type": "stream",
     "text": [
      "Parse progress: |█████████████████████████████████████████████████████████| 100%\n"
     ]
    }
   ],
   "source": [
    "data = h2o.import_file(\"sales.csv\")"
   ]
  },
  {
   "cell_type": "code",
   "execution_count": 32,
   "metadata": {},
   "outputs": [
    {
     "data": {
      "text/html": [
       "<table>\n",
       "<thead>\n",
       "<tr><th style=\"text-align: right;\">  R&D Spend</th><th style=\"text-align: right;\">  Administration</th><th style=\"text-align: right;\">  Marketing Spend</th><th>State     </th><th style=\"text-align: right;\">  Profit</th></tr>\n",
       "</thead>\n",
       "<tbody>\n",
       "<tr><td style=\"text-align: right;\">     165349</td><td style=\"text-align: right;\">        136898  </td><td style=\"text-align: right;\">           471784</td><td>New York  </td><td style=\"text-align: right;\"> 1.92262</td></tr>\n",
       "<tr><td style=\"text-align: right;\">     162598</td><td style=\"text-align: right;\">        151378  </td><td style=\"text-align: right;\">           443899</td><td>California</td><td style=\"text-align: right;\"> 1.91792</td></tr>\n",
       "<tr><td style=\"text-align: right;\">     153442</td><td style=\"text-align: right;\">        101146  </td><td style=\"text-align: right;\">           407935</td><td>Florida   </td><td style=\"text-align: right;\"> 1.9105 </td></tr>\n",
       "<tr><td style=\"text-align: right;\">     144372</td><td style=\"text-align: right;\">        118672  </td><td style=\"text-align: right;\">           383200</td><td>New York  </td><td style=\"text-align: right;\"> 1.82902</td></tr>\n",
       "<tr><td style=\"text-align: right;\">     142107</td><td style=\"text-align: right;\">         91391.8</td><td style=\"text-align: right;\">           366168</td><td>Florida   </td><td style=\"text-align: right;\"> 1.66188</td></tr>\n",
       "<tr><td style=\"text-align: right;\">     131877</td><td style=\"text-align: right;\">         99814.7</td><td style=\"text-align: right;\">           362861</td><td>New York  </td><td style=\"text-align: right;\"> 1.56991</td></tr>\n",
       "<tr><td style=\"text-align: right;\">     134615</td><td style=\"text-align: right;\">        147199  </td><td style=\"text-align: right;\">           127717</td><td>California</td><td style=\"text-align: right;\"> 1.56123</td></tr>\n",
       "<tr><td style=\"text-align: right;\">     130298</td><td style=\"text-align: right;\">        145530  </td><td style=\"text-align: right;\">           323877</td><td>Florida   </td><td style=\"text-align: right;\"> 1.55753</td></tr>\n",
       "<tr><td style=\"text-align: right;\">     120543</td><td style=\"text-align: right;\">        148719  </td><td style=\"text-align: right;\">           311613</td><td>New York  </td><td style=\"text-align: right;\"> 1.52212</td></tr>\n",
       "<tr><td style=\"text-align: right;\">     123335</td><td style=\"text-align: right;\">        108679  </td><td style=\"text-align: right;\">           304982</td><td>California</td><td style=\"text-align: right;\"> 1.4976 </td></tr>\n",
       "</tbody>\n",
       "</table>"
      ]
     },
     "metadata": {},
     "output_type": "display_data"
    },
    {
     "data": {
      "text/plain": []
     },
     "execution_count": 32,
     "metadata": {},
     "output_type": "execute_result"
    }
   ],
   "source": [
    "data[\"State\"] = data[\"State\"].asfactor()\n",
    "data[\"Profit\"] = data[\"Profit\"]/100000\n",
    "data.head()"
   ]
  },
  {
   "cell_type": "code",
   "execution_count": 33,
   "metadata": {},
   "outputs": [
    {
     "data": {
      "text/plain": [
       "['R&D Spend', 'Administration', 'Marketing Spend', 'State']"
      ]
     },
     "execution_count": 33,
     "metadata": {},
     "output_type": "execute_result"
    }
   ],
   "source": [
    "features = list(data.columns) # we want to use all the information\n",
    "features.remove('Profit')    # we need to exclude the target 'quality' (otherwise there is nothing to predict)\n",
    "features"
   ]
  },
  {
   "cell_type": "code",
   "execution_count": 34,
   "metadata": {},
   "outputs": [],
   "source": [
    "# Split the H2O data frame into training/test sets\n",
    "# so we can evaluate out-of-bag performance\n",
    "data_split = data.split_frame(ratios = [0.8], seed = 1234)\n",
    "\n",
    "data_train = data_split[0] # using 80% for training\n",
    "data_test = data_split[1]  # using the rest 20% for out-of-bag evaluation"
   ]
  },
  {
   "cell_type": "code",
   "execution_count": 35,
   "metadata": {},
   "outputs": [
    {
     "data": {
      "text/plain": [
       "(36, 5)"
      ]
     },
     "execution_count": 35,
     "metadata": {},
     "output_type": "execute_result"
    }
   ],
   "source": [
    "data_train.shape"
   ]
  },
  {
   "cell_type": "code",
   "execution_count": 36,
   "metadata": {},
   "outputs": [
    {
     "data": {
      "text/plain": [
       "<matplotlib.axes._subplots.AxesSubplot at 0x1a13504550>"
      ]
     },
     "execution_count": 36,
     "metadata": {},
     "output_type": "execute_result"
    },
    {
     "data": {
      "image/png": "[encoded data removed]",
      "text/plain": [
       "<Figure size 432x288 with 1 Axes>"
      ]
     },
     "metadata": {
      "needs_background": "light"
     },
     "output_type": "display_data"
    }
   ],
   "source": [
    "data_train.as_data_frame().Profit.hist()"
   ]
  },
  {
   "cell_type": "code",
   "execution_count": 37,
   "metadata": {},
   "outputs": [
    {
     "data": {
      "text/plain": [
       "(14, 5)"
      ]
     },
     "execution_count": 37,
     "metadata": {},
     "output_type": "execute_result"
    }
   ],
   "source": [
    "data_test.shape"
   ]
  },
  {
   "cell_type": "code",
   "execution_count": 38,
   "metadata": {},
   "outputs": [
    {
     "name": "stdout",
     "output_type": "stream",
     "text": [
      "gbm Model Build progress: |███████████████████████████████████████████████| 100%\n",
      "\n",
      "ModelMetricsRegression: gbm\n",
      "** Reported on test data. **\n",
      "\n",
      "MSE: 0.023914143277526\n",
      "RMSE: 0.15464198420068853\n",
      "MAE: 0.1331874060215387\n",
      "RMSLE: 0.07102560605170356\n",
      "Mean Residual Deviance: 0.023914143277526\n"
     ]
    },
    {
     "data": {
      "text/plain": []
     },
     "execution_count": 38,
     "metadata": {},
     "output_type": "execute_result"
    }
   ],
   "source": [
    "# Build a Gradient Boosting Machines (GBM) model with default settings\n",
    "\n",
    "# Import the function for GBM\n",
    "from h2o.estimators.gbm import H2OGradientBoostingEstimator\n",
    "\n",
    "# Set up GBM for regression\n",
    "# Add a seed for reproducibility\n",
    "gbm_default = H2OGradientBoostingEstimator(model_id = 'gbm_default', \n",
    "                                           seed = 1234)\n",
    "\n",
    "# Use .train() to build the model\n",
    "gbm_default.train(x = features, \n",
    "                  y = 'Profit', \n",
    "                  training_frame = data_train)\n",
    "\n",
    "# Check the model performance on test dataset\n",
    "gbm_default.model_performance(data_test)"
   ]
  },
  {
   "cell_type": "markdown",
   "metadata": {},
   "source": [
    "## Sklearn"
   ]
  },
  {
   "cell_type": "code",
   "execution_count": 39,
   "metadata": {},
   "outputs": [],
   "source": [
    "train_Set = data_train.as_data_frame()\n",
    "test_Set = data_test.as_data_frame()"
   ]
  },
  {
   "cell_type": "code",
   "execution_count": 40,
   "metadata": {},
   "outputs": [],
   "source": [
    "from sklearn.preprocessing import OneHotEncoder\n",
    "enc = OneHotEncoder(handle_unknown='error')\n",
    "st = enc.fit_transform(train_Set['State'].reset_index()).toarray()\n",
    "st_t = enc.transform(test_Set['State'].reset_index()).toarray()\n",
    "cols = ['x1_California','x1_Florida','x1_New York']\n",
    "train_Set = train_Set.drop(\"State\", axis=1)\n",
    "train_Set[cols] = pd.DataFrame(st, columns=enc.get_feature_names())[cols]\n",
    "test_Set = test_Set.drop(\"State\", axis=1)\n",
    "test_Set[cols] = pd.DataFrame(st_t, columns=enc.get_feature_names())[cols]"
   ]
  },
  {
   "cell_type": "code",
   "execution_count": 41,
   "metadata": {},
   "outputs": [],
   "source": [
    "y_train = train_Set.Profit\n",
    "X_train = train_Set.drop('Profit', axis=1)\n",
    "y_test = test_Set.Profit\n",
    "X_test = test_Set.drop('Profit', axis=1)"
   ]
  },
  {
   "cell_type": "code",
   "execution_count": 42,
   "metadata": {},
   "outputs": [],
   "source": [
    "from sklearn.linear_model import LinearRegression\n",
    "from sklearn import linear_model\n",
    "from sklearn.linear_model import Ridge\n",
    "from sklearn.linear_model import ElasticNet\n",
    "from sklearn.tree import DecisionTreeRegressor\n",
    "from sklearn.ensemble import RandomForestRegressor\n",
    "from sklearn.metrics import mean_squared_error\n",
    "from sklearn.model_selection import GridSearchCV\n",
    "from sklearn import metrics\n",
    "import warnings\n",
    "import seaborn as sns\n",
    "warnings.filterwarnings('ignore')"
   ]
  },
  {
   "cell_type": "code",
   "execution_count": 43,
   "metadata": {},
   "outputs": [
    {
     "name": "stdout",
     "output_type": "stream",
     "text": [
      "0.008110902229172144\n",
      "0.006500236721349905\n",
      "0.00799353732427908\n",
      "0.006914836970186716\n",
      "0.014855568978158578\n",
      "0.011154856914810484\n"
     ]
    }
   ],
   "source": [
    "compare_dic = {}\n",
    "# Linear Regression\n",
    "reg1 = LinearRegression()\n",
    "# Lasso model\n",
    "parameters = {\"alpha\" : [i/100 for i in range(0,80,5)]}\n",
    "reg2 = linear_model.Lasso()\n",
    "Lasso = GridSearchCV(reg2, parameters, cv = 5)\n",
    "# Ridge Regression\n",
    "parameters = {\"alpha\" : [i/100 for i in range(0,80,5)]}\n",
    "reg3 = Ridge()\n",
    "Ridge = GridSearchCV(reg3, parameters, cv = 5)\n",
    "#Elastic Net\n",
    "parameters = {\"alpha\" : [i/100 for i in range(0,80,5)], \"l1_ratio\":[i/100 for i in range(0,80,5)]}\n",
    "reg4 = ElasticNet(random_state=0)\n",
    "Ela = GridSearchCV(reg4, parameters, cv = 5)\n",
    "#Desition Tree\n",
    "parameters = {\"max_depth\" : [30,50,80,15,20,25]}\n",
    "dt   = DecisionTreeRegressor()\n",
    "model_dt = GridSearchCV(dt, parameters, cv = 5)\n",
    "#Random Forest\n",
    "parameters = {\"n_estimators\" : [10,50,100,300,350], \"max_depth\" : [30,56,70,85,10]}\n",
    "rf   = RandomForestRegressor(random_state=0)\n",
    "model_RF = GridSearchCV(rf, parameters, cv = 5)\n",
    "\n",
    "model_list = [reg1, Lasso, Ridge, Ela, model_dt, model_RF]\n",
    "model_name = [\"Linear Regression\", \"Lasso Regression\", \"Ridge Regression\", \"Elastic Net\", \"Decision Tree\", \"Random Forest\"]\n",
    "for i in range(len(model_list)):\n",
    "    model = model_list[i]\n",
    "    model.fit(X_train, y_train)\n",
    "    pred = model.predict(X_test)\n",
    "    compare_dic[model_name[i]] = mean_squared_error(y_test, pred, )\n",
    "    print(metrics.mean_squared_error(y_test, pred))"
   ]
  },
  {
   "cell_type": "code",
   "execution_count": 15,
   "metadata": {},
   "outputs": [
    {
     "name": "stdout",
     "output_type": "stream",
     "text": [
      "--- 227.2307357788086 seconds ---\n",
      "0.009359116135262585\n"
     ]
    }
   ],
   "source": [
    "# Gradient Boost\n",
    "from sklearn.ensemble import GradientBoostingRegressor\n",
    "import time\n",
    "parameters = {'max_depth': [3, 5, 7],\n",
    "             'subsample': [0.7, 0.8, 0.9],\n",
    "             'max_features':[0.7, 0.8, 0.9]}\n",
    "gbr   = GradientBoostingRegressor(n_estimators = 10000)\n",
    "model_gbr = GridSearchCV(gbr, parameters, cv = 5, scoring=\"neg_mean_squared_error\")\n",
    "\n",
    "start_time = time.time()\n",
    "model_gbr.fit(X_train, y_train)\n",
    "print(\"--- %s seconds ---\" % (time.time() - start_time))\n",
    "\n",
    "pred = model_gbr.predict(X_test)\n",
    "print(metrics.mean_squared_error(y_test, pred))"
   ]
  },
  {
   "cell_type": "markdown",
   "metadata": {},
   "source": [
    "## GBM with CV, Early Stopping and Random Grid Search"
   ]
  },
  {
   "cell_type": "code",
   "execution_count": 18,
   "metadata": {},
   "outputs": [],
   "source": [
    "from h2o.grid.grid_search import H2OGridSearch"
   ]
  },
  {
   "cell_type": "code",
   "execution_count": 19,
   "metadata": {},
   "outputs": [],
   "source": [
    "# define the criteria for random grid search\n",
    "search_criteria = {'strategy': \"RandomDiscrete\", \n",
    "                   'max_models': 9,\n",
    "                   'seed': 1234}"
   ]
  },
  {
   "cell_type": "code",
   "execution_count": 20,
   "metadata": {},
   "outputs": [],
   "source": [
    "# define the range of hyper-parameters for grid search\n",
    "# 27 combinations in total\n",
    "hyper_params = {'sample_rate': [0.7, 0.8, 0.9],\n",
    "                'col_sample_rate': [0.7, 0.8, 0.9],\n",
    "                'max_depth': [2,4,5,7,8,10]}"
   ]
  },
  {
   "cell_type": "code",
   "execution_count": 21,
   "metadata": {},
   "outputs": [],
   "source": [
    "# Set up GBM grid search\n",
    "# Add a seed for reproducibility\n",
    "gbm_rand_grid = H2OGridSearch(\n",
    "                    H2OGradientBoostingEstimator(\n",
    "                        model_id = 'gbm_rand_grid', \n",
    "                        seed = 1234,\n",
    "                        ntrees = 10000,   \n",
    "                        nfolds = 5,\n",
    "                        stopping_metric = 'mse', \n",
    "                        stopping_rounds = 15,     \n",
    "                        score_tree_interval = 1),\n",
    "                    search_criteria = search_criteria, # full grid search\n",
    "                    hyper_params = hyper_params)"
   ]
  },
  {
   "cell_type": "code",
   "execution_count": 22,
   "metadata": {},
   "outputs": [
    {
     "name": "stdout",
     "output_type": "stream",
     "text": [
      "gbm Grid Build progress: |████████████████████████████████████████████████| 100%\n",
      "--- 10.445855855941772 seconds ---\n"
     ]
    }
   ],
   "source": [
    "# Use .train() to start the grid search\n",
    "start_time = time.time()\n",
    "gbm_rand_grid.train(x = features, \n",
    "                    y = 'Profit', \n",
    "                    training_frame = data_train)\n",
    "print(\"--- %s seconds ---\" % (time.time() - start_time))"
   ]
  },
  {
   "cell_type": "code",
   "execution_count": 23,
   "metadata": {},
   "outputs": [
    {
     "name": "stdout",
     "output_type": "stream",
     "text": [
      "    col_sample_rate max_depth sample_rate  \\\n",
      "0               0.9         5         0.9   \n",
      "1               0.8         2         0.9   \n",
      "2               0.9         7         0.9   \n",
      "3               0.8         7         0.8   \n",
      "4               0.8         5         0.7   \n",
      "5               0.9         5         0.7   \n",
      "6               0.7         2         0.7   \n",
      "7               0.7         5         0.7   \n",
      "8               0.7         8         0.8   \n",
      "\n",
      "                                                        model_ids  \\\n",
      "0  Grid_GBM_py_6_sid_b45e_model_python_1562179094070_6749_model_6   \n",
      "1  Grid_GBM_py_6_sid_b45e_model_python_1562179094070_6749_model_8   \n",
      "2  Grid_GBM_py_6_sid_b45e_model_python_1562179094070_6749_model_3   \n",
      "3  Grid_GBM_py_6_sid_b45e_model_python_1562179094070_6749_model_4   \n",
      "4  Grid_GBM_py_6_sid_b45e_model_python_1562179094070_6749_model_5   \n",
      "5  Grid_GBM_py_6_sid_b45e_model_python_1562179094070_6749_model_7   \n",
      "6  Grid_GBM_py_6_sid_b45e_model_python_1562179094070_6749_model_9   \n",
      "7  Grid_GBM_py_6_sid_b45e_model_python_1562179094070_6749_model_2   \n",
      "8  Grid_GBM_py_6_sid_b45e_model_python_1562179094070_6749_model_1   \n",
      "\n",
      "                    mse  \n",
      "0   0.03465742642432903  \n",
      "1   0.03465742642432903  \n",
      "2   0.03465742642432903  \n",
      "3    0.0348456489367944  \n",
      "4   0.03521703219034697  \n",
      "5   0.03521703219034697  \n",
      "6   0.03631592178541466  \n",
      "7   0.03631592178541466  \n",
      "8  0.037503517873565685  \n",
      "\n"
     ]
    }
   ],
   "source": [
    "# Sort and show the grid search results\n",
    "gbm_rand_grid_sorted = gbm_rand_grid.get_grid(sort_by='mse', decreasing=False)\n",
    "print(gbm_rand_grid_sorted)"
   ]
  },
  {
   "cell_type": "code",
   "execution_count": 24,
   "metadata": {},
   "outputs": [
    {
     "name": "stdout",
     "output_type": "stream",
     "text": [
      "Model Summary: \n"
     ]
    },
    {
     "data": {
      "text/html": [
       "<div style=\"overflow:auto\"><table style=\"width:50%\"><tr><td><b></b></td>\n",
       "<td><b>number_of_trees</b></td>\n",
       "<td><b>number_of_internal_trees</b></td>\n",
       "<td><b>model_size_in_bytes</b></td>\n",
       "<td><b>min_depth</b></td>\n",
       "<td><b>max_depth</b></td>\n",
       "<td><b>mean_depth</b></td>\n",
       "<td><b>min_leaves</b></td>\n",
       "<td><b>max_leaves</b></td>\n",
       "<td><b>mean_leaves</b></td></tr>\n",
       "<tr><td></td>\n",
       "<td>169.0</td>\n",
       "<td>169.0</td>\n",
       "<td>15441.0</td>\n",
       "<td>1.0</td>\n",
       "<td>2.0</td>\n",
       "<td>1.5680473</td>\n",
       "<td>2.0</td>\n",
       "<td>3.0</td>\n",
       "<td>2.5680473</td></tr></table></div>"
      ],
      "text/plain": [
       "    number_of_trees    number_of_internal_trees    model_size_in_bytes    min_depth    max_depth    mean_depth    min_leaves    max_leaves    mean_leaves\n",
       "--  -----------------  --------------------------  ---------------------  -----------  -----------  ------------  ------------  ------------  -------------\n",
       "    169                169                         15441                  1            2            1.56805       2             3             2.56805"
      ]
     },
     "metadata": {},
     "output_type": "display_data"
    },
    {
     "data": {
      "text/plain": []
     },
     "execution_count": 24,
     "metadata": {},
     "output_type": "execute_result"
    }
   ],
   "source": [
    "# Extract the best model from random grid search\n",
    "best_model_id = gbm_rand_grid_sorted.model_ids[0]\n",
    "best_gbm_from_rand_grid = h2o.get_model(best_model_id)\n",
    "best_gbm_from_rand_grid.summary()"
   ]
  },
  {
   "cell_type": "code",
   "execution_count": 25,
   "metadata": {},
   "outputs": [
    {
     "name": "stdout",
     "output_type": "stream",
     "text": [
      "\n",
      "ModelMetricsRegression: gbm\n",
      "** Reported on test data. **\n",
      "\n",
      "MSE: 0.03470604228791223\n",
      "RMSE: 0.18629557774652686\n",
      "MAE: 0.1532355959450063\n",
      "RMSLE: 0.08642948601161053\n",
      "Mean Residual Deviance: 0.03470604228791223\n"
     ]
    },
    {
     "data": {
      "text/plain": []
     },
     "execution_count": 25,
     "metadata": {},
     "output_type": "execute_result"
    }
   ],
   "source": [
    "# Check the model performance on test dataset\n",
    "best_gbm_from_rand_grid.model_performance(data_test)"
   ]
  },
  {
   "cell_type": "code",
   "execution_count": 27,
   "metadata": {},
   "outputs": [
    {
     "name": "stdout",
     "output_type": "stream",
     "text": [
      "gbm prediction progress: |████████████████████████████████████████████████| 100%\n"
     ]
    }
   ],
   "source": [
    "# Predict\n",
    "prediction = best_gbm_from_rand_grid.predict(data_test).as_data_frame()\n",
    "prediction.columns = [\"h2o\"]\n",
    "prediction['sklearn'] = model_gbr.predict(X_test)\n",
    "prediction[\"true\"] = y_test\n",
    "prediction[\"h2o_residual\"] = prediction.h2o - prediction.true\n",
    "prediction[\"sklearn_residual\"] = prediction.sklearn - prediction.true"
   ]
  },
  {
   "cell_type": "code",
   "execution_count": 28,
   "metadata": {},
   "outputs": [
    {
     "data": {
      "image/png": "[encoded data removed]",
      "text/plain": [
       "<Figure size 432x288 with 1 Axes>"
      ]
     },
     "metadata": {
      "needs_background": "light"
     },
     "output_type": "display_data"
    }
   ],
   "source": [
    "sns.distplot(prediction.h2o_residual,label='h2o_residual', kde=False)\n",
    "sns.distplot(prediction.sklearn_residual, label='sklearn_residual', kde=False)\n",
    "plt.title(\"Sales Prediction\")\n",
    "plt.legend()\n",
    "plt.show()"
   ]
  }
 ],
 "metadata": {
  "kernelspec": {
   "display_name": "Python 3",
   "language": "python",
   "name": "python3"
  },
  "language_info": {
   "codemirror_mode": {
    "name": "ipython",
    "version": 3
   },
   "file_extension": ".py",
   "mimetype": "text/x-python",
   "name": "python",
   "nbconvert_exporter": "python",
   "pygments_lexer": "ipython3",
   "version": "3.6.8"
  }
 },
 "nbformat": 4,
 "nbformat_minor": 2
}
