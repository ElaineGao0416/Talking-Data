{
 "cells": [
  {
   "cell_type": "code",
   "execution_count": 16,
   "metadata": {},
   "outputs": [],
   "source": [
    "import pandas as pd\n",
    "import matplotlib.pyplot as plt\n",
    "import seaborn as sns\n",
    "import numpy as np\n",
    "from scipy.stats import norm\n",
    "from sklearn.preprocessing import StandardScaler\n",
    "from scipy import stats\n",
    "import warnings\n",
    "warnings.filterwarnings('ignore')\n",
    "%matplotlib inline"
   ]
  },
  {
   "cell_type": "code",
   "execution_count": 17,
   "metadata": {},
   "outputs": [],
   "source": [
    "train = pd.read_csv(\"train.csv\")\n",
    "test = pd.read_csv(\"test.csv\")"
   ]
  },
  {
   "cell_type": "code",
   "execution_count": 18,
   "metadata": {},
   "outputs": [
    {
     "data": {
      "text/html": [
       "<div>\n",
       "<style scoped>\n",
       "    .dataframe tbody tr th:only-of-type {\n",
       "        vertical-align: middle;\n",
       "    }\n",
       "\n",
       "    .dataframe tbody tr th {\n",
       "        vertical-align: top;\n",
       "    }\n",
       "\n",
       "    .dataframe thead th {\n",
       "        text-align: right;\n",
       "    }\n",
       "</style>\n",
       "<table border=\"1\" class=\"dataframe\">\n",
       "  <thead>\n",
       "    <tr style=\"text-align: right;\">\n",
       "      <th></th>\n",
       "      <th>Id</th>\n",
       "      <th>MSSubClass</th>\n",
       "      <th>MSZoning</th>\n",
       "      <th>LotFrontage</th>\n",
       "      <th>LotArea</th>\n",
       "      <th>Street</th>\n",
       "      <th>Alley</th>\n",
       "      <th>LotShape</th>\n",
       "      <th>LandContour</th>\n",
       "      <th>Utilities</th>\n",
       "      <th>...</th>\n",
       "      <th>PoolArea</th>\n",
       "      <th>PoolQC</th>\n",
       "      <th>Fence</th>\n",
       "      <th>MiscFeature</th>\n",
       "      <th>MiscVal</th>\n",
       "      <th>MoSold</th>\n",
       "      <th>YrSold</th>\n",
       "      <th>SaleType</th>\n",
       "      <th>SaleCondition</th>\n",
       "      <th>SalePrice</th>\n",
       "    </tr>\n",
       "  </thead>\n",
       "  <tbody>\n",
       "    <tr>\n",
       "      <th>0</th>\n",
       "      <td>1</td>\n",
       "      <td>60</td>\n",
       "      <td>RL</td>\n",
       "      <td>65.0</td>\n",
       "      <td>8450</td>\n",
       "      <td>Pave</td>\n",
       "      <td>NaN</td>\n",
       "      <td>Reg</td>\n",
       "      <td>Lvl</td>\n",
       "      <td>AllPub</td>\n",
       "      <td>...</td>\n",
       "      <td>0</td>\n",
       "      <td>NaN</td>\n",
       "      <td>NaN</td>\n",
       "      <td>NaN</td>\n",
       "      <td>0</td>\n",
       "      <td>2</td>\n",
       "      <td>2008</td>\n",
       "      <td>WD</td>\n",
       "      <td>Normal</td>\n",
       "      <td>208500</td>\n",
       "    </tr>\n",
       "    <tr>\n",
       "      <th>1</th>\n",
       "      <td>2</td>\n",
       "      <td>20</td>\n",
       "      <td>RL</td>\n",
       "      <td>80.0</td>\n",
       "      <td>9600</td>\n",
       "      <td>Pave</td>\n",
       "      <td>NaN</td>\n",
       "      <td>Reg</td>\n",
       "      <td>Lvl</td>\n",
       "      <td>AllPub</td>\n",
       "      <td>...</td>\n",
       "      <td>0</td>\n",
       "      <td>NaN</td>\n",
       "      <td>NaN</td>\n",
       "      <td>NaN</td>\n",
       "      <td>0</td>\n",
       "      <td>5</td>\n",
       "      <td>2007</td>\n",
       "      <td>WD</td>\n",
       "      <td>Normal</td>\n",
       "      <td>181500</td>\n",
       "    </tr>\n",
       "    <tr>\n",
       "      <th>2</th>\n",
       "      <td>3</td>\n",
       "      <td>60</td>\n",
       "      <td>RL</td>\n",
       "      <td>68.0</td>\n",
       "      <td>11250</td>\n",
       "      <td>Pave</td>\n",
       "      <td>NaN</td>\n",
       "      <td>IR1</td>\n",
       "      <td>Lvl</td>\n",
       "      <td>AllPub</td>\n",
       "      <td>...</td>\n",
       "      <td>0</td>\n",
       "      <td>NaN</td>\n",
       "      <td>NaN</td>\n",
       "      <td>NaN</td>\n",
       "      <td>0</td>\n",
       "      <td>9</td>\n",
       "      <td>2008</td>\n",
       "      <td>WD</td>\n",
       "      <td>Normal</td>\n",
       "      <td>223500</td>\n",
       "    </tr>\n",
       "    <tr>\n",
       "      <th>3</th>\n",
       "      <td>4</td>\n",
       "      <td>70</td>\n",
       "      <td>RL</td>\n",
       "      <td>60.0</td>\n",
       "      <td>9550</td>\n",
       "      <td>Pave</td>\n",
       "      <td>NaN</td>\n",
       "      <td>IR1</td>\n",
       "      <td>Lvl</td>\n",
       "      <td>AllPub</td>\n",
       "      <td>...</td>\n",
       "      <td>0</td>\n",
       "      <td>NaN</td>\n",
       "      <td>NaN</td>\n",
       "      <td>NaN</td>\n",
       "      <td>0</td>\n",
       "      <td>2</td>\n",
       "      <td>2006</td>\n",
       "      <td>WD</td>\n",
       "      <td>Abnorml</td>\n",
       "      <td>140000</td>\n",
       "    </tr>\n",
       "    <tr>\n",
       "      <th>4</th>\n",
       "      <td>5</td>\n",
       "      <td>60</td>\n",
       "      <td>RL</td>\n",
       "      <td>84.0</td>\n",
       "      <td>14260</td>\n",
       "      <td>Pave</td>\n",
       "      <td>NaN</td>\n",
       "      <td>IR1</td>\n",
       "      <td>Lvl</td>\n",
       "      <td>AllPub</td>\n",
       "      <td>...</td>\n",
       "      <td>0</td>\n",
       "      <td>NaN</td>\n",
       "      <td>NaN</td>\n",
       "      <td>NaN</td>\n",
       "      <td>0</td>\n",
       "      <td>12</td>\n",
       "      <td>2008</td>\n",
       "      <td>WD</td>\n",
       "      <td>Normal</td>\n",
       "      <td>250000</td>\n",
       "    </tr>\n",
       "    <tr>\n",
       "      <th>5</th>\n",
       "      <td>6</td>\n",
       "      <td>50</td>\n",
       "      <td>RL</td>\n",
       "      <td>85.0</td>\n",
       "      <td>14115</td>\n",
       "      <td>Pave</td>\n",
       "      <td>NaN</td>\n",
       "      <td>IR1</td>\n",
       "      <td>Lvl</td>\n",
       "      <td>AllPub</td>\n",
       "      <td>...</td>\n",
       "      <td>0</td>\n",
       "      <td>NaN</td>\n",
       "      <td>MnPrv</td>\n",
       "      <td>Shed</td>\n",
       "      <td>700</td>\n",
       "      <td>10</td>\n",
       "      <td>2009</td>\n",
       "      <td>WD</td>\n",
       "      <td>Normal</td>\n",
       "      <td>143000</td>\n",
       "    </tr>\n",
       "    <tr>\n",
       "      <th>6</th>\n",
       "      <td>7</td>\n",
       "      <td>20</td>\n",
       "      <td>RL</td>\n",
       "      <td>75.0</td>\n",
       "      <td>10084</td>\n",
       "      <td>Pave</td>\n",
       "      <td>NaN</td>\n",
       "      <td>Reg</td>\n",
       "      <td>Lvl</td>\n",
       "      <td>AllPub</td>\n",
       "      <td>...</td>\n",
       "      <td>0</td>\n",
       "      <td>NaN</td>\n",
       "      <td>NaN</td>\n",
       "      <td>NaN</td>\n",
       "      <td>0</td>\n",
       "      <td>8</td>\n",
       "      <td>2007</td>\n",
       "      <td>WD</td>\n",
       "      <td>Normal</td>\n",
       "      <td>307000</td>\n",
       "    </tr>\n",
       "    <tr>\n",
       "      <th>7</th>\n",
       "      <td>8</td>\n",
       "      <td>60</td>\n",
       "      <td>RL</td>\n",
       "      <td>NaN</td>\n",
       "      <td>10382</td>\n",
       "      <td>Pave</td>\n",
       "      <td>NaN</td>\n",
       "      <td>IR1</td>\n",
       "      <td>Lvl</td>\n",
       "      <td>AllPub</td>\n",
       "      <td>...</td>\n",
       "      <td>0</td>\n",
       "      <td>NaN</td>\n",
       "      <td>NaN</td>\n",
       "      <td>Shed</td>\n",
       "      <td>350</td>\n",
       "      <td>11</td>\n",
       "      <td>2009</td>\n",
       "      <td>WD</td>\n",
       "      <td>Normal</td>\n",
       "      <td>200000</td>\n",
       "    </tr>\n",
       "    <tr>\n",
       "      <th>8</th>\n",
       "      <td>9</td>\n",
       "      <td>50</td>\n",
       "      <td>RM</td>\n",
       "      <td>51.0</td>\n",
       "      <td>6120</td>\n",
       "      <td>Pave</td>\n",
       "      <td>NaN</td>\n",
       "      <td>Reg</td>\n",
       "      <td>Lvl</td>\n",
       "      <td>AllPub</td>\n",
       "      <td>...</td>\n",
       "      <td>0</td>\n",
       "      <td>NaN</td>\n",
       "      <td>NaN</td>\n",
       "      <td>NaN</td>\n",
       "      <td>0</td>\n",
       "      <td>4</td>\n",
       "      <td>2008</td>\n",
       "      <td>WD</td>\n",
       "      <td>Abnorml</td>\n",
       "      <td>129900</td>\n",
       "    </tr>\n",
       "  </tbody>\n",
       "</table>\n",
       "<p>9 rows × 81 columns</p>\n",
       "</div>"
      ],
      "text/plain": [
       "   Id  MSSubClass MSZoning  LotFrontage  LotArea Street Alley LotShape  \\\n",
       "0   1          60       RL         65.0     8450   Pave   NaN      Reg   \n",
       "1   2          20       RL         80.0     9600   Pave   NaN      Reg   \n",
       "2   3          60       RL         68.0    11250   Pave   NaN      IR1   \n",
       "3   4          70       RL         60.0     9550   Pave   NaN      IR1   \n",
       "4   5          60       RL         84.0    14260   Pave   NaN      IR1   \n",
       "5   6          50       RL         85.0    14115   Pave   NaN      IR1   \n",
       "6   7          20       RL         75.0    10084   Pave   NaN      Reg   \n",
       "7   8          60       RL          NaN    10382   Pave   NaN      IR1   \n",
       "8   9          50       RM         51.0     6120   Pave   NaN      Reg   \n",
       "\n",
       "  LandContour Utilities  ... PoolArea PoolQC  Fence MiscFeature MiscVal  \\\n",
       "0         Lvl    AllPub  ...        0    NaN    NaN         NaN       0   \n",
       "1         Lvl    AllPub  ...        0    NaN    NaN         NaN       0   \n",
       "2         Lvl    AllPub  ...        0    NaN    NaN         NaN       0   \n",
       "3         Lvl    AllPub  ...        0    NaN    NaN         NaN       0   \n",
       "4         Lvl    AllPub  ...        0    NaN    NaN         NaN       0   \n",
       "5         Lvl    AllPub  ...        0    NaN  MnPrv        Shed     700   \n",
       "6         Lvl    AllPub  ...        0    NaN    NaN         NaN       0   \n",
       "7         Lvl    AllPub  ...        0    NaN    NaN        Shed     350   \n",
       "8         Lvl    AllPub  ...        0    NaN    NaN         NaN       0   \n",
       "\n",
       "  MoSold YrSold  SaleType  SaleCondition  SalePrice  \n",
       "0      2   2008        WD         Normal     208500  \n",
       "1      5   2007        WD         Normal     181500  \n",
       "2      9   2008        WD         Normal     223500  \n",
       "3      2   2006        WD        Abnorml     140000  \n",
       "4     12   2008        WD         Normal     250000  \n",
       "5     10   2009        WD         Normal     143000  \n",
       "6      8   2007        WD         Normal     307000  \n",
       "7     11   2009        WD         Normal     200000  \n",
       "8      4   2008        WD        Abnorml     129900  \n",
       "\n",
       "[9 rows x 81 columns]"
      ]
     },
     "execution_count": 18,
     "metadata": {},
     "output_type": "execute_result"
    }
   ],
   "source": [
    "train.head(9)\n",
    "#train.columns   # Briefly check the data set"
   ]
  },
  {
   "cell_type": "code",
   "execution_count": 19,
   "metadata": {},
   "outputs": [],
   "source": [
    "# As data description said, some \"Na\" means \"None\"\n",
    "train[\"PoolQC\"]      = train[\"PoolQC\"].fillna(\"None\")\n",
    "train[\"MiscFeature\"] = train[\"MiscFeature\"].fillna(\"None\")\n",
    "train[\"Alley\"]       = train[\"Alley\"].fillna(\"None\")\n",
    "train[\"Fence\"]       = train[\"Fence\"].fillna(\"None\")\n",
    "train[\"FireplaceQu\"] = train[\"FireplaceQu\"].fillna(\"None\")\n",
    "\n",
    "# Utilities\" is useless, because its values are the same\n",
    "train = train.drop([\"Utilities\"],axis=1)\n",
    "\n",
    "# Some columns without values are most likely meaning \"None\"\n",
    "for col in ('GarageType', 'GarageFinish', 'GarageQual', 'GarageCond'):\n",
    "    train[col] = train[col].fillna('None')\n",
    "for col in ('GarageYrBlt', 'GarageArea', 'GarageCars'):\n",
    "    train[col] = train[col].fillna(0)\n",
    "for col in ('BsmtFinSF1', 'BsmtFinSF2', 'BsmtUnfSF','TotalBsmtSF', 'BsmtFullBath', 'BsmtHalfBath'):\n",
    "    train[col] = train[col].fillna(0)\n",
    "for col in ('BsmtQual', 'BsmtCond', 'BsmtExposure', 'BsmtFinType1', 'BsmtFinType2'):\n",
    "    train[col] = train[col].fillna('None')\n",
    "train[\"MasVnrType\"] = train[\"MasVnrType\"].fillna(\"None\")\n",
    "train[\"MasVnrArea\"] = train[\"MasVnrArea\"].fillna(0)\n",
    "\n",
    "#Group by neighborhood and fill in missing value by the median LotFrontage of all the neighborhood\n",
    "train[\"LotFrontage\"] = train.groupby(\"Neighborhood\")[\"LotFrontage\"].transform(\n",
    "    lambda x: x.fillna(x.median()))\n",
    "\n",
    "\n",
    "# Do the same to the test set\n",
    "# As data description said, some \"Na\" means \"None\"\n",
    "test[\"PoolQC\"]      = test[\"PoolQC\"].fillna(\"None\")\n",
    "test[\"MiscFeature\"] = test[\"MiscFeature\"].fillna(\"None\")\n",
    "test[\"Alley\"]       = test[\"Alley\"].fillna(\"None\")\n",
    "test[\"Fence\"]       = test[\"Fence\"].fillna(\"None\")\n",
    "test[\"FireplaceQu\"] = test[\"FireplaceQu\"].fillna(\"None\")\n",
    "\n",
    "# Utilities\" is useless, because its values are the same\n",
    "test = test.drop([\"Utilities\"],axis=1)\n",
    "\n",
    "# Some columns without values are most likely meaning \"None\"\n",
    "for col in ('GarageType', 'GarageFinish', 'GarageQual', 'GarageCond'):\n",
    "    test[col] = test[col].fillna('None')\n",
    "for col in ('GarageYrBlt', 'GarageArea', 'GarageCars'):\n",
    "    test[col] = test[col].fillna(0)\n",
    "for col in ('BsmtFinSF1', 'BsmtFinSF2', 'BsmtUnfSF','TotalBsmtSF', 'BsmtFullBath', 'BsmtHalfBath'):\n",
    "    test[col] = test[col].fillna(0)\n",
    "for col in ('BsmtQual', 'BsmtCond', 'BsmtExposure', 'BsmtFinType1', 'BsmtFinType2'):\n",
    "    test[col] = test[col].fillna('None')\n",
    "test[\"MasVnrType\"] = test[\"MasVnrType\"].fillna(\"None\")\n",
    "test[\"MasVnrArea\"] = test[\"MasVnrArea\"].fillna(0)\n",
    "\n",
    "#Group by neighborhood and fill in missing value by the median LotFrontage of all the neighborhood\n",
    "test[\"LotFrontage\"] = test.groupby(\"Neighborhood\")[\"LotFrontage\"].transform(\n",
    "    lambda x: x.fillna(x.median()))"
   ]
  },
  {
   "cell_type": "code",
   "execution_count": 20,
   "metadata": {},
   "outputs": [],
   "source": [
    "# But testing set still has some missing value\n",
    "miss_list = test.columns[test.isnull().any()]\n",
    "\n",
    "# I am planing to fill them with mode value of training set\n",
    "for i in miss_list:\n",
    "    try:\n",
    "        test[i] = test[i].fillna(train[i].mode()[0])\n",
    "    except:\n",
    "        test[i] = test[i].fillna(train[i].max())"
   ]
  },
  {
   "cell_type": "code",
   "execution_count": 21,
   "metadata": {},
   "outputs": [],
   "source": [
    "## Missing value first\n",
    "total   = train.isnull().sum().sort_values(ascending=False)\n",
    "percent = (train.isnull().sum()/train.isnull().count()).sort_values(ascending=False)\n",
    "missing_data = pd.concat([total, percent], axis=1, keys=['Total', 'Percent'])\n",
    "mess_column  = missing_data.index[missing_data.Total >= 90]\n",
    "train = train.drop(mess_column, axis=1)\n",
    "train = train.dropna(axis=0)"
   ]
  },
  {
   "cell_type": "code",
   "execution_count": 22,
   "metadata": {},
   "outputs": [
    {
     "data": {
      "image/png": "[encoded data removed]",
      "text/plain": [
       "<Figure size 432x288 with 1 Axes>"
      ]
     },
     "metadata": {
      "needs_background": "light"
     },
     "output_type": "display_data"
    },
    {
     "name": "stdout",
     "output_type": "stream",
     "text": [
      "Skewness: 1.881943\n",
      "Kurtosis: 6.529263\n"
     ]
    },
    {
     "data": {
      "image/png": "[encoded data removed]",
      "text/plain": [
       "<Figure size 432x288 with 1 Axes>"
      ]
     },
     "metadata": {
      "needs_background": "light"
     },
     "output_type": "display_data"
    },
    {
     "name": "stdout",
     "output_type": "stream",
     "text": [
      "Skewness: 0.121318\n",
      "Kurtosis: 0.806928\n"
     ]
    }
   ],
   "source": [
    "# Analyze the response\n",
    "train['SalePrice'].describe()\n",
    "# histogram\n",
    "sns.distplot(train['SalePrice'])  \n",
    "plt.title(\"salse price\")\n",
    "plt.show()                                           # seems a littile skewed\n",
    "print(\"Skewness: %f\" % train['SalePrice'].skew())\n",
    "print(\"Kurtosis: %f\" % train['SalePrice'].kurt())\n",
    "\n",
    "# Adding logrithm to response\n",
    "train[\"SalePrice\"] = np.log(train['SalePrice'])\n",
    "sns.distplot(train['SalePrice'])\n",
    "plt.title(\"log(salse price)\")\n",
    "plt.show()                                          #seems normal\n",
    "print(\"Skewness: %f\" % train['SalePrice'].skew())\n",
    "print(\"Kurtosis: %f\" % train['SalePrice'].kurt())"
   ]
  },
  {
   "cell_type": "code",
   "execution_count": 23,
   "metadata": {},
   "outputs": [
    {
     "name": "stdout",
     "output_type": "stream",
     "text": [
      "<class 'pandas.core.frame.DataFrame'>\n",
      "Int64Index: 1459 entries, 0 to 1459\n",
      "Data columns (total 80 columns):\n",
      "Id               1459 non-null int64\n",
      "MSSubClass       1459 non-null int64\n",
      "MSZoning         1459 non-null object\n",
      "LotFrontage      1459 non-null float64\n",
      "LotArea          1459 non-null int64\n",
      "Street           1459 non-null object\n",
      "Alley            1459 non-null object\n",
      "LotShape         1459 non-null object\n",
      "LandContour      1459 non-null object\n",
      "LotConfig        1459 non-null object\n",
      "LandSlope        1459 non-null object\n",
      "Neighborhood     1459 non-null object\n",
      "Condition1       1459 non-null object\n",
      "Condition2       1459 non-null object\n",
      "BldgType         1459 non-null object\n",
      "HouseStyle       1459 non-null object\n",
      "OverallQual      1459 non-null int64\n",
      "OverallCond      1459 non-null int64\n",
      "YearBuilt        1459 non-null int64\n",
      "YearRemodAdd     1459 non-null int64\n",
      "RoofStyle        1459 non-null object\n",
      "RoofMatl         1459 non-null object\n",
      "Exterior1st      1459 non-null object\n",
      "Exterior2nd      1459 non-null object\n",
      "MasVnrType       1459 non-null object\n",
      "MasVnrArea       1459 non-null float64\n",
      "ExterQual        1459 non-null object\n",
      "ExterCond        1459 non-null object\n",
      "Foundation       1459 non-null object\n",
      "BsmtQual         1459 non-null object\n",
      "BsmtCond         1459 non-null object\n",
      "BsmtExposure     1459 non-null object\n",
      "BsmtFinType1     1459 non-null object\n",
      "BsmtFinSF1       1459 non-null int64\n",
      "BsmtFinType2     1459 non-null object\n",
      "BsmtFinSF2       1459 non-null int64\n",
      "BsmtUnfSF        1459 non-null int64\n",
      "TotalBsmtSF      1459 non-null int64\n",
      "Heating          1459 non-null object\n",
      "HeatingQC        1459 non-null object\n",
      "CentralAir       1459 non-null object\n",
      "Electrical       1459 non-null object\n",
      "1stFlrSF         1459 non-null int64\n",
      "2ndFlrSF         1459 non-null int64\n",
      "LowQualFinSF     1459 non-null int64\n",
      "GrLivArea        1459 non-null int64\n",
      "BsmtFullBath     1459 non-null int64\n",
      "BsmtHalfBath     1459 non-null int64\n",
      "FullBath         1459 non-null int64\n",
      "HalfBath         1459 non-null int64\n",
      "BedroomAbvGr     1459 non-null int64\n",
      "KitchenAbvGr     1459 non-null int64\n",
      "KitchenQual      1459 non-null object\n",
      "TotRmsAbvGrd     1459 non-null int64\n",
      "Functional       1459 non-null object\n",
      "Fireplaces       1459 non-null int64\n",
      "FireplaceQu      1459 non-null object\n",
      "GarageType       1459 non-null object\n",
      "GarageYrBlt      1459 non-null float64\n",
      "GarageFinish     1459 non-null object\n",
      "GarageCars       1459 non-null int64\n",
      "GarageArea       1459 non-null int64\n",
      "GarageQual       1459 non-null object\n",
      "GarageCond       1459 non-null object\n",
      "PavedDrive       1459 non-null object\n",
      "WoodDeckSF       1459 non-null int64\n",
      "OpenPorchSF      1459 non-null int64\n",
      "EnclosedPorch    1459 non-null int64\n",
      "3SsnPorch        1459 non-null int64\n",
      "ScreenPorch      1459 non-null int64\n",
      "PoolArea         1459 non-null int64\n",
      "PoolQC           1459 non-null object\n",
      "Fence            1459 non-null object\n",
      "MiscFeature      1459 non-null object\n",
      "MiscVal          1459 non-null int64\n",
      "MoSold           1459 non-null int64\n",
      "YrSold           1459 non-null int64\n",
      "SaleType         1459 non-null object\n",
      "SaleCondition    1459 non-null object\n",
      "SalePrice        1459 non-null float64\n",
      "dtypes: float64(4), int64(34), object(42)\n",
      "memory usage: 923.3+ KB\n",
      "<class 'pandas.core.frame.DataFrame'>\n",
      "Int64Index: 1459 entries, 0 to 1459\n",
      "Data columns (total 38 columns):\n",
      "Id               1459 non-null int64\n",
      "MSSubClass       1459 non-null int64\n",
      "LotFrontage      1459 non-null float64\n",
      "LotArea          1459 non-null int64\n",
      "OverallQual      1459 non-null int64\n",
      "OverallCond      1459 non-null int64\n",
      "YearBuilt        1459 non-null int64\n",
      "YearRemodAdd     1459 non-null int64\n",
      "MasVnrArea       1459 non-null float64\n",
      "BsmtFinSF1       1459 non-null int64\n",
      "BsmtFinSF2       1459 non-null int64\n",
      "BsmtUnfSF        1459 non-null int64\n",
      "TotalBsmtSF      1459 non-null int64\n",
      "1stFlrSF         1459 non-null int64\n",
      "2ndFlrSF         1459 non-null int64\n",
      "LowQualFinSF     1459 non-null int64\n",
      "GrLivArea        1459 non-null int64\n",
      "BsmtFullBath     1459 non-null int64\n",
      "BsmtHalfBath     1459 non-null int64\n",
      "FullBath         1459 non-null int64\n",
      "HalfBath         1459 non-null int64\n",
      "BedroomAbvGr     1459 non-null int64\n",
      "KitchenAbvGr     1459 non-null int64\n",
      "TotRmsAbvGrd     1459 non-null int64\n",
      "Fireplaces       1459 non-null int64\n",
      "GarageYrBlt      1459 non-null float64\n",
      "GarageCars       1459 non-null int64\n",
      "GarageArea       1459 non-null int64\n",
      "WoodDeckSF       1459 non-null int64\n",
      "OpenPorchSF      1459 non-null int64\n",
      "EnclosedPorch    1459 non-null int64\n",
      "3SsnPorch        1459 non-null int64\n",
      "ScreenPorch      1459 non-null int64\n",
      "PoolArea         1459 non-null int64\n",
      "MiscVal          1459 non-null int64\n",
      "MoSold           1459 non-null int64\n",
      "YrSold           1459 non-null int64\n",
      "SalePrice        1459 non-null float64\n",
      "dtypes: float64(4), int64(34)\n",
      "memory usage: 444.5 KB\n"
     ]
    }
   ],
   "source": [
    "# Checking Missing Value\n",
    "train.info()\n",
    "\n",
    "# Get numerical data\n",
    "train_numeric = train._get_numeric_data()\n",
    "train_numeric.info()\n",
    "\n",
    "# Get the rest of the data\n",
    "num_list = train_numeric.columns.tolist()\n",
    "rest_list = train.columns.tolist()\n",
    "rest_list = [i for i in rest_list if i not in num_list]\n",
    "\n",
    "train_rest = train[rest_list]"
   ]
  },
  {
   "cell_type": "code",
   "execution_count": 25,
   "metadata": {},
   "outputs": [
    {
     "data": {
      "image/png": "[encoded data removed]",
      "text/plain": [
       "<Figure size 864x648 with 2 Axes>"
      ]
     },
     "metadata": {
      "needs_background": "light"
     },
     "output_type": "display_data"
    }
   ],
   "source": [
    "#let's look at the correlation between vatiables\n",
    "corrmat = train_numeric.corr()\n",
    "f, ax = plt.subplots(figsize=(12, 9))\n",
    "sns.heatmap(corrmat, vmax=.8, square=True); \n",
    "# Seems like there is a multicollinearity problem"
   ]
  },
  {
   "cell_type": "code",
   "execution_count": 26,
   "metadata": {},
   "outputs": [],
   "source": [
    "col_corr = corrmat.columns\n",
    "multico = dict()\n",
    "for i in col_corr:\n",
    "    for j in corrmat[i][corrmat[i] > 0.8 ].index:\n",
    "        if i != j and i in multico.keys():\n",
    "            multico[i] = multico[i].append(j)\n",
    "        else:\n",
    "            if i != j and j not in multico.keys():\n",
    "                multico[i] = [j]\n",
    "    \n",
    "    for j in corrmat[i][corrmat[i] < -0.8 ].index:\n",
    "        if i != j & multico[i]:\n",
    "            multico[i] = multico[i].append(j)\n",
    "        else:\n",
    "            if i != j :\n",
    "                multico[i] = [j]"
   ]
  },
  {
   "cell_type": "code",
   "execution_count": 27,
   "metadata": {},
   "outputs": [],
   "source": [
    "train['MSSubClass'] = train['MSSubClass'].apply(str)\n",
    "train['OverallCond'] = train['OverallCond'].astype(str)\n",
    "\n",
    "#Year and month sold are transformed into categorical features.\n",
    "train['YrSold'] = train['YrSold'].astype(str)\n",
    "train['MoSold'] = train['MoSold'].astype(str)\n",
    "\n",
    "test['MSSubClass'] = test['MSSubClass'].apply(str)\n",
    "test['OverallCond'] = test['OverallCond'].astype(str)\n",
    "\n",
    "#Year and month sold are transformed into categorical features.\n",
    "test['YrSold'] = test['YrSold'].astype(str)\n",
    "test['MoSold'] = test['MoSold'].astype(str)"
   ]
  },
  {
   "cell_type": "code",
   "execution_count": 28,
   "metadata": {},
   "outputs": [],
   "source": [
    "cols = [\"Street\", \"MSZoning\", \"Alley\", \"LotShape\", \"LandContour\", \"PoolQC\", \"Fence\", \"MasVnrType\",\n",
    "      \"SaleType\", \"SaleCondition\", \"YrSold\", \"LotConfig\", \"LandSlope\", \"Neighborhood\", \"Condition1\",\n",
    "      \"Condition2\", \"BldgType\", \"HouseStyle\", \"RoofStyle\", \"RoofMatl\", \"Exterior1st\", \"Exterior2nd\",\n",
    "      \"SaleCondition\", \"SaleType\", \"Fence\", \"MiscFeature\", \"PoolQC\", \"KitchenQual\", \"Functional\",\n",
    "      \"GarageType\", \"GarageQual\", \"BsmtCond\",\"BsmtQual\", \"Heating\", \"HeatingQC\", \"CentralAir\",\n",
    "      \"Electrical\", \"ExterCond\", \"ExterQual\", \"Foundation\", \"BsmtExposure\", \"YrSold\", \"MoSold\",\n",
    "      \"MSSubClass\", \"OverallCond\", \"BsmtFinType1\", \"FireplaceQu\", \"PavedDrive\", \"BsmtFinType1\",\n",
    "       \"BsmtFinType2\",\"GarageFinish\", \"GarageCond\"]"
   ]
  },
  {
   "cell_type": "code",
   "execution_count": 29,
   "metadata": {},
   "outputs": [],
   "source": [
    "from sklearn.preprocessing import LabelEncoder\n",
    "column_name = []\n",
    "for c in cols:\n",
    "    lbl = LabelEncoder() \n",
    "    lbl.fit(list(train[c].values) + list(test[c].values)) \n",
    "    for i in lbl.classes_:\n",
    "        name = str(c) + \"_\" + str(i)\n",
    "        column_name.append(name)\n",
    "    #print(c)\n",
    "    train[c] = lbl.transform(list(train[c].values))\n",
    "    test[c] = lbl.transform(list(test[c].values))"
   ]
  },
  {
   "cell_type": "code",
   "execution_count": 30,
   "metadata": {},
   "outputs": [],
   "source": [
    "train.shape\n",
    "y = train[\"SalePrice\"]\n",
    "train = train.drop(\"SalePrice\",axis=1)"
   ]
  },
  {
   "cell_type": "code",
   "execution_count": 31,
   "metadata": {},
   "outputs": [],
   "source": [
    "from sklearn.preprocessing import OneHotEncoder\n",
    "enc = OneHotEncoder(handle_unknown='error')\n",
    "enc.fit(pd.concat([train[cols],test[cols]]))\n",
    "train = train.reset_index()\n",
    "test  = test.reset_index()\n",
    "train[column_name] = pd.DataFrame(enc.transform(train[cols]).toarray(), columns = column_name)\n",
    "test[column_name]  = pd.DataFrame(enc.transform(test[cols]).toarray(), columns = column_name)\n",
    "#print(enc.get_feature_names())\n",
    "train = train.drop(cols, axis=1)\n",
    "test = test.drop(cols, axis=1)"
   ]
  },
  {
   "cell_type": "code",
   "execution_count": 46,
   "metadata": {},
   "outputs": [],
   "source": [
    "from sklearn.model_selection import train_test_split\n",
    "X_train, X_test, y_train, y_test = train_test_split(train, y, test_size=0.33, random_state=4)"
   ]
  },
  {
   "cell_type": "code",
   "execution_count": 33,
   "metadata": {},
   "outputs": [],
   "source": [
    "from sklearn.decomposition import PCA\n",
    "pca = PCA(n_components=120)\n",
    "pca.fit(X_train)\n",
    "X_train = pca.transform(X_train)\n",
    "X_test  = pca.transform(X_test)\n",
    "test    =  pca.transform(test)"
   ]
  },
  {
   "cell_type": "markdown",
   "metadata": {},
   "source": [
    "## Sklearn model selection"
   ]
  },
  {
   "cell_type": "code",
   "execution_count": 30,
   "metadata": {},
   "outputs": [],
   "source": [
    "from sklearn.linear_model import LinearRegression\n",
    "from sklearn import linear_model\n",
    "from sklearn.linear_model import Ridge\n",
    "from sklearn.linear_model import ElasticNet\n",
    "from sklearn.tree import DecisionTreeRegressor\n",
    "from sklearn.ensemble import RandomForestRegressor\n",
    "from sklearn.metrics import mean_squared_error\n",
    "from sklearn.model_selection import GridSearchCV\n",
    "from sklearn import metrics"
   ]
  },
  {
   "cell_type": "code",
   "execution_count": 23,
   "metadata": {},
   "outputs": [
    {
     "name": "stdout",
     "output_type": "stream",
     "text": [
      "0.02534540302509131\n",
      "0.025345403025089246\n",
      "0.02536852812445422\n",
      "0.027184732099525762\n",
      "0.06776032585760612\n",
      "0.028809725683075067\n"
     ]
    }
   ],
   "source": [
    "compare_dic = {}\n",
    "# Linear Regression\n",
    "reg1 = LinearRegression()\n",
    "# Lasso model\n",
    "parameters = {\"alpha\" : [i/100 for i in range(0,80,5)]}\n",
    "reg2 = linear_model.Lasso()\n",
    "Lasso = GridSearchCV(reg2, parameters, cv = 5)\n",
    "# Ridge Regression\n",
    "parameters = {\"alpha\" : [i/100 for i in range(0,80,5)]}\n",
    "reg3 = Ridge()\n",
    "Ridge = GridSearchCV(reg3, parameters, cv = 5)\n",
    "#Elastic Net\n",
    "parameters = {\"alpha\" : [i/100 for i in range(0,80,5)], \"l1_ratio\":[i/100 for i in range(0,80,5)]}\n",
    "reg4 = ElasticNet(random_state=0)\n",
    "Ela = GridSearchCV(reg4, parameters, cv = 5)\n",
    "#Desition Tree\n",
    "parameters = {\"max_depth\" : [30,50,80,15,20,25]}\n",
    "dt   = DecisionTreeRegressor()\n",
    "model_dt = GridSearchCV(dt, parameters, cv = 5)\n",
    "#Random Forest\n",
    "parameters = {\"n_estimators\" : [10,50,100,300,350], \"max_depth\" : [30,56,70,85,10]}\n",
    "rf   = RandomForestRegressor(random_state=0)\n",
    "model_RF = GridSearchCV(rf, parameters, cv = 5)\n",
    "\n",
    "model_list = [reg1, Lasso, Ridge, Ela, model_dt, model_RF]\n",
    "model_name = [\"Linear Regression\", \"Lasso Regression\", \"Ridge Regression\", \"Elastic Net\", \"Decision Tree\", \"Random Forest\"]\n",
    "for i in range(len(model_list)):\n",
    "    model = model_list[i]\n",
    "    model.fit(X_train, y_train)\n",
    "    pred = model.predict(X_test)\n",
    "    compare_dic[model_name[i]] = mean_squared_error(y_test, pred, )\n",
    "    print(metrics.mean_squared_error(y_test, pred))"
   ]
  },
  {
   "cell_type": "markdown",
   "metadata": {},
   "source": [
    "## H2O"
   ]
  },
  {
   "cell_type": "code",
   "execution_count": 34,
   "metadata": {},
   "outputs": [
    {
     "name": "stdout",
     "output_type": "stream",
     "text": [
      "Checking whether there is an H2O instance running at http://localhost:54321 . connected.\n"
     ]
    },
    {
     "data": {
      "text/html": [
       "<div style=\"overflow:auto\"><table style=\"width:50%\"><tr><td>H2O cluster uptime:</td>\n",
       "<td>25 mins 47 secs</td></tr>\n",
       "<tr><td>H2O cluster timezone:</td>\n",
       "<td>America/Los_Angeles</td></tr>\n",
       "<tr><td>H2O data parsing timezone:</td>\n",
       "<td>UTC</td></tr>\n",
       "<tr><td>H2O cluster version:</td>\n",
       "<td>3.24.0.5</td></tr>\n",
       "<tr><td>H2O cluster version age:</td>\n",
       "<td>8 days </td></tr>\n",
       "<tr><td>H2O cluster name:</td>\n",
       "<td>H2O_from_python_gaozhiping_ajfodx</td></tr>\n",
       "<tr><td>H2O cluster total nodes:</td>\n",
       "<td>1</td></tr>\n",
       "<tr><td>H2O cluster free memory:</td>\n",
       "<td>1.611 Gb</td></tr>\n",
       "<tr><td>H2O cluster total cores:</td>\n",
       "<td>4</td></tr>\n",
       "<tr><td>H2O cluster allowed cores:</td>\n",
       "<td>4</td></tr>\n",
       "<tr><td>H2O cluster status:</td>\n",
       "<td>locked, healthy</td></tr>\n",
       "<tr><td>H2O connection url:</td>\n",
       "<td>http://localhost:54321</td></tr>\n",
       "<tr><td>H2O connection proxy:</td>\n",
       "<td>None</td></tr>\n",
       "<tr><td>H2O internal security:</td>\n",
       "<td>False</td></tr>\n",
       "<tr><td>H2O API Extensions:</td>\n",
       "<td>Amazon S3, XGBoost, Algos, AutoML, Core V3, Core V4</td></tr>\n",
       "<tr><td>Python version:</td>\n",
       "<td>3.6.8 final</td></tr></table></div>"
      ],
      "text/plain": [
       "--------------------------  ---------------------------------------------------\n",
       "H2O cluster uptime:         25 mins 47 secs\n",
       "H2O cluster timezone:       America/Los_Angeles\n",
       "H2O data parsing timezone:  UTC\n",
       "H2O cluster version:        3.24.0.5\n",
       "H2O cluster version age:    8 days\n",
       "H2O cluster name:           H2O_from_python_gaozhiping_ajfodx\n",
       "H2O cluster total nodes:    1\n",
       "H2O cluster free memory:    1.611 Gb\n",
       "H2O cluster total cores:    4\n",
       "H2O cluster allowed cores:  4\n",
       "H2O cluster status:         locked, healthy\n",
       "H2O connection url:         http://localhost:54321\n",
       "H2O connection proxy:\n",
       "H2O internal security:      False\n",
       "H2O API Extensions:         Amazon S3, XGBoost, Algos, AutoML, Core V3, Core V4\n",
       "Python version:             3.6.8 final\n",
       "--------------------------  ---------------------------------------------------"
      ]
     },
     "metadata": {},
     "output_type": "display_data"
    }
   ],
   "source": [
    "import h2o\n",
    "h2o.init()\n",
    "h2o.remove_all()"
   ]
  },
  {
   "cell_type": "code",
   "execution_count": 35,
   "metadata": {},
   "outputs": [],
   "source": [
    "from h2o.estimators.glm import H2OGeneralizedLinearEstimator\n",
    "from h2o.frame import H2OFrame\n",
    "import time"
   ]
  },
  {
   "cell_type": "markdown",
   "metadata": {},
   "source": [
    "### H2OGeneralizedLinearEstimator model"
   ]
  },
  {
   "cell_type": "code",
   "execution_count": 36,
   "metadata": {},
   "outputs": [
    {
     "name": "stdout",
     "output_type": "stream",
     "text": [
      "Parse progress: |█████████████████████████████████████████████████████████| 100%\n",
      "Parse progress: |█████████████████████████████████████████████████████████| 100%\n"
     ]
    }
   ],
   "source": [
    "# X_train, X_test, y_train, y_test\n",
    "\n",
    "x_name = [str(i) for i in range(120)]\n",
    "y_name = 'SalePrice'\n",
    "\n",
    "train_h = pd.DataFrame(X_train, columns=x_name).copy()\n",
    "train_h['SalePrice'] = y_train\n",
    "train_h = H2OFrame(train_h)\n",
    "\n",
    "valid_h = pd.DataFrame(X_test, columns=x_name).copy()\n",
    "valid_h['SalePrice'] = [float(i) for i in y_test]\n",
    "valid_h = H2OFrame(valid_h)"
   ]
  },
  {
   "cell_type": "code",
   "execution_count": 268,
   "metadata": {},
   "outputs": [
    {
     "name": "stdout",
     "output_type": "stream",
     "text": [
      "glm Model Build progress: |███████████████████████████████████████████████| 100%\n",
      "--- 0.27477025985717773 seconds ---\n"
     ]
    }
   ],
   "source": [
    "start_time = time.time()\n",
    "glm_model = H2OGeneralizedLinearEstimator(family= \"gaussian\",lambda_ = 0)\n",
    "glm_model.train(x_name, y_name, training_frame= train_h)\n",
    "print(\"--- %s seconds ---\" % (time.time() - start_time))"
   ]
  },
  {
   "cell_type": "code",
   "execution_count": 269,
   "metadata": {},
   "outputs": [
    {
     "name": "stdout",
     "output_type": "stream",
     "text": [
      "Model Details\n",
      "=============\n",
      "H2OGeneralizedLinearEstimator :  Generalized Linear Modeling\n",
      "Model Key:  GLM_model_python_1561591121775_1961\n",
      "\n",
      "\n",
      "ModelMetricsRegressionGLM: glm\n",
      "** Reported on train data. **\n",
      "\n",
      "MSE: 0.1344185239118812\n",
      "RMSE: 0.36663131878207184\n",
      "MAE: 0.2850332839140359\n",
      "RMSLE: 0.02818312085086203\n",
      "R^2: 0.2047279874238166\n",
      "Mean Residual Deviance: 0.1344185239118812\n",
      "Null degrees of freedom: 647\n",
      "Residual degrees of freedom: 527\n",
      "Null deviance: 109.52630309826743\n",
      "Residual deviance: 87.103203494899\n",
      "AIC: 782.5398612183282\n",
      "Scoring History: \n"
     ]
    },
    {
     "data": {
      "text/html": [
       "<div style=\"overflow:auto\"><table style=\"width:50%\"><tr><td><b></b></td>\n",
       "<td><b>timestamp</b></td>\n",
       "<td><b>duration</b></td>\n",
       "<td><b>iterations</b></td>\n",
       "<td><b>negative_log_likelihood</b></td>\n",
       "<td><b>objective</b></td></tr>\n",
       "<tr><td></td>\n",
       "<td>2019-06-26 17:26:20</td>\n",
       "<td> 0.000 sec</td>\n",
       "<td>0</td>\n",
       "<td>109.5262987</td>\n",
       "<td>0.1121047</td></tr></table></div>"
      ],
      "text/plain": [
       "    timestamp            duration    iterations    negative_log_likelihood    objective\n",
       "--  -------------------  ----------  ------------  -------------------------  -----------\n",
       "    2019-06-26 17:26:20  0.000 sec   0             109.526                    0.112105"
      ]
     },
     "metadata": {},
     "output_type": "display_data"
    }
   ],
   "source": [
    "glm_model.show()"
   ]
  },
  {
   "cell_type": "code",
   "execution_count": 270,
   "metadata": {},
   "outputs": [
    {
     "data": {
      "text/plain": [
       "0.20931177795716363"
      ]
     },
     "execution_count": 270,
     "metadata": {},
     "output_type": "execute_result"
    }
   ],
   "source": [
    "glm_model.model_performance(valid_h).mse()"
   ]
  },
  {
   "cell_type": "code",
   "execution_count": 271,
   "metadata": {},
   "outputs": [
    {
     "name": "stdout",
     "output_type": "stream",
     "text": [
      "Parse progress: |█████████████████████████████████████████████████████████| 100%\n",
      "glm prediction progress: |████████████████████████████████████████████████| 100%\n",
      "0.2093117578387039\n"
     ]
    }
   ],
   "source": [
    "pred = glm_model.predict(H2OFrame(pd.DataFrame(X_test, columns=x))).as_data_frame()\n",
    "print(metrics.mean_squared_error(y_test, pred.predict))"
   ]
  },
  {
   "cell_type": "code",
   "execution_count": 305,
   "metadata": {},
   "outputs": [
    {
     "data": {
      "text/plain": [
       "{'Intercept': 12.021007227146663,\n",
       " '0': -4.3149589497984766e-07,\n",
       " '1': -3.648211980318325e-05,\n",
       " '2': 4.0884515794006095e-05,\n",
       " '3': -1.8479433673806464e-05,\n",
       " '4': -4.851819938904061e-05,\n",
       " '5': -2.8897542276625755e-05,\n",
       " '6': 9.086635707671087e-05,\n",
       " '7': -4.175763190191141e-05,\n",
       " '8': 7.918558277122044e-05,\n",
       " '9': -9.958297936799302e-05,\n",
       " '10': -0.0001825663991892302,\n",
       " '11': -8.881079228466454e-06,\n",
       " '12': -0.00019546685862441537,\n",
       " '13': 0.0009015071816325006,\n",
       " '14': 0.00010943341051724787,\n",
       " '15': 0.00022265688825315422,\n",
       " '16': 0.00023034338002216403,\n",
       " '17': 0.0007862815921356206,\n",
       " '18': 0.00031491782506056675,\n",
       " '19': -0.00032124965354930773,\n",
       " '20': 0.00033027860952842544,\n",
       " '21': -0.013065032902180423,\n",
       " '22': 0.02442201470482555,\n",
       " '23': 0.01805647624698519,\n",
       " '24': -0.015457937330641212,\n",
       " '25': 0.011806252582779505,\n",
       " '26': -0.02049030650856075,\n",
       " '27': 0.022643893029868623,\n",
       " '28': -0.0071058359206975326,\n",
       " '29': -0.03045182314432478,\n",
       " '30': -0.07655546415258342,\n",
       " '31': -0.011018585003453098,\n",
       " '32': 0.05832997923410244,\n",
       " '33': -0.009148716450962815,\n",
       " '34': -0.026932557595648336,\n",
       " '35': -0.004511949076676277,\n",
       " '36': 0.012794044046942338,\n",
       " '37': -0.08100431358127519,\n",
       " '38': -0.075764400181441,\n",
       " '39': -0.010500062863100844,\n",
       " '40': 0.017991243954852715,\n",
       " '41': 0.04720705968947918,\n",
       " '42': 0.007268276682428479,\n",
       " '43': -0.018205296334676137,\n",
       " '44': -0.022937219509089165,\n",
       " '45': -0.03139724292117481,\n",
       " '46': -0.028491900425634133,\n",
       " '47': -0.01816745798404307,\n",
       " '48': -0.0023502678930322858,\n",
       " '49': -0.01953708950783481,\n",
       " '50': 0.025152176576923917,\n",
       " '51': 0.0780826120878759,\n",
       " '52': 0.040497201920348565,\n",
       " '53': -0.053270462394984744,\n",
       " '54': 0.01622717335755697,\n",
       " '55': -0.03119409392403686,\n",
       " '56': 0.008998154792878833,\n",
       " '57': -0.03485821130589508,\n",
       " '58': 0.049970160743158805,\n",
       " '59': 0.07630811478550806,\n",
       " '60': 0.026892846663519838,\n",
       " '61': -0.0691578163922292,\n",
       " '62': -0.023961530420894408,\n",
       " '63': -0.04307866837388467,\n",
       " '64': 0.05535417013016301,\n",
       " '65': -0.07637356351954235,\n",
       " '66': -0.034572279941168335,\n",
       " '67': 0.008232131115600876,\n",
       " '68': 0.02332253643367827,\n",
       " '69': 0.032785133086486715,\n",
       " '70': -0.016239245520977358,\n",
       " '71': 0.004226904315043351,\n",
       " '72': -0.0009849166459725063,\n",
       " '73': -0.0716627651397352,\n",
       " '74': -0.019719799356580282,\n",
       " '75': 0.018107617296265727,\n",
       " '76': -0.07985771182002789,\n",
       " '77': -0.027736521924199682,\n",
       " '78': 0.07602479632337464,\n",
       " '79': -0.0023769235434029667,\n",
       " '80': 0.0332376155244103,\n",
       " '81': -0.014030984468691146,\n",
       " '82': -0.05336892895682329,\n",
       " '83': 0.009480530447134311,\n",
       " '84': 0.022005057558943088,\n",
       " '85': 0.007506918146701828,\n",
       " '86': 0.09397188495426224,\n",
       " '87': 0.029559851771435053,\n",
       " '88': 0.03390874763361134,\n",
       " '89': -0.03778511602744453,\n",
       " '90': 0.013458812220223892,\n",
       " '91': -0.080330182185286,\n",
       " '92': -0.015586453180016394,\n",
       " '93': 0.09185757418970618,\n",
       " '94': 0.08426246673271015,\n",
       " '95': -0.0050996287328202985,\n",
       " '96': -0.0599031849615549,\n",
       " '97': -0.0271340092970144,\n",
       " '98': 0.022256749804140427,\n",
       " '99': 0.13236961090801155,\n",
       " '100': 0.05473517170527431,\n",
       " '101': -0.032939321066099536,\n",
       " '102': -0.009225841646590988,\n",
       " '103': -0.052164573270921104,\n",
       " '104': 0.064629601702926,\n",
       " '105': 0.08307497597350515,\n",
       " '106': 0.09460248653677088,\n",
       " '107': 0.15741756091572076,\n",
       " '108': -0.12900142867461378,\n",
       " '109': 0.13962365744159919,\n",
       " '110': -0.02781509357843108,\n",
       " '111': 0.14521605077637445,\n",
       " '112': 0.025924927380450494,\n",
       " '113': -0.05472283778805397,\n",
       " '114': -0.07690200409564615,\n",
       " '115': -0.05959048070210279,\n",
       " '116': 0.06426282237320871,\n",
       " '117': 0.12659057506254592,\n",
       " '118': -0.07603131378890111,\n",
       " '119': -0.012920744009287197}"
      ]
     },
     "execution_count": 305,
     "metadata": {},
     "output_type": "execute_result"
    }
   ],
   "source": [
    "glm_model.coef()"
   ]
  },
  {
   "cell_type": "code",
   "execution_count": 274,
   "metadata": {},
   "outputs": [
    {
     "name": "stdout",
     "output_type": "stream",
     "text": [
      "--- 0.008794069290161133 seconds ---\n",
      "0.014299599776796564\n",
      "0.025623357446509426\n"
     ]
    }
   ],
   "source": [
    "start_time = time.time()\n",
    "reg1 = LinearRegression()\n",
    "reg1.fit(X_train, y_train)\n",
    "print(\"--- %s seconds ---\" % (time.time() - start_time))\n",
    "\n",
    "# Training set error\n",
    "print(metrics.mean_squared_error(y_train, reg1.predict(X_train)))\n",
    "\n",
    "# Validating set error\n",
    "pred = reg1.predict(X_test)\n",
    "print(metrics.mean_squared_error(y_test, pred))"
   ]
  },
  {
   "cell_type": "code",
   "execution_count": 303,
   "metadata": {},
   "outputs": [
    {
     "data": {
      "text/plain": [
       "array([ 8.87238853e-06,  4.41417764e-04,  2.49026640e-05,  1.02200137e-05,\n",
       "        1.22349326e-05, -8.87831495e-05, -2.41669178e-05, -1.28687715e-04,\n",
       "       -8.66826800e-05,  1.83309253e-04,  3.67050871e-04,  1.70988907e-04,\n",
       "       -5.41605421e-04, -2.93593613e-04, -3.58947599e-04, -1.13015464e-05,\n",
       "        1.47654302e-04,  4.92085582e-04, -4.08423448e-03,  1.28044724e-03,\n",
       "        1.59593462e-03, -3.47142582e-02,  4.65971931e-02, -7.07477806e-02,\n",
       "        1.25051151e-02,  2.48334669e-03, -1.26419263e-02,  7.75653744e-03,\n",
       "       -1.88265241e-02,  1.33759070e-02, -1.11856674e-02, -2.23909297e-02,\n",
       "        2.16528741e-03,  2.26015763e-02,  1.59327037e-02,  7.05366748e-03,\n",
       "       -3.18965915e-02, -3.14515906e-02,  1.07764781e-02, -1.89987201e-05,\n",
       "       -1.22466410e-02, -3.74846217e-02, -2.62495848e-02, -5.39753515e-03,\n",
       "       -2.27869420e-02,  1.24991428e-02,  1.32531219e-02, -1.13248132e-02,\n",
       "        3.11431130e-02, -9.07859025e-03,  1.28129134e-02,  2.69801373e-02,\n",
       "       -6.85670218e-03, -2.52372737e-02,  2.40499304e-03, -1.78040702e-02,\n",
       "       -2.52504384e-03,  1.59771792e-02, -1.79164403e-02,  1.56460162e-02,\n",
       "        2.99854587e-03, -5.16623360e-04, -1.39574662e-02,  2.54655317e-02,\n",
       "       -2.98872663e-02,  4.28409382e-02,  2.81161631e-02, -1.79005211e-02,\n",
       "       -9.95779180e-03,  2.60874433e-02,  2.49608165e-05,  1.93402099e-02,\n",
       "        5.34554849e-02, -9.38465026e-03, -2.61666499e-02,  3.13279961e-02,\n",
       "        5.89510160e-03,  1.63071286e-02, -3.59571124e-02,  5.77188363e-03,\n",
       "       -2.46917047e-02,  2.75614728e-02,  8.02181414e-03, -8.77231298e-03,\n",
       "        4.33165290e-02, -2.62353688e-02,  5.85330073e-03,  5.48374634e-02,\n",
       "        1.15600015e-02, -8.05248637e-03,  2.58978471e-02, -1.87696245e-02,\n",
       "       -2.84576763e-02, -1.02808353e-02,  4.99797085e-02, -2.17211173e-02,\n",
       "       -3.97031453e-02,  4.29010389e-02,  4.09304889e-02,  2.06548842e-02,\n",
       "       -1.20017240e-02,  1.81927295e-02,  5.09624541e-03, -2.92448475e-02,\n",
       "       -2.34250448e-02, -1.05564378e-02, -3.65510100e-02, -1.47145599e-02,\n",
       "        3.79750666e-02, -9.59110971e-03,  5.04334560e-02, -3.14365828e-02,\n",
       "        4.68689802e-02,  3.47763642e-02, -7.72302564e-03, -5.03832862e-03,\n",
       "       -2.41355352e-02,  7.34962560e-02, -4.19668525e-03, -5.13971989e-02])"
      ]
     },
     "execution_count": 303,
     "metadata": {},
     "output_type": "execute_result"
    }
   ],
   "source": [
    "reg1.coef_\n",
    "#reg1.intercept_"
   ]
  },
  {
   "cell_type": "code",
   "execution_count": 161,
   "metadata": {},
   "outputs": [
    {
     "name": "stdout",
     "output_type": "stream",
     "text": [
      "glm Model Build progress: |███████████████████████████████████████████████| 100%\n",
      "Parse progress: |█████████████████████████████████████████████████████████| 100%\n",
      "glm prediction progress: |████████████████████████████████████████████████| 100%\n",
      "glm Model Build progress: |███████████████████████████████████████████████| 100%\n",
      "Parse progress: |█████████████████████████████████████████████████████████| 100%\n",
      "glm prediction progress: |████████████████████████████████████████████████| 100%\n",
      "glm Model Build progress: |███████████████████████████████████████████████| 100%\n",
      "Parse progress: |█████████████████████████████████████████████████████████| 100%\n",
      "glm prediction progress: |████████████████████████████████████████████████| 100%\n",
      "glm Model Build progress: |███████████████████████████████████████████████| 100%\n",
      "Parse progress: |█████████████████████████████████████████████████████████| 100%\n",
      "glm prediction progress: |████████████████████████████████████████████████| 100%\n",
      "glm Model Build progress: |███████████████████████████████████████████████| 100%\n",
      "Parse progress: |█████████████████████████████████████████████████████████| 100%\n",
      "glm prediction progress: |████████████████████████████████████████████████| 100%\n",
      "glm Model Build progress: |███████████████████████████████████████████████| 100%\n",
      "Parse progress: |█████████████████████████████████████████████████████████| 100%\n",
      "glm prediction progress: |████████████████████████████████████████████████| 100%\n",
      "glm Model Build progress: |███████████████████████████████████████████████| 100%\n",
      "Parse progress: |█████████████████████████████████████████████████████████| 100%\n",
      "glm prediction progress: |████████████████████████████████████████████████| 100%\n",
      "glm Model Build progress: |███████████████████████████████████████████████| 100%\n",
      "Parse progress: |█████████████████████████████████████████████████████████| 100%\n",
      "glm prediction progress: |████████████████████████████████████████████████| 100%\n",
      "glm Model Build progress: |███████████████████████████████████████████████| 100%\n",
      "Parse progress: |█████████████████████████████████████████████████████████| 100%\n",
      "glm prediction progress: | (failed)\n",
      "0.08\n"
     ]
    }
   ],
   "source": [
    "max_lambda = 0\n",
    "for i in [i/100 for i in range(0,10)]:\n",
    "    max_lambda = i\n",
    "    try:\n",
    "        glm_model = H2OGeneralizedLinearEstimator(family= \"gaussian\", lambda_ = i)\n",
    "        glm_model.train(x, y, training_frame= train_h)\n",
    "        pred = glm_model.predict(H2OFrame(pd.DataFrame(X_test, columns=x))).as_data_frame()\n",
    "    except:\n",
    "        print(max_lambda)\n",
    "        break"
   ]
  },
  {
   "cell_type": "markdown",
   "metadata": {},
   "source": [
    "### H2OGridSearch model"
   ]
  },
  {
   "cell_type": "code",
   "execution_count": 276,
   "metadata": {},
   "outputs": [],
   "source": [
    "from h2o.grid.grid_search import H2OGridSearch"
   ]
  },
  {
   "cell_type": "code",
   "execution_count": 295,
   "metadata": {},
   "outputs": [
    {
     "name": "stdout",
     "output_type": "stream",
     "text": [
      "glm Grid Build progress: |████████████████████████████████████████████████| 100%\n",
      "--- 1.8272628784179688 seconds ---\n"
     ]
    },
    {
     "data": {
      "text/plain": [
       "0.20931177795716363"
      ]
     },
     "execution_count": 295,
     "metadata": {},
     "output_type": "execute_result"
    }
   ],
   "source": [
    "# H2O GridSearch with Random Forest\n",
    "start_time = time.time()\n",
    "gbm_params1 = {'lambda': [i/100 for i in range(0,80,5)]}\n",
    "\n",
    "\n",
    "\n",
    "gbm_grid1 = H2OGridSearch(model=H2OGeneralizedLinearEstimator,\n",
    "                          grid_id='gbm_grid1',\n",
    "                          hyper_params=gbm_params1)\n",
    "\n",
    "gbm_grid1.train(x=x_name, y=y_name,\n",
    "                training_frame=train_h,\n",
    "                family= \"gaussian\",\n",
    "                alpha = 1,\n",
    "                nfolds = 5,\n",
    "                seed=1)\n",
    "\n",
    "# Get the grid results, sorted by validation AUC\n",
    "gbm_gridperf1 = gbm_grid1.get_grid(sort_by='mse', decreasing=True)\n",
    "print(\"--- %s seconds ---\" % (time.time() - start_time))\n",
    "gbm_gridperf1\n",
    "\n",
    "# Grab the top GBM model, chosen by validation AUC\n",
    "best_gbm1 = gbm_gridperf1.models[0]\n",
    "\n",
    "# Now let's evaluate the model performance on a test set\n",
    "# so we get an honest estimate of top model performance\n",
    "best_gbm_perf1 = best_gbm1.model_performance(valid_h)\n",
    "\n",
    "best_gbm_perf1.mse()"
   ]
  },
  {
   "cell_type": "markdown",
   "metadata": {},
   "source": [
    "### GBM with CV, Early Stopping and Full Grid Search"
   ]
  },
  {
   "cell_type": "code",
   "execution_count": 38,
   "metadata": {},
   "outputs": [],
   "source": [
    "# import Grid Search\n",
    "from h2o.grid.grid_search import H2OGridSearch\n",
    "from h2o.estimators.gbm import H2OGradientBoostingEstimator"
   ]
  },
  {
   "cell_type": "code",
   "execution_count": 3,
   "metadata": {},
   "outputs": [],
   "source": [
    "# define the criteria for full grid search\n",
    "search_criteria = {'strategy': \"Cartesian\"}"
   ]
  },
  {
   "cell_type": "code",
   "execution_count": 4,
   "metadata": {},
   "outputs": [],
   "source": [
    "# define the range of hyper-parameters for grid search\n",
    "hyper_params = {'sample_rate': [0.7, 0.8, 0.9],\n",
    "                'col_sample_rate': [0.7, 0.8, 0.9]}"
   ]
  },
  {
   "cell_type": "code",
   "execution_count": 39,
   "metadata": {},
   "outputs": [],
   "source": [
    "# Set up GBM grid search\n",
    "# Add a seed for reproducibility\n",
    "gbm_full_grid = H2OGridSearch(\n",
    "                    H2OGradientBoostingEstimator(\n",
    "                        model_id = 'gbm_full_grid', \n",
    "                        seed = 1234,\n",
    "                        ntrees = 10000,   \n",
    "                        nfolds = 5,\n",
    "                        stopping_metric = 'mse', \n",
    "                        stopping_rounds = 15,     \n",
    "                        score_tree_interval = 1),\n",
    "                    search_criteria = search_criteria, # full grid search\n",
    "                    hyper_params = hyper_params)"
   ]
  },
  {
   "cell_type": "code",
   "execution_count": 41,
   "metadata": {},
   "outputs": [
    {
     "name": "stdout",
     "output_type": "stream",
     "text": [
      "gbm Grid Build progress: |████████████████████████████████████████████████| 100%\n"
     ]
    }
   ],
   "source": [
    "# Use .train() to start the grid search\n",
    "gbm_full_grid.train(x_name, y_name, \n",
    "                    training_frame = train_h)"
   ]
  },
  {
   "cell_type": "code",
   "execution_count": 42,
   "metadata": {},
   "outputs": [
    {
     "name": "stdout",
     "output_type": "stream",
     "text": [
      "    col_sample_rate sample_rate  \\\n",
      "0               0.7         0.9   \n",
      "1               0.7         0.8   \n",
      "2               0.9         0.9   \n",
      "3               0.8         0.9   \n",
      "4               0.8         0.8   \n",
      "5               0.7         0.7   \n",
      "6               0.8         0.7   \n",
      "7               0.9         0.8   \n",
      "8               0.9         0.7   \n",
      "\n",
      "                                                               model_ids  \\\n",
      "0  Grid_GBM_Key_Frame__upload_81c8b976fa823265166e5cc02dcf4fcf.hex_mo...   \n",
      "1  Grid_GBM_Key_Frame__upload_81c8b976fa823265166e5cc02dcf4fcf.hex_mo...   \n",
      "2  Grid_GBM_Key_Frame__upload_81c8b976fa823265166e5cc02dcf4fcf.hex_mo...   \n",
      "3  Grid_GBM_Key_Frame__upload_81c8b976fa823265166e5cc02dcf4fcf.hex_mo...   \n",
      "4  Grid_GBM_Key_Frame__upload_81c8b976fa823265166e5cc02dcf4fcf.hex_mo...   \n",
      "5  Grid_GBM_Key_Frame__upload_81c8b976fa823265166e5cc02dcf4fcf.hex_mo...   \n",
      "6  Grid_GBM_Key_Frame__upload_81c8b976fa823265166e5cc02dcf4fcf.hex_mo...   \n",
      "7  Grid_GBM_Key_Frame__upload_81c8b976fa823265166e5cc02dcf4fcf.hex_mo...   \n",
      "8  Grid_GBM_Key_Frame__upload_81c8b976fa823265166e5cc02dcf4fcf.hex_mo...   \n",
      "\n",
      "                   mse  \n",
      "0   0.1806805162532666  \n",
      "1  0.18074817578347777  \n",
      "2  0.18131643366166517  \n",
      "3  0.18275233594605375  \n",
      "4  0.18347438627266388  \n",
      "5  0.18510027002373022  \n",
      "6  0.18564129491793913  \n",
      "7   0.1861543072669527  \n",
      "8  0.18618195673591273  \n",
      "\n"
     ]
    }
   ],
   "source": [
    "# Sort and show the grid search results\n",
    "gbm_full_grid_sorted = gbm_full_grid.get_grid(sort_by='mse', decreasing=False)\n",
    "print(gbm_full_grid_sorted)"
   ]
  },
  {
   "cell_type": "code",
   "execution_count": 43,
   "metadata": {},
   "outputs": [
    {
     "name": "stdout",
     "output_type": "stream",
     "text": [
      "Model Summary: \n"
     ]
    },
    {
     "data": {
      "text/html": [
       "<div style=\"overflow:auto\"><table style=\"width:50%\"><tr><td><b></b></td>\n",
       "<td><b>number_of_trees</b></td>\n",
       "<td><b>number_of_internal_trees</b></td>\n",
       "<td><b>model_size_in_bytes</b></td>\n",
       "<td><b>min_depth</b></td>\n",
       "<td><b>max_depth</b></td>\n",
       "<td><b>mean_depth</b></td>\n",
       "<td><b>min_leaves</b></td>\n",
       "<td><b>max_leaves</b></td>\n",
       "<td><b>mean_leaves</b></td></tr>\n",
       "<tr><td></td>\n",
       "<td>31.0</td>\n",
       "<td>31.0</td>\n",
       "<td>7846.0</td>\n",
       "<td>5.0</td>\n",
       "<td>5.0</td>\n",
       "<td>5.0</td>\n",
       "<td>8.0</td>\n",
       "<td>24.0</td>\n",
       "<td>15.548388</td></tr></table></div>"
      ],
      "text/plain": [
       "    number_of_trees    number_of_internal_trees    model_size_in_bytes    min_depth    max_depth    mean_depth    min_leaves    max_leaves    mean_leaves\n",
       "--  -----------------  --------------------------  ---------------------  -----------  -----------  ------------  ------------  ------------  -------------\n",
       "    31                 31                          7846                   5            5            5             8             24            15.5484"
      ]
     },
     "metadata": {},
     "output_type": "display_data"
    },
    {
     "data": {
      "text/plain": []
     },
     "execution_count": 43,
     "metadata": {},
     "output_type": "execute_result"
    }
   ],
   "source": [
    "# Extract the best model from full grid search\n",
    "best_model_id = gbm_full_grid_sorted.model_ids[0]\n",
    "best_gbm_from_full_grid = h2o.get_model(best_model_id)\n",
    "best_gbm_from_full_grid.summary()"
   ]
  },
  {
   "cell_type": "code",
   "execution_count": 45,
   "metadata": {},
   "outputs": [
    {
     "name": "stdout",
     "output_type": "stream",
     "text": [
      "\n",
      "ModelMetricsRegression: gbm\n",
      "** Reported on test data. **\n",
      "\n",
      "MSE: 0.17130285768259637\n",
      "RMSE: 0.4138874939915392\n",
      "MAE: 0.3267186366679917\n",
      "RMSLE: 0.03187107852153576\n",
      "Mean Residual Deviance: 0.17130285768259637\n"
     ]
    },
    {
     "data": {
      "text/plain": []
     },
     "execution_count": 45,
     "metadata": {},
     "output_type": "execute_result"
    }
   ],
   "source": [
    "# Check the model performance on test dataset\n",
    "best_gbm_from_full_grid.model_performance(valid_h)"
   ]
  },
  {
   "cell_type": "markdown",
   "metadata": {},
   "source": [
    "### H2OAutoMl model"
   ]
  },
  {
   "cell_type": "code",
   "execution_count": 297,
   "metadata": {},
   "outputs": [],
   "source": [
    "from h2o.automl import H2OAutoML"
   ]
  },
  {
   "cell_type": "code",
   "execution_count": 306,
   "metadata": {},
   "outputs": [
    {
     "name": "stdout",
     "output_type": "stream",
     "text": [
      "AutoML progress: |████████████████████████████████████████████████████████| 100%\n"
     ]
    }
   ],
   "source": [
    "# Run AutoML for 20 base models (limited to 1 hour max runtime by default)\n",
    "aml = H2OAutoML(max_models=10, seed=1)\n",
    "aml.train(x=x_name, y=y_name, training_frame=train_h)"
   ]
  },
  {
   "cell_type": "code",
   "execution_count": 307,
   "metadata": {},
   "outputs": [
    {
     "data": {
      "text/html": [
       "<table>\n",
       "<thead>\n",
       "<tr><th>model_id                                           </th><th style=\"text-align: right;\">  mean_residual_deviance</th><th style=\"text-align: right;\">    rmse</th><th style=\"text-align: right;\">     mse</th><th style=\"text-align: right;\">     mae</th><th style=\"text-align: right;\">    rmsle</th></tr>\n",
       "</thead>\n",
       "<tbody>\n",
       "<tr><td>GBM_grid_1_AutoML_20190626_174822_model_1          </td><td style=\"text-align: right;\">                0.16756 </td><td style=\"text-align: right;\">0.409341</td><td style=\"text-align: right;\">0.16756 </td><td style=\"text-align: right;\">0.315777</td><td style=\"text-align: right;\">0.0314337</td></tr>\n",
       "<tr><td>GBM_grid_1_AutoML_20190626_174822_model_2          </td><td style=\"text-align: right;\">                0.168648</td><td style=\"text-align: right;\">0.410667</td><td style=\"text-align: right;\">0.168648</td><td style=\"text-align: right;\">0.317361</td><td style=\"text-align: right;\">0.0315332</td></tr>\n",
       "<tr><td>StackedEnsemble_BestOfFamily_AutoML_20190626_174822</td><td style=\"text-align: right;\">                0.169028</td><td style=\"text-align: right;\">0.41113 </td><td style=\"text-align: right;\">0.169028</td><td style=\"text-align: right;\">0.317067</td><td style=\"text-align: right;\">0.0315738</td></tr>\n",
       "<tr><td>GBM_grid_1_AutoML_20190626_174822_model_4          </td><td style=\"text-align: right;\">                0.169138</td><td style=\"text-align: right;\">0.411264</td><td style=\"text-align: right;\">0.169138</td><td style=\"text-align: right;\">0.318047</td><td style=\"text-align: right;\">0.0315792</td></tr>\n",
       "<tr><td>GBM_grid_1_AutoML_20190626_174822_model_5          </td><td style=\"text-align: right;\">                0.169138</td><td style=\"text-align: right;\">0.411264</td><td style=\"text-align: right;\">0.169138</td><td style=\"text-align: right;\">0.317689</td><td style=\"text-align: right;\">0.0315785</td></tr>\n",
       "<tr><td>GLM_grid_1_AutoML_20190626_180836_model_1          </td><td style=\"text-align: right;\">                0.169163</td><td style=\"text-align: right;\">0.411294</td><td style=\"text-align: right;\">0.169163</td><td style=\"text-align: right;\">0.318009</td><td style=\"text-align: right;\">0.0315814</td></tr>\n",
       "<tr><td>GLM_grid_1_AutoML_20190626_174822_model_1          </td><td style=\"text-align: right;\">                0.169163</td><td style=\"text-align: right;\">0.411294</td><td style=\"text-align: right;\">0.169163</td><td style=\"text-align: right;\">0.318009</td><td style=\"text-align: right;\">0.0315814</td></tr>\n",
       "<tr><td>GBM_grid_1_AutoML_20190626_180836_model_1          </td><td style=\"text-align: right;\">                0.169232</td><td style=\"text-align: right;\">0.411378</td><td style=\"text-align: right;\">0.169232</td><td style=\"text-align: right;\">0.317678</td><td style=\"text-align: right;\">0.0315871</td></tr>\n",
       "<tr><td>StackedEnsemble_AllModels_AutoML_20190626_174822   </td><td style=\"text-align: right;\">                0.169483</td><td style=\"text-align: right;\">0.411683</td><td style=\"text-align: right;\">0.169483</td><td style=\"text-align: right;\">0.316729</td><td style=\"text-align: right;\">0.031614 </td></tr>\n",
       "<tr><td>GBM_5_AutoML_20190626_180836                       </td><td style=\"text-align: right;\">                0.173635</td><td style=\"text-align: right;\">0.416695</td><td style=\"text-align: right;\">0.173635</td><td style=\"text-align: right;\">0.32245 </td><td style=\"text-align: right;\">0.0320022</td></tr>\n",
       "<tr><td>GBM_5_AutoML_20190626_174822                       </td><td style=\"text-align: right;\">                0.173635</td><td style=\"text-align: right;\">0.416695</td><td style=\"text-align: right;\">0.173635</td><td style=\"text-align: right;\">0.32245 </td><td style=\"text-align: right;\">0.0320022</td></tr>\n",
       "<tr><td>GBM_2_AutoML_20190626_174822                       </td><td style=\"text-align: right;\">                0.176063</td><td style=\"text-align: right;\">0.419599</td><td style=\"text-align: right;\">0.176063</td><td style=\"text-align: right;\">0.325148</td><td style=\"text-align: right;\">0.0322111</td></tr>\n",
       "<tr><td>GBM_2_AutoML_20190626_180836                       </td><td style=\"text-align: right;\">                0.176063</td><td style=\"text-align: right;\">0.419599</td><td style=\"text-align: right;\">0.176063</td><td style=\"text-align: right;\">0.325148</td><td style=\"text-align: right;\">0.0322111</td></tr>\n",
       "<tr><td>GBM_1_AutoML_20190626_174822                       </td><td style=\"text-align: right;\">                0.18081 </td><td style=\"text-align: right;\">0.425217</td><td style=\"text-align: right;\">0.18081 </td><td style=\"text-align: right;\">0.328183</td><td style=\"text-align: right;\">0.0326653</td></tr>\n",
       "<tr><td>GBM_1_AutoML_20190626_180836                       </td><td style=\"text-align: right;\">                0.18081 </td><td style=\"text-align: right;\">0.425217</td><td style=\"text-align: right;\">0.18081 </td><td style=\"text-align: right;\">0.328183</td><td style=\"text-align: right;\">0.0326653</td></tr>\n",
       "<tr><td>GBM_4_AutoML_20190626_174822                       </td><td style=\"text-align: right;\">                0.181916</td><td style=\"text-align: right;\">0.426516</td><td style=\"text-align: right;\">0.181916</td><td style=\"text-align: right;\">0.328509</td><td style=\"text-align: right;\">0.0327431</td></tr>\n",
       "<tr><td>GBM_4_AutoML_20190626_180836                       </td><td style=\"text-align: right;\">                0.181916</td><td style=\"text-align: right;\">0.426516</td><td style=\"text-align: right;\">0.181916</td><td style=\"text-align: right;\">0.328509</td><td style=\"text-align: right;\">0.0327431</td></tr>\n",
       "<tr><td>GBM_3_AutoML_20190626_174822                       </td><td style=\"text-align: right;\">                0.183922</td><td style=\"text-align: right;\">0.428862</td><td style=\"text-align: right;\">0.183922</td><td style=\"text-align: right;\">0.328306</td><td style=\"text-align: right;\">0.032927 </td></tr>\n",
       "<tr><td>GBM_3_AutoML_20190626_180836                       </td><td style=\"text-align: right;\">                0.183922</td><td style=\"text-align: right;\">0.428862</td><td style=\"text-align: right;\">0.183922</td><td style=\"text-align: right;\">0.328306</td><td style=\"text-align: right;\">0.032927 </td></tr>\n",
       "<tr><td>DeepLearning_grid_1_AutoML_20190626_174822_model_4 </td><td style=\"text-align: right;\">                0.187696</td><td style=\"text-align: right;\">0.433239</td><td style=\"text-align: right;\">0.187696</td><td style=\"text-align: right;\">0.331693</td><td style=\"text-align: right;\">0.0332438</td></tr>\n",
       "<tr><td>DeepLearning_grid_1_AutoML_20190626_174822_model_3 </td><td style=\"text-align: right;\">                0.188448</td><td style=\"text-align: right;\">0.434106</td><td style=\"text-align: right;\">0.188448</td><td style=\"text-align: right;\">0.337283</td><td style=\"text-align: right;\">0.0333243</td></tr>\n",
       "<tr><td>DeepLearning_grid_1_AutoML_20190626_174822_model_2 </td><td style=\"text-align: right;\">                0.19151 </td><td style=\"text-align: right;\">0.437619</td><td style=\"text-align: right;\">0.19151 </td><td style=\"text-align: right;\">0.33642 </td><td style=\"text-align: right;\">0.0336047</td></tr>\n",
       "<tr><td>DeepLearning_grid_1_AutoML_20190626_174822_model_5 </td><td style=\"text-align: right;\">                0.193472</td><td style=\"text-align: right;\">0.439854</td><td style=\"text-align: right;\">0.193472</td><td style=\"text-align: right;\">0.339331</td><td style=\"text-align: right;\">0.0337561</td></tr>\n",
       "<tr><td>DeepLearning_grid_1_AutoML_20190626_174822_model_1 </td><td style=\"text-align: right;\">                0.205   </td><td style=\"text-align: right;\">0.452769</td><td style=\"text-align: right;\">0.205   </td><td style=\"text-align: right;\">0.346926</td><td style=\"text-align: right;\">0.0347677</td></tr>\n",
       "<tr><td>DeepLearning_1_AutoML_20190626_174822              </td><td style=\"text-align: right;\">                0.216821</td><td style=\"text-align: right;\">0.46564 </td><td style=\"text-align: right;\">0.216821</td><td style=\"text-align: right;\">0.360272</td><td style=\"text-align: right;\">0.0357466</td></tr>\n",
       "<tr><td>DeepLearning_1_AutoML_20190626_180836              </td><td style=\"text-align: right;\">                0.219393</td><td style=\"text-align: right;\">0.468394</td><td style=\"text-align: right;\">0.219393</td><td style=\"text-align: right;\">0.363356</td><td style=\"text-align: right;\">0.0359806</td></tr>\n",
       "<tr><td>XRT_1_AutoML_20190626_174822                       </td><td style=\"text-align: right;\">                0.244447</td><td style=\"text-align: right;\">0.494416</td><td style=\"text-align: right;\">0.244447</td><td style=\"text-align: right;\">0.349655</td><td style=\"text-align: right;\">0.0391058</td></tr>\n",
       "<tr><td>XRT_1_AutoML_20190626_180836                       </td><td style=\"text-align: right;\">                0.244447</td><td style=\"text-align: right;\">0.494416</td><td style=\"text-align: right;\">0.244447</td><td style=\"text-align: right;\">0.349655</td><td style=\"text-align: right;\">0.0391058</td></tr>\n",
       "<tr><td>GBM_grid_1_AutoML_20190626_174822_model_3          </td><td style=\"text-align: right;\">                0.27108 </td><td style=\"text-align: right;\">0.520653</td><td style=\"text-align: right;\">0.27108 </td><td style=\"text-align: right;\">0.404237</td><td style=\"text-align: right;\">0.0399756</td></tr>\n",
       "<tr><td>DRF_1_AutoML_20190626_180836                       </td><td style=\"text-align: right;\">                0.275169</td><td style=\"text-align: right;\">0.524566</td><td style=\"text-align: right;\">0.275169</td><td style=\"text-align: right;\">0.356732</td><td style=\"text-align: right;\">0.0429484</td></tr>\n",
       "<tr><td>DRF_1_AutoML_20190626_174822                       </td><td style=\"text-align: right;\">                0.275169</td><td style=\"text-align: right;\">0.524566</td><td style=\"text-align: right;\">0.275169</td><td style=\"text-align: right;\">0.356732</td><td style=\"text-align: right;\">0.0429484</td></tr>\n",
       "</tbody>\n",
       "</table>"
      ]
     },
     "metadata": {},
     "output_type": "display_data"
    },
    {
     "data": {
      "text/plain": []
     },
     "execution_count": 307,
     "metadata": {},
     "output_type": "execute_result"
    }
   ],
   "source": [
    "# View the AutoML Leaderboard\n",
    "lb = aml.leaderboard\n",
    "lb.head(rows=lb.nrows)  # Print all rows instead of default (10 rows)"
   ]
  },
  {
   "cell_type": "code",
   "execution_count": 308,
   "metadata": {},
   "outputs": [
    {
     "name": "stdout",
     "output_type": "stream",
     "text": [
      "Parse progress: |█████████████████████████████████████████████████████████| 100%\n",
      "gbm prediction progress: |████████████████████████████████████████████████| 100%\n",
      "0.15307306661201137\n"
     ]
    }
   ],
   "source": [
    "pred = aml.predict(H2OFrame(pd.DataFrame(X_test, columns=x))).as_data_frame()\n",
    "print(metrics.mean_squared_error(y_test, pred.predict))"
   ]
  },
  {
   "cell_type": "code",
   "execution_count": 309,
   "metadata": {},
   "outputs": [
    {
     "name": "stdout",
     "output_type": "stream",
     "text": [
      "[WARNING] in <ipython-input-309-1edf85295eae> line 1:\n",
      "    >>> h2o.shutdown()\n",
      "        ^^^^ Deprecated, use ``h2o.cluster().shutdown()``.\n",
      "H2O session _sid_9bb3 closed.\n"
     ]
    }
   ],
   "source": [
    "h2o.shutdown()"
   ]
  }
 ],
 "metadata": {
  "kernelspec": {
   "display_name": "Python 3",
   "language": "python",
   "name": "python3"
  },
  "language_info": {
   "codemirror_mode": {
    "name": "ipython",
    "version": 3
   },
   "file_extension": ".py",
   "mimetype": "text/x-python",
   "name": "python",
   "nbconvert_exporter": "python",
   "pygments_lexer": "ipython3",
   "version": "3.6.8"
  }
 },
 "nbformat": 4,
 "nbformat_minor": 2
}
