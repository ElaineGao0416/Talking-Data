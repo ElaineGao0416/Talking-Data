{
 "cells": [
  {
   "cell_type": "code",
   "execution_count": 199,
   "metadata": {},
   "outputs": [],
   "source": [
    "import pandas as pd\n",
    "import seaborn as sns\n",
    "import matplotlib.pyplot as plt\n",
    "from sklearn.utils import resample\n",
    "import numpy as np\n",
    "\n",
    "sns.set()\n",
    "plt.rcParams['figure.figsize'] = [15, 10]"
   ]
  },
  {
   "cell_type": "code",
   "execution_count": 200,
   "metadata": {},
   "outputs": [],
   "source": [
    "# Read data\n",
    "train = pd.read_csv(\"train.csv\")\n",
    "test = pd.read_csv(\"test.csv\")"
   ]
  },
  {
   "cell_type": "markdown",
   "metadata": {},
   "source": [
    "## Onehot Encoder\n",
    "The industry feature is categorical feature which cannot be directly used for modelling. So I used onehotencoder to transform the data for modelling purpose."
   ]
  },
  {
   "cell_type": "code",
   "execution_count": 201,
   "metadata": {},
   "outputs": [],
   "source": [
    "# Feature engineering\n",
    "from sklearn.preprocessing import OneHotEncoder\n",
    "enc = OneHotEncoder()\n",
    "enc.fit(pd.DataFrame(train.INDUSTRY))\n",
    "indu = [\"indus_\"+i[3:] for i in enc.get_feature_names().tolist()]\n",
    "train[indu] = pd.DataFrame(enc.transform(pd.DataFrame(train.INDUSTRY)).toarray())\n",
    "train = train.drop([\"INDUSTRY\"], axis=1)\n",
    "\n",
    "test[indu] = pd.DataFrame(enc.transform(pd.DataFrame(test.INDUSTRY)).toarray())\n",
    "test = test.drop([\"INDUSTRY\",\"Unnamed: 0\"], axis=1)"
   ]
  },
  {
   "cell_type": "code",
   "execution_count": 202,
   "metadata": {},
   "outputs": [
    {
     "data": {
      "text/html": [
       "<div>\n",
       "<style scoped>\n",
       "    .dataframe tbody tr th:only-of-type {\n",
       "        vertical-align: middle;\n",
       "    }\n",
       "\n",
       "    .dataframe tbody tr th {\n",
       "        vertical-align: top;\n",
       "    }\n",
       "\n",
       "    .dataframe thead th {\n",
       "        text-align: right;\n",
       "    }\n",
       "</style>\n",
       "<table border=\"1\" class=\"dataframe\">\n",
       "  <thead>\n",
       "    <tr style=\"text-align: right;\">\n",
       "      <th></th>\n",
       "      <th>SUBSCRIPTION_FEE</th>\n",
       "      <th>JOB_ACTIVITY_2</th>\n",
       "      <th>JOB_ACTIVITY_3</th>\n",
       "      <th>JOB_ACTIVITY_4</th>\n",
       "      <th>JOB_ACTIVITY_1</th>\n",
       "      <th>JOB_ACTIVITY_5</th>\n",
       "      <th>PAYMENT_TYPE_1</th>\n",
       "      <th>PAYMENT_TYPE_2</th>\n",
       "      <th>PAYMENT_TYPE_3</th>\n",
       "      <th>PAYMENT_TYPE_4</th>\n",
       "      <th>PAYMENT_TYPE_5</th>\n",
       "      <th>indus_A</th>\n",
       "      <th>indus_B</th>\n",
       "      <th>indus_C</th>\n",
       "      <th>indus_D</th>\n",
       "      <th>indus_E</th>\n",
       "      <th>indus_F</th>\n",
       "    </tr>\n",
       "  </thead>\n",
       "  <tbody>\n",
       "    <tr>\n",
       "      <th>count</th>\n",
       "      <td>1220.000000</td>\n",
       "      <td>1220.000000</td>\n",
       "      <td>1220.000000</td>\n",
       "      <td>1220.000000</td>\n",
       "      <td>1220.000000</td>\n",
       "      <td>1220.000000</td>\n",
       "      <td>1.220000e+03</td>\n",
       "      <td>1220.000000</td>\n",
       "      <td>1220.000000</td>\n",
       "      <td>1220.000000</td>\n",
       "      <td>1220.000000</td>\n",
       "      <td>1220.000000</td>\n",
       "      <td>1220.000000</td>\n",
       "      <td>1220.000000</td>\n",
       "      <td>1220.000000</td>\n",
       "      <td>1220.000000</td>\n",
       "      <td>1220.000000</td>\n",
       "    </tr>\n",
       "    <tr>\n",
       "      <th>mean</th>\n",
       "      <td>54.349180</td>\n",
       "      <td>24.131148</td>\n",
       "      <td>48.447541</td>\n",
       "      <td>36.348361</td>\n",
       "      <td>60.718852</td>\n",
       "      <td>18.971311</td>\n",
       "      <td>2.372257e+04</td>\n",
       "      <td>4546.193549</td>\n",
       "      <td>1054.708910</td>\n",
       "      <td>905.713189</td>\n",
       "      <td>13672.016352</td>\n",
       "      <td>0.147541</td>\n",
       "      <td>0.323770</td>\n",
       "      <td>0.194262</td>\n",
       "      <td>0.045902</td>\n",
       "      <td>0.209016</td>\n",
       "      <td>0.079508</td>\n",
       "    </tr>\n",
       "    <tr>\n",
       "      <th>std</th>\n",
       "      <td>67.764414</td>\n",
       "      <td>48.170577</td>\n",
       "      <td>72.608232</td>\n",
       "      <td>60.302008</td>\n",
       "      <td>111.772565</td>\n",
       "      <td>34.389364</td>\n",
       "      <td>4.971214e+04</td>\n",
       "      <td>9627.940444</td>\n",
       "      <td>4737.686506</td>\n",
       "      <td>4507.576547</td>\n",
       "      <td>37678.574475</td>\n",
       "      <td>0.354790</td>\n",
       "      <td>0.468106</td>\n",
       "      <td>0.395794</td>\n",
       "      <td>0.209358</td>\n",
       "      <td>0.406773</td>\n",
       "      <td>0.270641</td>\n",
       "    </tr>\n",
       "    <tr>\n",
       "      <th>min</th>\n",
       "      <td>3.000000</td>\n",
       "      <td>0.000000</td>\n",
       "      <td>0.000000</td>\n",
       "      <td>0.000000</td>\n",
       "      <td>0.000000</td>\n",
       "      <td>0.000000</td>\n",
       "      <td>0.000000e+00</td>\n",
       "      <td>0.000000</td>\n",
       "      <td>0.000000</td>\n",
       "      <td>0.000000</td>\n",
       "      <td>0.000000</td>\n",
       "      <td>0.000000</td>\n",
       "      <td>0.000000</td>\n",
       "      <td>0.000000</td>\n",
       "      <td>0.000000</td>\n",
       "      <td>0.000000</td>\n",
       "      <td>0.000000</td>\n",
       "    </tr>\n",
       "    <tr>\n",
       "      <th>25%</th>\n",
       "      <td>28.000000</td>\n",
       "      <td>0.000000</td>\n",
       "      <td>5.000000</td>\n",
       "      <td>2.000000</td>\n",
       "      <td>4.000000</td>\n",
       "      <td>0.000000</td>\n",
       "      <td>5.881350e+02</td>\n",
       "      <td>0.000000</td>\n",
       "      <td>0.000000</td>\n",
       "      <td>0.000000</td>\n",
       "      <td>0.000000</td>\n",
       "      <td>0.000000</td>\n",
       "      <td>0.000000</td>\n",
       "      <td>0.000000</td>\n",
       "      <td>0.000000</td>\n",
       "      <td>0.000000</td>\n",
       "      <td>0.000000</td>\n",
       "    </tr>\n",
       "    <tr>\n",
       "      <th>50%</th>\n",
       "      <td>46.000000</td>\n",
       "      <td>4.500000</td>\n",
       "      <td>25.000000</td>\n",
       "      <td>18.000000</td>\n",
       "      <td>27.000000</td>\n",
       "      <td>6.000000</td>\n",
       "      <td>8.403125e+03</td>\n",
       "      <td>550.000000</td>\n",
       "      <td>0.000000</td>\n",
       "      <td>0.000000</td>\n",
       "      <td>3466.500000</td>\n",
       "      <td>0.000000</td>\n",
       "      <td>0.000000</td>\n",
       "      <td>0.000000</td>\n",
       "      <td>0.000000</td>\n",
       "      <td>0.000000</td>\n",
       "      <td>0.000000</td>\n",
       "    </tr>\n",
       "    <tr>\n",
       "      <th>75%</th>\n",
       "      <td>52.000000</td>\n",
       "      <td>28.000000</td>\n",
       "      <td>61.000000</td>\n",
       "      <td>44.000000</td>\n",
       "      <td>69.250000</td>\n",
       "      <td>23.000000</td>\n",
       "      <td>2.804192e+04</td>\n",
       "      <td>4513.612500</td>\n",
       "      <td>0.000000</td>\n",
       "      <td>563.287500</td>\n",
       "      <td>14233.500000</td>\n",
       "      <td>0.000000</td>\n",
       "      <td>1.000000</td>\n",
       "      <td>0.000000</td>\n",
       "      <td>0.000000</td>\n",
       "      <td>0.000000</td>\n",
       "      <td>0.000000</td>\n",
       "    </tr>\n",
       "    <tr>\n",
       "      <th>max</th>\n",
       "      <td>796.000000</td>\n",
       "      <td>558.000000</td>\n",
       "      <td>829.000000</td>\n",
       "      <td>650.000000</td>\n",
       "      <td>1377.000000</td>\n",
       "      <td>462.000000</td>\n",
       "      <td>1.038283e+06</td>\n",
       "      <td>97400.230000</td>\n",
       "      <td>52559.000000</td>\n",
       "      <td>133112.730000</td>\n",
       "      <td>992692.740000</td>\n",
       "      <td>1.000000</td>\n",
       "      <td>1.000000</td>\n",
       "      <td>1.000000</td>\n",
       "      <td>1.000000</td>\n",
       "      <td>1.000000</td>\n",
       "      <td>1.000000</td>\n",
       "    </tr>\n",
       "  </tbody>\n",
       "</table>\n",
       "</div>"
      ],
      "text/plain": [
       "       SUBSCRIPTION_FEE  JOB_ACTIVITY_2  JOB_ACTIVITY_3  JOB_ACTIVITY_4  \\\n",
       "count       1220.000000     1220.000000     1220.000000     1220.000000   \n",
       "mean          54.349180       24.131148       48.447541       36.348361   \n",
       "std           67.764414       48.170577       72.608232       60.302008   \n",
       "min            3.000000        0.000000        0.000000        0.000000   \n",
       "25%           28.000000        0.000000        5.000000        2.000000   \n",
       "50%           46.000000        4.500000       25.000000       18.000000   \n",
       "75%           52.000000       28.000000       61.000000       44.000000   \n",
       "max          796.000000      558.000000      829.000000      650.000000   \n",
       "\n",
       "       JOB_ACTIVITY_1  JOB_ACTIVITY_5  PAYMENT_TYPE_1  PAYMENT_TYPE_2  \\\n",
       "count     1220.000000     1220.000000    1.220000e+03     1220.000000   \n",
       "mean        60.718852       18.971311    2.372257e+04     4546.193549   \n",
       "std        111.772565       34.389364    4.971214e+04     9627.940444   \n",
       "min          0.000000        0.000000    0.000000e+00        0.000000   \n",
       "25%          4.000000        0.000000    5.881350e+02        0.000000   \n",
       "50%         27.000000        6.000000    8.403125e+03      550.000000   \n",
       "75%         69.250000       23.000000    2.804192e+04     4513.612500   \n",
       "max       1377.000000      462.000000    1.038283e+06    97400.230000   \n",
       "\n",
       "       PAYMENT_TYPE_3  PAYMENT_TYPE_4  PAYMENT_TYPE_5      indus_A  \\\n",
       "count     1220.000000     1220.000000     1220.000000  1220.000000   \n",
       "mean      1054.708910      905.713189    13672.016352     0.147541   \n",
       "std       4737.686506     4507.576547    37678.574475     0.354790   \n",
       "min          0.000000        0.000000        0.000000     0.000000   \n",
       "25%          0.000000        0.000000        0.000000     0.000000   \n",
       "50%          0.000000        0.000000     3466.500000     0.000000   \n",
       "75%          0.000000      563.287500    14233.500000     0.000000   \n",
       "max      52559.000000   133112.730000   992692.740000     1.000000   \n",
       "\n",
       "           indus_B      indus_C      indus_D      indus_E      indus_F  \n",
       "count  1220.000000  1220.000000  1220.000000  1220.000000  1220.000000  \n",
       "mean      0.323770     0.194262     0.045902     0.209016     0.079508  \n",
       "std       0.468106     0.395794     0.209358     0.406773     0.270641  \n",
       "min       0.000000     0.000000     0.000000     0.000000     0.000000  \n",
       "25%       0.000000     0.000000     0.000000     0.000000     0.000000  \n",
       "50%       0.000000     0.000000     0.000000     0.000000     0.000000  \n",
       "75%       1.000000     0.000000     0.000000     0.000000     0.000000  \n",
       "max       1.000000     1.000000     1.000000     1.000000     1.000000  "
      ]
     },
     "execution_count": 202,
     "metadata": {},
     "output_type": "execute_result"
    }
   ],
   "source": [
    "test.describe()"
   ]
  },
  {
   "cell_type": "markdown",
   "metadata": {},
   "source": [
    "## Downsample\n",
    "The sample is imbalanced. The B type company have 2 times sample than A or C. So I downsampled the sample to make it even. Compared with the model based on original dataset, this method improved the model performance."
   ]
  },
  {
   "cell_type": "code",
   "execution_count": 203,
   "metadata": {},
   "outputs": [],
   "source": [
    "# Downsample to make it balanced\n",
    "downsampled = resample(train[train.COMPANY_SIZE == \"B\"], \n",
    "                                 replace=False,    # sample without replacement\n",
    "                                 n_samples=700)\n",
    "df_downsampled = pd.concat([downsampled, train[train.COMPANY_SIZE != \"B\"]])"
   ]
  },
  {
   "cell_type": "code",
   "execution_count": 204,
   "metadata": {},
   "outputs": [],
   "source": [
    "df_downsampled.COMPANY_SIZE.value_counts()\n",
    "\n",
    "df_downsampled = df_downsampled[df_downsampled.COMPANY_SIZE != \"A\"]"
   ]
  },
  {
   "cell_type": "code",
   "execution_count": 205,
   "metadata": {},
   "outputs": [
    {
     "data": {
      "text/plain": [
       "B    700\n",
       "C    641\n",
       "Name: COMPANY_SIZE, dtype: int64"
      ]
     },
     "execution_count": 205,
     "metadata": {},
     "output_type": "execute_result"
    }
   ],
   "source": [
    "df_downsampled.COMPANY_SIZE.value_counts()"
   ]
  },
  {
   "cell_type": "markdown",
   "metadata": {},
   "source": [
    "## Train model\n",
    "Split the dataset tot training and validating set to tune the parameter with the measure of model performance on validating set."
   ]
  },
  {
   "cell_type": "code",
   "execution_count": 206,
   "metadata": {},
   "outputs": [],
   "source": [
    "from sklearn.model_selection import GridSearchCV\n",
    "from sklearn import svm\n",
    "from sklearn import preprocessing\n",
    "from sklearn.linear_model import LogisticRegression\n",
    "from sklearn.tree import DecisionTreeClassifier\n",
    "from sklearn.ensemble import RandomForestClassifier\n",
    "from sklearn.metrics import classification_report\n",
    "from sklearn.metrics import precision_recall_fscore_support\n",
    "from sklearn.model_selection import train_test_split\n",
    "from sklearn.metrics import confusion_matrix\n",
    "from sklearn import metrics\n",
    "import time\n",
    "\n",
    "le = preprocessing.LabelEncoder()\n",
    "\n",
    "y = df_downsampled.COMPANY_SIZE\n",
    "X = df_downsampled.drop([\"COMPANY_SIZE\"], axis=1)\n",
    "X_train, X_val, y_train, y_val = train_test_split(X, y, test_size=0.33)"
   ]
  },
  {
   "cell_type": "code",
   "execution_count": 207,
   "metadata": {},
   "outputs": [
    {
     "data": {
      "text/plain": [
       "(898, 17)"
      ]
     },
     "execution_count": 207,
     "metadata": {},
     "output_type": "execute_result"
    }
   ],
   "source": [
    "X_train.shape"
   ]
  },
  {
   "cell_type": "code",
   "execution_count": 208,
   "metadata": {},
   "outputs": [
    {
     "data": {
      "text/plain": [
       "(443, 17)"
      ]
     },
     "execution_count": 208,
     "metadata": {},
     "output_type": "execute_result"
    }
   ],
   "source": [
    "X_val.shape"
   ]
  },
  {
   "cell_type": "markdown",
   "metadata": {},
   "source": [
    "## GridSearching\n",
    "### Sklearn "
   ]
  },
  {
   "cell_type": "code",
   "execution_count": 209,
   "metadata": {},
   "outputs": [
    {
     "name": "stdout",
     "output_type": "stream",
     "text": [
      "--- 9.051409721374512 seconds ---\n",
      "              precision    recall  f1-score   support\n",
      "\n",
      "           0       0.77      0.83      0.80       234\n",
      "           1       0.79      0.72      0.76       209\n",
      "\n",
      "   micro avg       0.78      0.78      0.78       443\n",
      "   macro avg       0.78      0.78      0.78       443\n",
      "weighted avg       0.78      0.78      0.78       443\n",
      "\n",
      "{'max_depth': 5, 'n_estimators': 100}\n"
     ]
    },
    {
     "data": {
      "text/plain": [
       "0.8541078804236699"
      ]
     },
     "execution_count": 209,
     "metadata": {},
     "output_type": "execute_result"
    }
   ],
   "source": [
    "# Grid search with Random Forest\n",
    "y_train = le.fit_transform(y_train)\n",
    "y_val = le.transform(y_val)\n",
    "\n",
    "# Time stemp\n",
    "start_time = time.time()\n",
    "\n",
    "# Random Forest __ sklearn\n",
    "parameters = {'max_depth':[5,8,10,12,15], 'n_estimators':[50, 80, 100, 150]}\n",
    "rf         = RandomForestClassifier()\n",
    "clf        = GridSearchCV(rf, parameters, scoring='roc_auc',\n",
    "                          cv=5, n_jobs=-1).fit(X_train, y_train)\n",
    "\n",
    "print(\"--- %s seconds ---\" % (time.time() - start_time))\n",
    "\n",
    "# Predict\n",
    "pred_y_0 = clf.predict(X_val)\n",
    "pred_y_1 = clf.predict_proba((X_val))\n",
    "print(classification_report(y_val, pred_y_0))\n",
    "print(clf.best_params_)\n",
    "\n",
    "# Calculate AUC\n",
    "fpr, tpr, thresholds = metrics.roc_curve(y_val, [i[1] for i in pred_y_1])\n",
    "metrics.auc(fpr, tpr)"
   ]
  },
  {
   "cell_type": "code",
   "execution_count": 210,
   "metadata": {},
   "outputs": [
    {
     "name": "stdout",
     "output_type": "stream",
     "text": [
      "               p1\n",
      "predict          \n",
      "0        0.495125\n",
      "1        0.885456\n",
      "               p1\n",
      "predict          \n",
      "0        0.004705\n",
      "1        0.509186\n"
     ]
    }
   ],
   "source": [
    "# Default threshold = 0.5\n",
    "prediction = pd.DataFrame(pred_y_0, columns=[\"predict\"])\n",
    "prediction[\"p1\"] = [i[1] for i in pred_y_1]\n",
    "\n",
    "print(prediction.groupby(\"predict\").max())\n",
    "print(prediction.groupby(\"predict\").min())"
   ]
  },
  {
   "cell_type": "code",
   "execution_count": 211,
   "metadata": {},
   "outputs": [
    {
     "data": {
      "text/plain": [
       "array([[194,  40],\n",
       "       [ 58, 151]])"
      ]
     },
     "execution_count": 211,
     "metadata": {},
     "output_type": "execute_result"
    }
   ],
   "source": [
    "# Confusion matrix\n",
    "confusion_matrix(y_val, pred_y_0)"
   ]
  },
  {
   "cell_type": "code",
   "execution_count": 212,
   "metadata": {},
   "outputs": [
    {
     "name": "stdout",
     "output_type": "stream",
     "text": [
      "--- 0.4541208744049072 seconds ---\n",
      "              precision    recall  f1-score   support\n",
      "\n",
      "           0       0.77      0.82      0.80       234\n",
      "           1       0.79      0.72      0.75       209\n",
      "\n",
      "   micro avg       0.78      0.78      0.78       443\n",
      "   macro avg       0.78      0.77      0.77       443\n",
      "weighted avg       0.78      0.78      0.78       443\n",
      "\n",
      "0.8541078804236699\n",
      "[[196  38]\n",
      " [ 63 146]]\n"
     ]
    }
   ],
   "source": [
    "# Random Forest \n",
    "start_time = time.time()\n",
    "rf         = RandomForestClassifier(max_depth=10, n_estimators=150)\n",
    "rf.fit(X_train, y_train)\n",
    "pred_y_0   = rf.predict(X_val)\n",
    "pred_y_1 = clf.predict_proba((X_val))\n",
    "print(\"--- %s seconds ---\" % (time.time() - start_time))\n",
    "print(classification_report(y_val, pred_y_0))\n",
    "fpr, tpr, thresholds = metrics.roc_curve(y_val, [i[1] for i in pred_y_1])\n",
    "\n",
    "print(metrics.auc(fpr, tpr))\n",
    "\n",
    "print(confusion_matrix(y_val, [1 if i[1] > 0.55 else 0 for i in pred_y_1]))"
   ]
  },
  {
   "cell_type": "markdown",
   "metadata": {},
   "source": [
    "### H2O in Python"
   ]
  },
  {
   "cell_type": "code",
   "execution_count": 213,
   "metadata": {},
   "outputs": [
    {
     "name": "stdout",
     "output_type": "stream",
     "text": [
      "Checking whether there is an H2O instance running at http://localhost:54321 . connected.\n"
     ]
    },
    {
     "data": {
      "text/html": [
       "<div style=\"overflow:auto\"><table style=\"width:50%\"><tr><td>H2O cluster uptime:</td>\n",
       "<td>1 hour 24 mins</td></tr>\n",
       "<tr><td>H2O cluster timezone:</td>\n",
       "<td>America/Los_Angeles</td></tr>\n",
       "<tr><td>H2O data parsing timezone:</td>\n",
       "<td>UTC</td></tr>\n",
       "<tr><td>H2O cluster version:</td>\n",
       "<td>3.24.0.5</td></tr>\n",
       "<tr><td>H2O cluster version age:</td>\n",
       "<td>6 days </td></tr>\n",
       "<tr><td>H2O cluster name:</td>\n",
       "<td>H2O_from_python_gaozhiping_cefn0e</td></tr>\n",
       "<tr><td>H2O cluster total nodes:</td>\n",
       "<td>1</td></tr>\n",
       "<tr><td>H2O cluster free memory:</td>\n",
       "<td>1.582 Gb</td></tr>\n",
       "<tr><td>H2O cluster total cores:</td>\n",
       "<td>4</td></tr>\n",
       "<tr><td>H2O cluster allowed cores:</td>\n",
       "<td>4</td></tr>\n",
       "<tr><td>H2O cluster status:</td>\n",
       "<td>locked, healthy</td></tr>\n",
       "<tr><td>H2O connection url:</td>\n",
       "<td>http://localhost:54321</td></tr>\n",
       "<tr><td>H2O connection proxy:</td>\n",
       "<td>None</td></tr>\n",
       "<tr><td>H2O internal security:</td>\n",
       "<td>False</td></tr>\n",
       "<tr><td>H2O API Extensions:</td>\n",
       "<td>Amazon S3, XGBoost, Algos, AutoML, Core V3, Core V4</td></tr>\n",
       "<tr><td>Python version:</td>\n",
       "<td>3.6.8 final</td></tr></table></div>"
      ],
      "text/plain": [
       "--------------------------  ---------------------------------------------------\n",
       "H2O cluster uptime:         1 hour 24 mins\n",
       "H2O cluster timezone:       America/Los_Angeles\n",
       "H2O data parsing timezone:  UTC\n",
       "H2O cluster version:        3.24.0.5\n",
       "H2O cluster version age:    6 days\n",
       "H2O cluster name:           H2O_from_python_gaozhiping_cefn0e\n",
       "H2O cluster total nodes:    1\n",
       "H2O cluster free memory:    1.582 Gb\n",
       "H2O cluster total cores:    4\n",
       "H2O cluster allowed cores:  4\n",
       "H2O cluster status:         locked, healthy\n",
       "H2O connection url:         http://localhost:54321\n",
       "H2O connection proxy:\n",
       "H2O internal security:      False\n",
       "H2O API Extensions:         Amazon S3, XGBoost, Algos, AutoML, Core V3, Core V4\n",
       "Python version:             3.6.8 final\n",
       "--------------------------  ---------------------------------------------------"
      ]
     },
     "metadata": {},
     "output_type": "display_data"
    }
   ],
   "source": [
    "import h2o\n",
    "h2o.init(nthreads=-1)             #specify max number of bytes. uses all cores by default.\n",
    "h2o.remove_all()                          #clean slate, in case cluster was already running"
   ]
  },
  {
   "cell_type": "code",
   "execution_count": 214,
   "metadata": {},
   "outputs": [],
   "source": [
    "from h2o.estimators.gbm import H2OGradientBoostingEstimator\n",
    "from h2o.estimators.random_forest import H2ORandomForestEstimator\n",
    "from h2o.grid.grid_search import H2OGridSearch\n",
    "from h2o.frame import H2OFrame"
   ]
  },
  {
   "cell_type": "code",
   "execution_count": 215,
   "metadata": {},
   "outputs": [
    {
     "name": "stdout",
     "output_type": "stream",
     "text": [
      "Parse progress: |█████████████████████████████████████████████████████████| 100%\n",
      "Parse progress: |█████████████████████████████████████████████████████████| 100%\n"
     ]
    }
   ],
   "source": [
    "# Feature transformation\n",
    "x = list(X_train.columns)\n",
    "y = 'COMPANY_SIZE'\n",
    "train = X_train.copy()\n",
    "train['COMPANY_SIZE'] = y_train\n",
    "train = H2OFrame(train)\n",
    "train['COMPANY_SIZE'] = train['COMPANY_SIZE'].asfactor()\n",
    "\n",
    "valid = X_val.copy()\n",
    "valid['COMPANY_SIZE'] = y_val\n",
    "valid = H2OFrame(valid)\n",
    "valid['COMPANY_SIZE'] = valid['COMPANY_SIZE'].asfactor()"
   ]
  },
  {
   "cell_type": "code",
   "execution_count": 216,
   "metadata": {},
   "outputs": [
    {
     "name": "stdout",
     "output_type": "stream",
     "text": [
      "drf Grid Build progress: |████████████████████████████████████████████████| 100%\n",
      "--- 12.93783187866211 seconds ---\n"
     ]
    },
    {
     "data": {
      "text/plain": [
       "0.8465832413200834"
      ]
     },
     "execution_count": 216,
     "metadata": {},
     "output_type": "execute_result"
    }
   ],
   "source": [
    "# H2O GridSearch with Random Forest\n",
    "start_time = time.time()\n",
    "gbm_params1 = {'ntrees': [50, 80, 100, 150],\n",
    "                'max_depth': [5,8,10,12,15]}\n",
    "\n",
    "\n",
    "\n",
    "gbm_grid1 = H2OGridSearch(model=H2ORandomForestEstimator,\n",
    "                          grid_id='gbm_grid1',\n",
    "                          hyper_params=gbm_params1)\n",
    "gbm_grid1.train(x=x, y=y,\n",
    "                training_frame=train,\n",
    "                seed=1)\n",
    "\n",
    "# Get the grid results, sorted by validation AUC\n",
    "gbm_gridperf1 = gbm_grid1.get_grid(sort_by='auc', decreasing=True)\n",
    "print(\"--- %s seconds ---\" % (time.time() - start_time))\n",
    "gbm_gridperf1\n",
    "\n",
    "# Grab the top GBM model, chosen by validation AUC\n",
    "best_gbm1 = gbm_gridperf1.models[0]\n",
    "\n",
    "# Now let's evaluate the model performance on a test set\n",
    "# so we get an honest estimate of top model performance\n",
    "best_gbm_perf1 = best_gbm1.model_performance(valid)\n",
    "\n",
    "best_gbm_perf1.auc()"
   ]
  },
  {
   "cell_type": "code",
   "execution_count": 217,
   "metadata": {},
   "outputs": [
    {
     "name": "stdout",
     "output_type": "stream",
     "text": [
      "     max_depth ntrees           model_ids                 auc\n",
      "0           10    150  gbm_grid1_model_18  0.8649086989349865\n",
      "1           10    100  gbm_grid1_model_13  0.8641163964393579\n",
      "2            8    150  gbm_grid1_model_17  0.8633365124781435\n",
      "3            8    100  gbm_grid1_model_12  0.8632669686854236\n",
      "4           10     80   gbm_grid1_model_8  0.8629937609283104\n",
      "5           12    150  gbm_grid1_model_19  0.8626286560165315\n",
      "6            8     80   gbm_grid1_model_7  0.8622089095533302\n",
      "7           15    150  gbm_grid1_model_20  0.8616028850739151\n",
      "8           12    100  gbm_grid1_model_14  0.8609447027499603\n",
      "9           12     80   gbm_grid1_model_9  0.8608850937847718\n",
      "10          15     80  gbm_grid1_model_10  0.8607162017167382\n",
      "11           5    150  gbm_grid1_model_16  0.8606665275790812\n",
      "12          15    100  gbm_grid1_model_15  0.8603883524082022\n",
      "13           5    100  gbm_grid1_model_11  0.8582076577650612\n",
      "14           5     80   gbm_grid1_model_6  0.8556941463996185\n",
      "15           8     50   gbm_grid1_model_2  0.8547677237323159\n",
      "16          10     50   gbm_grid1_model_3  0.8542809171832777\n",
      "17          12     50   gbm_grid1_model_4  0.8515836115085043\n",
      "18           5     50   gbm_grid1_model_1  0.8506994118582102\n",
      "19          15     50   gbm_grid1_model_5  0.8504957478938165\n"
     ]
    },
    {
     "data": {
      "text/plain": []
     },
     "execution_count": 217,
     "metadata": {},
     "output_type": "execute_result"
    }
   ],
   "source": [
    "# Check the model with the best performance\n",
    "gbm_gridperf1"
   ]
  },
  {
   "cell_type": "code",
   "execution_count": 218,
   "metadata": {},
   "outputs": [
    {
     "name": "stdout",
     "output_type": "stream",
     "text": [
      "Confusion Matrix (Act/Pred) for max f1 @ threshold = 0.37535734097162887: \n"
     ]
    },
    {
     "data": {
      "text/html": [
       "<div style=\"overflow:auto\"><table style=\"width:50%\"><tr><td><b></b></td>\n",
       "<td><b>0</b></td>\n",
       "<td><b>1</b></td>\n",
       "<td><b>Error</b></td>\n",
       "<td><b>Rate</b></td></tr>\n",
       "<tr><td>0</td>\n",
       "<td>170.0</td>\n",
       "<td>64.0</td>\n",
       "<td>0.2735</td>\n",
       "<td> (64.0/234.0)</td></tr>\n",
       "<tr><td>1</td>\n",
       "<td>41.0</td>\n",
       "<td>168.0</td>\n",
       "<td>0.1962</td>\n",
       "<td> (41.0/209.0)</td></tr>\n",
       "<tr><td>Total</td>\n",
       "<td>211.0</td>\n",
       "<td>232.0</td>\n",
       "<td>0.237</td>\n",
       "<td> (105.0/443.0)</td></tr></table></div>"
      ],
      "text/plain": [
       "       0    1    Error    Rate\n",
       "-----  ---  ---  -------  -------------\n",
       "0      170  64   0.2735   (64.0/234.0)\n",
       "1      41   168  0.1962   (41.0/209.0)\n",
       "Total  211  232  0.237    (105.0/443.0)"
      ]
     },
     "metadata": {},
     "output_type": "display_data"
    },
    {
     "data": {
      "text/plain": []
     },
     "execution_count": 218,
     "metadata": {},
     "output_type": "execute_result"
    }
   ],
   "source": [
    "# Confusion matrix\n",
    "best_gbm_perf1.confusion_matrix()"
   ]
  },
  {
   "cell_type": "code",
   "execution_count": 219,
   "metadata": {},
   "outputs": [
    {
     "name": "stdout",
     "output_type": "stream",
     "text": [
      "drf Model Build progress: |███████████████████████████████████████████████| 100%\n",
      "--- 0.9379830360412598 seconds ---\n",
      "Trainset AUC is 0.8610837903353998\n",
      "AUC is 0.8529321555637345\n",
      "Confusion Matrix (Act/Pred) for max f1 @ threshold = 0.34602851320058103: \n"
     ]
    },
    {
     "data": {
      "text/html": [
       "<div style=\"overflow:auto\"><table style=\"width:50%\"><tr><td><b></b></td>\n",
       "<td><b>0</b></td>\n",
       "<td><b>1</b></td>\n",
       "<td><b>Error</b></td>\n",
       "<td><b>Rate</b></td></tr>\n",
       "<tr><td>0</td>\n",
       "<td>122.0</td>\n",
       "<td>112.0</td>\n",
       "<td>0.4786</td>\n",
       "<td> (112.0/234.0)</td></tr>\n",
       "<tr><td>1</td>\n",
       "<td>13.0</td>\n",
       "<td>196.0</td>\n",
       "<td>0.0622</td>\n",
       "<td> (13.0/209.0)</td></tr>\n",
       "<tr><td>Total</td>\n",
       "<td>135.0</td>\n",
       "<td>308.0</td>\n",
       "<td>0.2822</td>\n",
       "<td> (125.0/443.0)</td></tr></table></div>"
      ],
      "text/plain": [
       "       0    1    Error    Rate\n",
       "-----  ---  ---  -------  -------------\n",
       "0      122  112  0.4786   (112.0/234.0)\n",
       "1      13   196  0.0622   (13.0/209.0)\n",
       "Total  135  308  0.2822   (125.0/443.0)"
      ]
     },
     "metadata": {},
     "output_type": "display_data"
    },
    {
     "data": {
      "text/plain": []
     },
     "execution_count": 219,
     "metadata": {},
     "output_type": "execute_result"
    }
   ],
   "source": [
    "# H2O Random Forest\n",
    "start_time = time.time()\n",
    "my_rf = H2ORandomForestEstimator(ntrees = 100, max_depth=5)\n",
    "#my_rf = H2ORandomForestEstimator(ntrees = 150, max_depth=10, nfolds=5)\n",
    "my_rf.train(x=x, y=y, training_frame=train)\n",
    "print(\"--- %s seconds ---\" % (time.time() - start_time))\n",
    "print(\"Trainset AUC is %s\" % my_rf.model_performance().auc())\n",
    "print(\"AUC is %s\" % my_rf.model_performance(valid).auc())\n",
    "my_rf.model_performance(valid).confusion_matrix()"
   ]
  },
  {
   "cell_type": "code",
   "execution_count": 220,
   "metadata": {},
   "outputs": [
    {
     "name": "stdout",
     "output_type": "stream",
     "text": [
      "Parse progress: |█████████████████████████████████████████████████████████| 100%\n",
      "drf prediction progress: |████████████████████████████████████████████████| 100%\n",
      "AUC by sklearn.metrics is 0.8529321555637345\n"
     ]
    },
    {
     "data": {
      "text/plain": [
       "array([[184,  50],\n",
       "       [ 53, 156]])"
      ]
     },
     "execution_count": 220,
     "metadata": {},
     "output_type": "execute_result"
    }
   ],
   "source": [
    "# AUC with sklearn metrics on H2o prediction\n",
    "pred = my_rf.predict(H2OFrame(X_val)).as_data_frame()\n",
    "fpr, tpr, thresholds = metrics.roc_curve(y_val, pred['p1'])\n",
    "print(\"AUC by sklearn.metrics is %s\" % metrics.auc(fpr, tpr))\n",
    "confusion_matrix(y_val, pred['predict'])"
   ]
  },
  {
   "cell_type": "code",
   "execution_count": 221,
   "metadata": {},
   "outputs": [],
   "source": [
    "pred[\"threshold\"] = pred.p1 >= 0.48381023968259496"
   ]
  },
  {
   "cell_type": "code",
   "execution_count": 222,
   "metadata": {},
   "outputs": [
    {
     "data": {
      "text/plain": [
       "array([[188,  46],\n",
       "       [ 56, 153]])"
      ]
     },
     "execution_count": 222,
     "metadata": {},
     "output_type": "execute_result"
    }
   ],
   "source": [
    "confusion_matrix(y_val, pred['threshold'])"
   ]
  },
  {
   "cell_type": "code",
   "execution_count": 223,
   "metadata": {},
   "outputs": [
    {
     "data": {
      "text/plain": [
       "array([[184,  50],\n",
       "       [ 53, 156]])"
      ]
     },
     "execution_count": 223,
     "metadata": {},
     "output_type": "execute_result"
    }
   ],
   "source": [
    "confusion_matrix(y_val, pred['predict'])"
   ]
  },
  {
   "cell_type": "markdown",
   "metadata": {},
   "source": [
    "### Compare the moedel performance"
   ]
  },
  {
   "cell_type": "code",
   "execution_count": null,
   "metadata": {},
   "outputs": [],
   "source": [
    "Prediction_rand = []\n",
    "Time_rand = []\n",
    "Prediction_h2o = []\n",
    "Time_h2o = []\n",
    "for _ in range(50):\n",
    "    \n",
    "    # Time stemp\n",
    "    start_time = time.time()\n",
    "    \n",
    "    # Random Forest __ sklearn\n",
    "    parameters = {'max_depth':[5,8,10,12,15], 'n_estimators':[50, 80, 100, 150]}\n",
    "    rf         = RandomForestClassifier()\n",
    "    clf        = GridSearchCV(rf, parameters, scoring='roc_auc',\n",
    "                              cv=5, n_jobs=-1).fit(X_train, y_train)\n",
    "    \n",
    "    Time_rand.append(time.time() - start_time)\n",
    "    \n",
    "    # Predict\n",
    "    pred_y_0 = clf.predict(X_val)\n",
    "    pred_y_1 = clf.predict_proba((X_val))\n",
    "\n",
    "    \n",
    "    # Calculate AUC\n",
    "    fpr, tpr, thresholds = metrics.roc_curve(y_val, [i[1] for i in pred_y_1])\n",
    "    Prediction_rand.append(metrics.auc(fpr, tpr))\n",
    "    \n",
    "    \n",
    "    # H2O GridSearch with Random Forest\n",
    "    start_time = time.time()\n",
    "    gbm_params1 = {'ntrees': [50, 80, 100, 150],\n",
    "                    'max_depth': [5,8,10,12,15]}\n",
    "    \n",
    "    \n",
    "    \n",
    "    gbm_grid1 = H2OGridSearch(model=H2ORandomForestEstimator,\n",
    "                              grid_id='gbm_grid1',\n",
    "                              hyper_params=gbm_params1)\n",
    "    gbm_grid1.train(x=x, y=y,\n",
    "                    training_frame=train,\n",
    "                    seed=1)\n",
    "    \n",
    "    # Get the grid results, sorted by validation AUC\n",
    "    gbm_gridperf1 = gbm_grid1.get_grid(sort_by='auc', decreasing=True)\n",
    "    Time_h2o.append(time.time() - start_time)\n",
    "    gbm_gridperf1\n",
    "    \n",
    "    # Grab the top GBM model, chosen by validation AUC\n",
    "    best_gbm1 = gbm_gridperf1.models[0]\n",
    "    \n",
    "# Now let's evaluate the model performance on a test set\n",
    "# so we get an honest estimate of top model performance\n",
    "    best_gbm_perf1 = best_gbm1.model_performance(valid)\n",
    "\n",
    "    Prediction_h2o.append(best_gbm_perf1.auc())\n",
    "    \n",
    "Performance = pd.DataFrame({\"Prediction_rand\":Prediction_rand, \"Prediction_h2o\":Prediction_h2o,\n",
    "                           \"Time_rand\":Time_rand, \"Time_h2o\":Time_h2o})\n",
    "print(\"All Down\")"
   ]
  },
  {
   "cell_type": "code",
   "execution_count": 124,
   "metadata": {},
   "outputs": [
    {
     "data": {
      "text/html": [
       "<div>\n",
       "<style scoped>\n",
       "    .dataframe tbody tr th:only-of-type {\n",
       "        vertical-align: middle;\n",
       "    }\n",
       "\n",
       "    .dataframe tbody tr th {\n",
       "        vertical-align: top;\n",
       "    }\n",
       "\n",
       "    .dataframe thead th {\n",
       "        text-align: right;\n",
       "    }\n",
       "</style>\n",
       "<table border=\"1\" class=\"dataframe\">\n",
       "  <thead>\n",
       "    <tr style=\"text-align: right;\">\n",
       "      <th></th>\n",
       "      <th>Prediction_rand</th>\n",
       "      <th>Prediction_h2o</th>\n",
       "      <th>Time_rand</th>\n",
       "      <th>Time_h2o</th>\n",
       "    </tr>\n",
       "  </thead>\n",
       "  <tbody>\n",
       "    <tr>\n",
       "      <th>0</th>\n",
       "      <td>0.853529</td>\n",
       "      <td>0.852712</td>\n",
       "      <td>9.281737</td>\n",
       "      <td>12.098605</td>\n",
       "    </tr>\n",
       "    <tr>\n",
       "      <th>1</th>\n",
       "      <td>0.868729</td>\n",
       "      <td>0.871670</td>\n",
       "      <td>5.849407</td>\n",
       "      <td>10.266464</td>\n",
       "    </tr>\n",
       "    <tr>\n",
       "      <th>2</th>\n",
       "      <td>0.825380</td>\n",
       "      <td>0.830771</td>\n",
       "      <td>5.095633</td>\n",
       "      <td>12.106715</td>\n",
       "    </tr>\n",
       "    <tr>\n",
       "      <th>3</th>\n",
       "      <td>0.863434</td>\n",
       "      <td>0.859524</td>\n",
       "      <td>8.735538</td>\n",
       "      <td>14.241034</td>\n",
       "    </tr>\n",
       "    <tr>\n",
       "      <th>4</th>\n",
       "      <td>0.875709</td>\n",
       "      <td>0.866625</td>\n",
       "      <td>10.980673</td>\n",
       "      <td>16.647982</td>\n",
       "    </tr>\n",
       "  </tbody>\n",
       "</table>\n",
       "</div>"
      ],
      "text/plain": [
       "   Prediction_rand  Prediction_h2o  Time_rand   Time_h2o\n",
       "0         0.853529        0.852712   9.281737  12.098605\n",
       "1         0.868729        0.871670   5.849407  10.266464\n",
       "2         0.825380        0.830771   5.095633  12.106715\n",
       "3         0.863434        0.859524   8.735538  14.241034\n",
       "4         0.875709        0.866625  10.980673  16.647982"
      ]
     },
     "execution_count": 124,
     "metadata": {},
     "output_type": "execute_result"
    }
   ],
   "source": [
    "Performance.head()"
   ]
  },
  {
   "cell_type": "code",
   "execution_count": 125,
   "metadata": {},
   "outputs": [
    {
     "data": {
      "image/png": "[encoded data removed]",
      "text/plain": [
       "<Figure size 432x288 with 1 Axes>"
      ]
     },
     "metadata": {
      "needs_background": "light"
     },
     "output_type": "display_data"
    }
   ],
   "source": [
    "Performance.Prediction_rand.plot()\n",
    "Performance.Prediction_h2o.plot()\n",
    "plt.title(\"AUC for each training\")\n",
    "plt.legend()\n",
    "plt.show()"
   ]
  },
  {
   "cell_type": "code",
   "execution_count": 131,
   "metadata": {},
   "outputs": [
    {
     "data": {
      "text/plain": [
       "Prediction_rand    0.517241\n",
       "Prediction_h2o     0.517241\n",
       "Time_rand          0.517241\n",
       "Time_h2o           0.517241\n",
       "dtype: float64"
      ]
     },
     "execution_count": 131,
     "metadata": {},
     "output_type": "execute_result"
    }
   ],
   "source": [
    "Performance[Performance.Prediction_rand < Performance.Prediction_h2o].count()/Performance.count()"
   ]
  },
  {
   "cell_type": "markdown",
   "metadata": {},
   "source": [
    "### Compare the moedel performance with sampling"
   ]
  },
  {
   "cell_type": "code",
   "execution_count": 120,
   "metadata": {},
   "outputs": [
    {
     "name": "stdout",
     "output_type": "stream",
     "text": [
      "Checking whether there is an H2O instance running at http://localhost:54321 . connected.\n"
     ]
    },
    {
     "data": {
      "text/html": [
       "<div style=\"overflow:auto\"><table style=\"width:50%\"><tr><td>H2O cluster uptime:</td>\n",
       "<td>6 mins 08 secs</td></tr>\n",
       "<tr><td>H2O cluster timezone:</td>\n",
       "<td>America/Los_Angeles</td></tr>\n",
       "<tr><td>H2O data parsing timezone:</td>\n",
       "<td>UTC</td></tr>\n",
       "<tr><td>H2O cluster version:</td>\n",
       "<td>3.24.0.5</td></tr>\n",
       "<tr><td>H2O cluster version age:</td>\n",
       "<td>6 days </td></tr>\n",
       "<tr><td>H2O cluster name:</td>\n",
       "<td>H2O_from_python_gaozhiping_cefn0e</td></tr>\n",
       "<tr><td>H2O cluster total nodes:</td>\n",
       "<td>1</td></tr>\n",
       "<tr><td>H2O cluster free memory:</td>\n",
       "<td>1.756 Gb</td></tr>\n",
       "<tr><td>H2O cluster total cores:</td>\n",
       "<td>4</td></tr>\n",
       "<tr><td>H2O cluster allowed cores:</td>\n",
       "<td>4</td></tr>\n",
       "<tr><td>H2O cluster status:</td>\n",
       "<td>locked, healthy</td></tr>\n",
       "<tr><td>H2O connection url:</td>\n",
       "<td>http://localhost:54321</td></tr>\n",
       "<tr><td>H2O connection proxy:</td>\n",
       "<td>None</td></tr>\n",
       "<tr><td>H2O internal security:</td>\n",
       "<td>False</td></tr>\n",
       "<tr><td>H2O API Extensions:</td>\n",
       "<td>Amazon S3, XGBoost, Algos, AutoML, Core V3, Core V4</td></tr>\n",
       "<tr><td>Python version:</td>\n",
       "<td>3.6.8 final</td></tr></table></div>"
      ],
      "text/plain": [
       "--------------------------  ---------------------------------------------------\n",
       "H2O cluster uptime:         6 mins 08 secs\n",
       "H2O cluster timezone:       America/Los_Angeles\n",
       "H2O data parsing timezone:  UTC\n",
       "H2O cluster version:        3.24.0.5\n",
       "H2O cluster version age:    6 days\n",
       "H2O cluster name:           H2O_from_python_gaozhiping_cefn0e\n",
       "H2O cluster total nodes:    1\n",
       "H2O cluster free memory:    1.756 Gb\n",
       "H2O cluster total cores:    4\n",
       "H2O cluster allowed cores:  4\n",
       "H2O cluster status:         locked, healthy\n",
       "H2O connection url:         http://localhost:54321\n",
       "H2O connection proxy:\n",
       "H2O internal security:      False\n",
       "H2O API Extensions:         Amazon S3, XGBoost, Algos, AutoML, Core V3, Core V4\n",
       "Python version:             3.6.8 final\n",
       "--------------------------  ---------------------------------------------------"
      ]
     },
     "metadata": {},
     "output_type": "display_data"
    },
    {
     "name": "stdout",
     "output_type": "stream",
     "text": [
      "Parse progress: |█████████████████████████████████████████████████████████| 100%\n",
      "Parse progress: |█████████████████████████████████████████████████████████| 100%\n",
      "drf Grid Build progress: |████████████████████████████████████████████████| 100%\n",
      "Parse progress: |█████████████████████████████████████████████████████████| 100%\n",
      "Parse progress: |█████████████████████████████████████████████████████████| 100%\n",
      "drf Grid Build progress: |████████████████████████████████████████████████| 100%\n",
      "Parse progress: |█████████████████████████████████████████████████████████| 100%\n",
      "Parse progress: |█████████████████████████████████████████████████████████| 100%\n",
      "drf Grid Build progress: |████████████████████████████████████████████████| 100%\n",
      "Parse progress: |█████████████████████████████████████████████████████████| 100%\n",
      "Parse progress: |█████████████████████████████████████████████████████████| 100%\n",
      "drf Grid Build progress: |████████████████████████████████████████████████| 100%\n",
      "Parse progress: |█████████████████████████████████████████████████████████| 100%\n",
      "Parse progress: |█████████████████████████████████████████████████████████| 100%\n",
      "drf Grid Build progress: |████████████████████████████████████████████████| 100%\n",
      "Parse progress: |█████████████████████████████████████████████████████████| 100%\n",
      "Parse progress: |█████████████████████████████████████████████████████████| 100%\n",
      "drf Grid Build progress: |████████████████████████████████████████████████| 100%\n",
      "Parse progress: |█████████████████████████████████████████████████████████| 100%\n",
      "Parse progress: |█████████████████████████████████████████████████████████| 100%\n",
      "drf Grid Build progress: |████████████████████████████████████████████████| 100%\n",
      "Parse progress: |█████████████████████████████████████████████████████████| 100%\n",
      "Parse progress: |█████████████████████████████████████████████████████████| 100%\n",
      "drf Grid Build progress: |████████████████████████████████████████████████| 100%\n",
      "Parse progress: |█████████████████████████████████████████████████████████| 100%\n",
      "Parse progress: |█████████████████████████████████████████████████████████| 100%\n",
      "drf Grid Build progress: |████████████████████████████████████████████████| 100%\n",
      "Parse progress: |█████████████████████████████████████████████████████████| 100%\n",
      "Parse progress: |█████████████████████████████████████████████████████████| 100%\n",
      "drf Grid Build progress: |████████████████████████████████████████████████| 100%\n",
      "Parse progress: |█████████████████████████████████████████████████████████| 100%\n",
      "Parse progress: |█████████████████████████████████████████████████████████| 100%\n",
      "drf Grid Build progress: |████████████████████████████████████████████████| 100%\n",
      "Parse progress: |█████████████████████████████████████████████████████████| 100%\n",
      "Parse progress: |█████████████████████████████████████████████████████████| 100%\n",
      "drf Grid Build progress: |████████████████████████████████████████████████| 100%\n",
      "Parse progress: |█████████████████████████████████████████████████████████| 100%\n",
      "Parse progress: |█████████████████████████████████████████████████████████| 100%\n",
      "drf Grid Build progress: |████████████████████████████████████████████████| 100%\n",
      "Parse progress: |█████████████████████████████████████████████████████████| 100%\n",
      "Parse progress: |█████████████████████████████████████████████████████████| 100%\n",
      "drf Grid Build progress: |████████████████████████████████████████████████| 100%\n",
      "Parse progress: |█████████████████████████████████████████████████████████| 100%\n",
      "Parse progress: |█████████████████████████████████████████████████████████| 100%\n",
      "drf Grid Build progress: |████████████████████████████████████████████████| 100%\n",
      "Parse progress: |█████████████████████████████████████████████████████████| 100%\n",
      "Parse progress: |█████████████████████████████████████████████████████████| 100%\n",
      "drf Grid Build progress: |████████████████████████████████████████████████| 100%\n",
      "Parse progress: |█████████████████████████████████████████████████████████| 100%\n",
      "Parse progress: |█████████████████████████████████████████████████████████| 100%\n",
      "drf Grid Build progress: |████████████████████████████████████████████████| 100%\n",
      "Parse progress: |█████████████████████████████████████████████████████████| 100%\n",
      "Parse progress: |█████████████████████████████████████████████████████████| 100%\n",
      "drf Grid Build progress: |████████████████████████████████████████████████| 100%\n",
      "Parse progress: |█████████████████████████████████████████████████████████| 100%\n",
      "Parse progress: |█████████████████████████████████████████████████████████| 100%\n",
      "drf Grid Build progress: |████████████████████████████████████████████████| 100%\n",
      "Parse progress: |█████████████████████████████████████████████████████████| 100%\n",
      "Parse progress: |█████████████████████████████████████████████████████████| 100%\n",
      "drf Grid Build progress: |████████████████████████████████████████████████| 100%\n",
      "Parse progress: |█████████████████████████████████████████████████████████| 100%\n",
      "Parse progress: |█████████████████████████████████████████████████████████| 100%\n",
      "drf Grid Build progress: |████████████████████████████████████████████████| 100%\n",
      "Parse progress: |█████████████████████████████████████████████████████████| 100%\n",
      "Parse progress: |█████████████████████████████████████████████████████████| 100%\n",
      "drf Grid Build progress: |████████████████████████████████████████████████| 100%\n",
      "Parse progress: |█████████████████████████████████████████████████████████| 100%\n",
      "Parse progress: |█████████████████████████████████████████████████████████| 100%\n",
      "drf Grid Build progress: |████████████████████████████████████████████████| 100%\n",
      "Parse progress: |█████████████████████████████████████████████████████████| 100%\n",
      "Parse progress: |█████████████████████████████████████████████████████████| 100%\n",
      "drf Grid Build progress: |████████████████████████████████████████████████| 100%\n",
      "Parse progress: |█████████████████████████████████████████████████████████| 100%\n",
      "Parse progress: |█████████████████████████████████████████████████████████| 100%\n",
      "drf Grid Build progress: |████████████████████████████████████████████████| 100%\n",
      "Parse progress: |█████████████████████████████████████████████████████████| 100%\n",
      "Parse progress: |█████████████████████████████████████████████████████████| 100%\n",
      "drf Grid Build progress: |████████████████████████████████████████████████| 100%\n",
      "Parse progress: |█████████████████████████████████████████████████████████| 100%\n",
      "Parse progress: |█████████████████████████████████████████████████████████| 100%\n",
      "drf Grid Build progress: |████████████████████████████████████████████████| 100%\n",
      "Parse progress: |█████████████████████████████████████████████████████████| 100%\n",
      "Parse progress: |█████████████████████████████████████████████████████████| 100%\n",
      "drf Grid Build progress: |████████████████████████████████████████████████| 100%\n",
      "Parse progress: |█████████████████████████████████████████████████████████| 100%\n",
      "Parse progress: |█████████████████████████████████████████████████████████| 100%\n",
      "drf Grid Build progress: |████████████████████████████████████████████████| 100%\n",
      "Parse progress: |█████████████████████████████████████████████████████████| 100%\n",
      "Parse progress: |█████████████████████████████████████████████████████████| 100%\n",
      "drf Grid Build progress: |████████████████████████████████████████████████| 100%\n"
     ]
    },
    {
     "ename": "KeyboardInterrupt",
     "evalue": "",
     "output_type": "error",
     "traceback": [
      "\u001b[0;31m---------------------------------------------------------------------------\u001b[0m",
      "\u001b[0;31mTypeError\u001b[0m                                 Traceback (most recent call last)",
      "\u001b[0;32m/anaconda3/lib/python3.6/site-packages/urllib3/connectionpool.py\u001b[0m in \u001b[0;36m_make_request\u001b[0;34m(self, conn, method, url, timeout, chunked, **httplib_request_kw)\u001b[0m\n\u001b[1;32m    376\u001b[0m             \u001b[0;32mtry\u001b[0m\u001b[0;34m:\u001b[0m  \u001b[0;31m# Python 2.7, use buffering of HTTP responses\u001b[0m\u001b[0;34m\u001b[0m\u001b[0;34m\u001b[0m\u001b[0m\n\u001b[0;32m--> 377\u001b[0;31m                 \u001b[0mhttplib_response\u001b[0m \u001b[0;34m=\u001b[0m \u001b[0mconn\u001b[0m\u001b[0;34m.\u001b[0m\u001b[0mgetresponse\u001b[0m\u001b[0;34m(\u001b[0m\u001b[0mbuffering\u001b[0m\u001b[0;34m=\u001b[0m\u001b[0;32mTrue\u001b[0m\u001b[0;34m)\u001b[0m\u001b[0;34m\u001b[0m\u001b[0;34m\u001b[0m\u001b[0m\n\u001b[0m\u001b[1;32m    378\u001b[0m             \u001b[0;32mexcept\u001b[0m \u001b[0mTypeError\u001b[0m\u001b[0;34m:\u001b[0m  \u001b[0;31m# Python 3\u001b[0m\u001b[0;34m\u001b[0m\u001b[0;34m\u001b[0m\u001b[0m\n",
      "\u001b[0;31mTypeError\u001b[0m: getresponse() got an unexpected keyword argument 'buffering'",
      "\nDuring handling of the above exception, another exception occurred:\n",
      "\u001b[0;31mKeyboardInterrupt\u001b[0m                         Traceback (most recent call last)",
      "\u001b[0;32m<ipython-input-120-2adce3c8c4c3>\u001b[0m in \u001b[0;36m<module>\u001b[0;34m\u001b[0m\n\u001b[1;32m     72\u001b[0m \u001b[0;34m\u001b[0m\u001b[0m\n\u001b[1;32m     73\u001b[0m     \u001b[0;31m# Get the grid results, sorted by validation AUC\u001b[0m\u001b[0;34m\u001b[0m\u001b[0;34m\u001b[0m\u001b[0;34m\u001b[0m\u001b[0m\n\u001b[0;32m---> 74\u001b[0;31m     \u001b[0mgbm_gridperf1\u001b[0m \u001b[0;34m=\u001b[0m \u001b[0mgbm_grid1\u001b[0m\u001b[0;34m.\u001b[0m\u001b[0mget_grid\u001b[0m\u001b[0;34m(\u001b[0m\u001b[0msort_by\u001b[0m\u001b[0;34m=\u001b[0m\u001b[0;34m'auc'\u001b[0m\u001b[0;34m,\u001b[0m \u001b[0mdecreasing\u001b[0m\u001b[0;34m=\u001b[0m\u001b[0;32mTrue\u001b[0m\u001b[0;34m)\u001b[0m\u001b[0;34m\u001b[0m\u001b[0;34m\u001b[0m\u001b[0m\n\u001b[0m\u001b[1;32m     75\u001b[0m     \u001b[0mTime_h2o\u001b[0m\u001b[0;34m.\u001b[0m\u001b[0mappend\u001b[0m\u001b[0;34m(\u001b[0m\u001b[0mtime\u001b[0m\u001b[0;34m.\u001b[0m\u001b[0mtime\u001b[0m\u001b[0;34m(\u001b[0m\u001b[0;34m)\u001b[0m \u001b[0;34m-\u001b[0m \u001b[0mstart_time\u001b[0m\u001b[0;34m)\u001b[0m\u001b[0;34m\u001b[0m\u001b[0;34m\u001b[0m\u001b[0m\n\u001b[1;32m     76\u001b[0m     \u001b[0mgbm_gridperf1\u001b[0m\u001b[0;34m\u001b[0m\u001b[0;34m\u001b[0m\u001b[0m\n",
      "\u001b[0;32m/anaconda3/lib/python3.6/site-packages/h2o/grid/grid_search.py\u001b[0m in \u001b[0;36mget_grid\u001b[0;34m(self, sort_by, decreasing)\u001b[0m\n\u001b[1;32m    788\u001b[0m         \u001b[0;32mif\u001b[0m \u001b[0msort_by\u001b[0m \u001b[0;32mis\u001b[0m \u001b[0;32mNone\u001b[0m \u001b[0;32mand\u001b[0m \u001b[0mdecreasing\u001b[0m \u001b[0;32mis\u001b[0m \u001b[0;32mNone\u001b[0m\u001b[0;34m:\u001b[0m \u001b[0;32mreturn\u001b[0m \u001b[0mself\u001b[0m\u001b[0;34m\u001b[0m\u001b[0;34m\u001b[0m\u001b[0m\n\u001b[1;32m    789\u001b[0m \u001b[0;34m\u001b[0m\u001b[0m\n\u001b[0;32m--> 790\u001b[0;31m         \u001b[0mgrid_json\u001b[0m \u001b[0;34m=\u001b[0m \u001b[0mh2o\u001b[0m\u001b[0;34m.\u001b[0m\u001b[0mapi\u001b[0m\u001b[0;34m(\u001b[0m\u001b[0;34m\"GET /99/Grids/%s\"\u001b[0m \u001b[0;34m%\u001b[0m \u001b[0mself\u001b[0m\u001b[0;34m.\u001b[0m\u001b[0m_id\u001b[0m\u001b[0;34m,\u001b[0m \u001b[0mdata\u001b[0m\u001b[0;34m=\u001b[0m\u001b[0;34m{\u001b[0m\u001b[0;34m\"sort_by\"\u001b[0m\u001b[0;34m:\u001b[0m \u001b[0msort_by\u001b[0m\u001b[0;34m,\u001b[0m \u001b[0;34m\"decreasing\"\u001b[0m\u001b[0;34m:\u001b[0m \u001b[0mdecreasing\u001b[0m\u001b[0;34m}\u001b[0m\u001b[0;34m)\u001b[0m\u001b[0;34m\u001b[0m\u001b[0;34m\u001b[0m\u001b[0m\n\u001b[0m\u001b[1;32m    791\u001b[0m         \u001b[0mgrid\u001b[0m \u001b[0;34m=\u001b[0m \u001b[0mH2OGridSearch\u001b[0m\u001b[0;34m(\u001b[0m\u001b[0mself\u001b[0m\u001b[0;34m.\u001b[0m\u001b[0mmodel\u001b[0m\u001b[0;34m,\u001b[0m \u001b[0mself\u001b[0m\u001b[0;34m.\u001b[0m\u001b[0mhyper_params\u001b[0m\u001b[0;34m,\u001b[0m \u001b[0mself\u001b[0m\u001b[0;34m.\u001b[0m\u001b[0m_id\u001b[0m\u001b[0;34m)\u001b[0m\u001b[0;34m\u001b[0m\u001b[0;34m\u001b[0m\u001b[0m\n\u001b[1;32m    792\u001b[0m         \u001b[0mgrid\u001b[0m\u001b[0;34m.\u001b[0m\u001b[0mmodels\u001b[0m \u001b[0;34m=\u001b[0m \u001b[0;34m[\u001b[0m\u001b[0mh2o\u001b[0m\u001b[0;34m.\u001b[0m\u001b[0mget_model\u001b[0m\u001b[0;34m(\u001b[0m\u001b[0mkey\u001b[0m\u001b[0;34m[\u001b[0m\u001b[0;34m'name'\u001b[0m\u001b[0;34m]\u001b[0m\u001b[0;34m)\u001b[0m \u001b[0;32mfor\u001b[0m \u001b[0mkey\u001b[0m \u001b[0;32min\u001b[0m \u001b[0mgrid_json\u001b[0m\u001b[0;34m[\u001b[0m\u001b[0;34m'model_ids'\u001b[0m\u001b[0;34m]\u001b[0m\u001b[0;34m]\u001b[0m  \u001b[0;31m# reordered\u001b[0m\u001b[0;34m\u001b[0m\u001b[0;34m\u001b[0m\u001b[0m\n",
      "\u001b[0;32m/anaconda3/lib/python3.6/site-packages/h2o/h2o.py\u001b[0m in \u001b[0;36mapi\u001b[0;34m(endpoint, data, json, filename, save_to)\u001b[0m\n\u001b[1;32m    104\u001b[0m     \u001b[0;31m# type checks are performed in H2OConnection class\u001b[0m\u001b[0;34m\u001b[0m\u001b[0;34m\u001b[0m\u001b[0;34m\u001b[0m\u001b[0m\n\u001b[1;32m    105\u001b[0m     \u001b[0m_check_connection\u001b[0m\u001b[0;34m(\u001b[0m\u001b[0;34m)\u001b[0m\u001b[0;34m\u001b[0m\u001b[0;34m\u001b[0m\u001b[0m\n\u001b[0;32m--> 106\u001b[0;31m     \u001b[0;32mreturn\u001b[0m \u001b[0mh2oconn\u001b[0m\u001b[0;34m.\u001b[0m\u001b[0mrequest\u001b[0m\u001b[0;34m(\u001b[0m\u001b[0mendpoint\u001b[0m\u001b[0;34m,\u001b[0m \u001b[0mdata\u001b[0m\u001b[0;34m=\u001b[0m\u001b[0mdata\u001b[0m\u001b[0;34m,\u001b[0m \u001b[0mjson\u001b[0m\u001b[0;34m=\u001b[0m\u001b[0mjson\u001b[0m\u001b[0;34m,\u001b[0m \u001b[0mfilename\u001b[0m\u001b[0;34m=\u001b[0m\u001b[0mfilename\u001b[0m\u001b[0;34m,\u001b[0m \u001b[0msave_to\u001b[0m\u001b[0;34m=\u001b[0m\u001b[0msave_to\u001b[0m\u001b[0;34m)\u001b[0m\u001b[0;34m\u001b[0m\u001b[0;34m\u001b[0m\u001b[0m\n\u001b[0m\u001b[1;32m    107\u001b[0m \u001b[0;34m\u001b[0m\u001b[0m\n\u001b[1;32m    108\u001b[0m \u001b[0;34m\u001b[0m\u001b[0m\n",
      "\u001b[0;32m/anaconda3/lib/python3.6/site-packages/h2o/backend/connection.py\u001b[0m in \u001b[0;36mrequest\u001b[0;34m(self, endpoint, data, json, filename, save_to)\u001b[0m\n\u001b[1;32m    403\u001b[0m             resp = requests.request(method=method, url=url, data=data, json=json, files=files, params=params,\n\u001b[1;32m    404\u001b[0m                                     \u001b[0mheaders\u001b[0m\u001b[0;34m=\u001b[0m\u001b[0mheaders\u001b[0m\u001b[0;34m,\u001b[0m \u001b[0mtimeout\u001b[0m\u001b[0;34m=\u001b[0m\u001b[0mself\u001b[0m\u001b[0;34m.\u001b[0m\u001b[0m_timeout\u001b[0m\u001b[0;34m,\u001b[0m \u001b[0mstream\u001b[0m\u001b[0;34m=\u001b[0m\u001b[0mstream\u001b[0m\u001b[0;34m,\u001b[0m\u001b[0;34m\u001b[0m\u001b[0;34m\u001b[0m\u001b[0m\n\u001b[0;32m--> 405\u001b[0;31m                                     auth=self._auth, verify=self._verify_ssl_cert, proxies=self._proxies)\n\u001b[0m\u001b[1;32m    406\u001b[0m             \u001b[0mself\u001b[0m\u001b[0;34m.\u001b[0m\u001b[0m_log_end_transaction\u001b[0m\u001b[0;34m(\u001b[0m\u001b[0mstart_time\u001b[0m\u001b[0;34m,\u001b[0m \u001b[0mresp\u001b[0m\u001b[0;34m)\u001b[0m\u001b[0;34m\u001b[0m\u001b[0;34m\u001b[0m\u001b[0m\n\u001b[1;32m    407\u001b[0m             \u001b[0;32mreturn\u001b[0m \u001b[0mself\u001b[0m\u001b[0;34m.\u001b[0m\u001b[0m_process_response\u001b[0m\u001b[0;34m(\u001b[0m\u001b[0mresp\u001b[0m\u001b[0;34m,\u001b[0m \u001b[0msave_to\u001b[0m\u001b[0;34m)\u001b[0m\u001b[0;34m\u001b[0m\u001b[0;34m\u001b[0m\u001b[0m\n",
      "\u001b[0;32m/anaconda3/lib/python3.6/site-packages/requests/api.py\u001b[0m in \u001b[0;36mrequest\u001b[0;34m(method, url, **kwargs)\u001b[0m\n\u001b[1;32m     58\u001b[0m     \u001b[0;31m# cases, and look like a memory leak in others.\u001b[0m\u001b[0;34m\u001b[0m\u001b[0;34m\u001b[0m\u001b[0;34m\u001b[0m\u001b[0m\n\u001b[1;32m     59\u001b[0m     \u001b[0;32mwith\u001b[0m \u001b[0msessions\u001b[0m\u001b[0;34m.\u001b[0m\u001b[0mSession\u001b[0m\u001b[0;34m(\u001b[0m\u001b[0;34m)\u001b[0m \u001b[0;32mas\u001b[0m \u001b[0msession\u001b[0m\u001b[0;34m:\u001b[0m\u001b[0;34m\u001b[0m\u001b[0;34m\u001b[0m\u001b[0m\n\u001b[0;32m---> 60\u001b[0;31m         \u001b[0;32mreturn\u001b[0m \u001b[0msession\u001b[0m\u001b[0;34m.\u001b[0m\u001b[0mrequest\u001b[0m\u001b[0;34m(\u001b[0m\u001b[0mmethod\u001b[0m\u001b[0;34m=\u001b[0m\u001b[0mmethod\u001b[0m\u001b[0;34m,\u001b[0m \u001b[0murl\u001b[0m\u001b[0;34m=\u001b[0m\u001b[0murl\u001b[0m\u001b[0;34m,\u001b[0m \u001b[0;34m**\u001b[0m\u001b[0mkwargs\u001b[0m\u001b[0;34m)\u001b[0m\u001b[0;34m\u001b[0m\u001b[0;34m\u001b[0m\u001b[0m\n\u001b[0m\u001b[1;32m     61\u001b[0m \u001b[0;34m\u001b[0m\u001b[0m\n\u001b[1;32m     62\u001b[0m \u001b[0;34m\u001b[0m\u001b[0m\n",
      "\u001b[0;32m/anaconda3/lib/python3.6/site-packages/requests/sessions.py\u001b[0m in \u001b[0;36mrequest\u001b[0;34m(self, method, url, params, data, headers, cookies, files, auth, timeout, allow_redirects, proxies, hooks, stream, verify, cert, json)\u001b[0m\n\u001b[1;32m    531\u001b[0m         }\n\u001b[1;32m    532\u001b[0m         \u001b[0msend_kwargs\u001b[0m\u001b[0;34m.\u001b[0m\u001b[0mupdate\u001b[0m\u001b[0;34m(\u001b[0m\u001b[0msettings\u001b[0m\u001b[0;34m)\u001b[0m\u001b[0;34m\u001b[0m\u001b[0;34m\u001b[0m\u001b[0m\n\u001b[0;32m--> 533\u001b[0;31m         \u001b[0mresp\u001b[0m \u001b[0;34m=\u001b[0m \u001b[0mself\u001b[0m\u001b[0;34m.\u001b[0m\u001b[0msend\u001b[0m\u001b[0;34m(\u001b[0m\u001b[0mprep\u001b[0m\u001b[0;34m,\u001b[0m \u001b[0;34m**\u001b[0m\u001b[0msend_kwargs\u001b[0m\u001b[0;34m)\u001b[0m\u001b[0;34m\u001b[0m\u001b[0;34m\u001b[0m\u001b[0m\n\u001b[0m\u001b[1;32m    534\u001b[0m \u001b[0;34m\u001b[0m\u001b[0m\n\u001b[1;32m    535\u001b[0m         \u001b[0;32mreturn\u001b[0m \u001b[0mresp\u001b[0m\u001b[0;34m\u001b[0m\u001b[0;34m\u001b[0m\u001b[0m\n",
      "\u001b[0;32m/anaconda3/lib/python3.6/site-packages/requests/sessions.py\u001b[0m in \u001b[0;36msend\u001b[0;34m(self, request, **kwargs)\u001b[0m\n\u001b[1;32m    644\u001b[0m \u001b[0;34m\u001b[0m\u001b[0m\n\u001b[1;32m    645\u001b[0m         \u001b[0;31m# Send the request\u001b[0m\u001b[0;34m\u001b[0m\u001b[0;34m\u001b[0m\u001b[0;34m\u001b[0m\u001b[0m\n\u001b[0;32m--> 646\u001b[0;31m         \u001b[0mr\u001b[0m \u001b[0;34m=\u001b[0m \u001b[0madapter\u001b[0m\u001b[0;34m.\u001b[0m\u001b[0msend\u001b[0m\u001b[0;34m(\u001b[0m\u001b[0mrequest\u001b[0m\u001b[0;34m,\u001b[0m \u001b[0;34m**\u001b[0m\u001b[0mkwargs\u001b[0m\u001b[0;34m)\u001b[0m\u001b[0;34m\u001b[0m\u001b[0;34m\u001b[0m\u001b[0m\n\u001b[0m\u001b[1;32m    647\u001b[0m \u001b[0;34m\u001b[0m\u001b[0m\n\u001b[1;32m    648\u001b[0m         \u001b[0;31m# Total elapsed time of the request (approximately)\u001b[0m\u001b[0;34m\u001b[0m\u001b[0;34m\u001b[0m\u001b[0;34m\u001b[0m\u001b[0m\n",
      "\u001b[0;32m/anaconda3/lib/python3.6/site-packages/requests/adapters.py\u001b[0m in \u001b[0;36msend\u001b[0;34m(self, request, stream, timeout, verify, cert, proxies)\u001b[0m\n\u001b[1;32m    447\u001b[0m                     \u001b[0mdecode_content\u001b[0m\u001b[0;34m=\u001b[0m\u001b[0;32mFalse\u001b[0m\u001b[0;34m,\u001b[0m\u001b[0;34m\u001b[0m\u001b[0;34m\u001b[0m\u001b[0m\n\u001b[1;32m    448\u001b[0m                     \u001b[0mretries\u001b[0m\u001b[0;34m=\u001b[0m\u001b[0mself\u001b[0m\u001b[0;34m.\u001b[0m\u001b[0mmax_retries\u001b[0m\u001b[0;34m,\u001b[0m\u001b[0;34m\u001b[0m\u001b[0;34m\u001b[0m\u001b[0m\n\u001b[0;32m--> 449\u001b[0;31m                     \u001b[0mtimeout\u001b[0m\u001b[0;34m=\u001b[0m\u001b[0mtimeout\u001b[0m\u001b[0;34m\u001b[0m\u001b[0;34m\u001b[0m\u001b[0m\n\u001b[0m\u001b[1;32m    450\u001b[0m                 )\n\u001b[1;32m    451\u001b[0m \u001b[0;34m\u001b[0m\u001b[0m\n",
      "\u001b[0;32m/anaconda3/lib/python3.6/site-packages/urllib3/connectionpool.py\u001b[0m in \u001b[0;36murlopen\u001b[0;34m(self, method, url, body, headers, retries, redirect, assert_same_host, timeout, pool_timeout, release_conn, chunked, body_pos, **response_kw)\u001b[0m\n\u001b[1;32m    598\u001b[0m                                                   \u001b[0mtimeout\u001b[0m\u001b[0;34m=\u001b[0m\u001b[0mtimeout_obj\u001b[0m\u001b[0;34m,\u001b[0m\u001b[0;34m\u001b[0m\u001b[0;34m\u001b[0m\u001b[0m\n\u001b[1;32m    599\u001b[0m                                                   \u001b[0mbody\u001b[0m\u001b[0;34m=\u001b[0m\u001b[0mbody\u001b[0m\u001b[0;34m,\u001b[0m \u001b[0mheaders\u001b[0m\u001b[0;34m=\u001b[0m\u001b[0mheaders\u001b[0m\u001b[0;34m,\u001b[0m\u001b[0;34m\u001b[0m\u001b[0;34m\u001b[0m\u001b[0m\n\u001b[0;32m--> 600\u001b[0;31m                                                   chunked=chunked)\n\u001b[0m\u001b[1;32m    601\u001b[0m \u001b[0;34m\u001b[0m\u001b[0m\n\u001b[1;32m    602\u001b[0m             \u001b[0;31m# If we're going to release the connection in ``finally:``, then\u001b[0m\u001b[0;34m\u001b[0m\u001b[0;34m\u001b[0m\u001b[0;34m\u001b[0m\u001b[0m\n",
      "\u001b[0;32m/anaconda3/lib/python3.6/site-packages/urllib3/connectionpool.py\u001b[0m in \u001b[0;36m_make_request\u001b[0;34m(self, conn, method, url, timeout, chunked, **httplib_request_kw)\u001b[0m\n\u001b[1;32m    378\u001b[0m             \u001b[0;32mexcept\u001b[0m \u001b[0mTypeError\u001b[0m\u001b[0;34m:\u001b[0m  \u001b[0;31m# Python 3\u001b[0m\u001b[0;34m\u001b[0m\u001b[0;34m\u001b[0m\u001b[0m\n\u001b[1;32m    379\u001b[0m                 \u001b[0;32mtry\u001b[0m\u001b[0;34m:\u001b[0m\u001b[0;34m\u001b[0m\u001b[0;34m\u001b[0m\u001b[0m\n\u001b[0;32m--> 380\u001b[0;31m                     \u001b[0mhttplib_response\u001b[0m \u001b[0;34m=\u001b[0m \u001b[0mconn\u001b[0m\u001b[0;34m.\u001b[0m\u001b[0mgetresponse\u001b[0m\u001b[0;34m(\u001b[0m\u001b[0;34m)\u001b[0m\u001b[0;34m\u001b[0m\u001b[0;34m\u001b[0m\u001b[0m\n\u001b[0m\u001b[1;32m    381\u001b[0m                 \u001b[0;32mexcept\u001b[0m \u001b[0mException\u001b[0m \u001b[0;32mas\u001b[0m \u001b[0me\u001b[0m\u001b[0;34m:\u001b[0m\u001b[0;34m\u001b[0m\u001b[0;34m\u001b[0m\u001b[0m\n\u001b[1;32m    382\u001b[0m                     \u001b[0;31m# Remove the TypeError from the exception chain in Python 3;\u001b[0m\u001b[0;34m\u001b[0m\u001b[0;34m\u001b[0m\u001b[0;34m\u001b[0m\u001b[0m\n",
      "\u001b[0;32m/anaconda3/lib/python3.6/http/client.py\u001b[0m in \u001b[0;36mgetresponse\u001b[0;34m(self)\u001b[0m\n\u001b[1;32m   1329\u001b[0m         \u001b[0;32mtry\u001b[0m\u001b[0;34m:\u001b[0m\u001b[0;34m\u001b[0m\u001b[0;34m\u001b[0m\u001b[0m\n\u001b[1;32m   1330\u001b[0m             \u001b[0;32mtry\u001b[0m\u001b[0;34m:\u001b[0m\u001b[0;34m\u001b[0m\u001b[0;34m\u001b[0m\u001b[0m\n\u001b[0;32m-> 1331\u001b[0;31m                 \u001b[0mresponse\u001b[0m\u001b[0;34m.\u001b[0m\u001b[0mbegin\u001b[0m\u001b[0;34m(\u001b[0m\u001b[0;34m)\u001b[0m\u001b[0;34m\u001b[0m\u001b[0;34m\u001b[0m\u001b[0m\n\u001b[0m\u001b[1;32m   1332\u001b[0m             \u001b[0;32mexcept\u001b[0m \u001b[0mConnectionError\u001b[0m\u001b[0;34m:\u001b[0m\u001b[0;34m\u001b[0m\u001b[0;34m\u001b[0m\u001b[0m\n\u001b[1;32m   1333\u001b[0m                 \u001b[0mself\u001b[0m\u001b[0;34m.\u001b[0m\u001b[0mclose\u001b[0m\u001b[0;34m(\u001b[0m\u001b[0;34m)\u001b[0m\u001b[0;34m\u001b[0m\u001b[0;34m\u001b[0m\u001b[0m\n",
      "\u001b[0;32m/anaconda3/lib/python3.6/http/client.py\u001b[0m in \u001b[0;36mbegin\u001b[0;34m(self)\u001b[0m\n\u001b[1;32m    295\u001b[0m         \u001b[0;31m# read until we get a non-100 response\u001b[0m\u001b[0;34m\u001b[0m\u001b[0;34m\u001b[0m\u001b[0;34m\u001b[0m\u001b[0m\n\u001b[1;32m    296\u001b[0m         \u001b[0;32mwhile\u001b[0m \u001b[0;32mTrue\u001b[0m\u001b[0;34m:\u001b[0m\u001b[0;34m\u001b[0m\u001b[0;34m\u001b[0m\u001b[0m\n\u001b[0;32m--> 297\u001b[0;31m             \u001b[0mversion\u001b[0m\u001b[0;34m,\u001b[0m \u001b[0mstatus\u001b[0m\u001b[0;34m,\u001b[0m \u001b[0mreason\u001b[0m \u001b[0;34m=\u001b[0m \u001b[0mself\u001b[0m\u001b[0;34m.\u001b[0m\u001b[0m_read_status\u001b[0m\u001b[0;34m(\u001b[0m\u001b[0;34m)\u001b[0m\u001b[0;34m\u001b[0m\u001b[0;34m\u001b[0m\u001b[0m\n\u001b[0m\u001b[1;32m    298\u001b[0m             \u001b[0;32mif\u001b[0m \u001b[0mstatus\u001b[0m \u001b[0;34m!=\u001b[0m \u001b[0mCONTINUE\u001b[0m\u001b[0;34m:\u001b[0m\u001b[0;34m\u001b[0m\u001b[0;34m\u001b[0m\u001b[0m\n\u001b[1;32m    299\u001b[0m                 \u001b[0;32mbreak\u001b[0m\u001b[0;34m\u001b[0m\u001b[0;34m\u001b[0m\u001b[0m\n",
      "\u001b[0;32m/anaconda3/lib/python3.6/http/client.py\u001b[0m in \u001b[0;36m_read_status\u001b[0;34m(self)\u001b[0m\n\u001b[1;32m    256\u001b[0m \u001b[0;34m\u001b[0m\u001b[0m\n\u001b[1;32m    257\u001b[0m     \u001b[0;32mdef\u001b[0m \u001b[0m_read_status\u001b[0m\u001b[0;34m(\u001b[0m\u001b[0mself\u001b[0m\u001b[0;34m)\u001b[0m\u001b[0;34m:\u001b[0m\u001b[0;34m\u001b[0m\u001b[0;34m\u001b[0m\u001b[0m\n\u001b[0;32m--> 258\u001b[0;31m         \u001b[0mline\u001b[0m \u001b[0;34m=\u001b[0m \u001b[0mstr\u001b[0m\u001b[0;34m(\u001b[0m\u001b[0mself\u001b[0m\u001b[0;34m.\u001b[0m\u001b[0mfp\u001b[0m\u001b[0;34m.\u001b[0m\u001b[0mreadline\u001b[0m\u001b[0;34m(\u001b[0m\u001b[0m_MAXLINE\u001b[0m \u001b[0;34m+\u001b[0m \u001b[0;36m1\u001b[0m\u001b[0;34m)\u001b[0m\u001b[0;34m,\u001b[0m \u001b[0;34m\"iso-8859-1\"\u001b[0m\u001b[0;34m)\u001b[0m\u001b[0;34m\u001b[0m\u001b[0;34m\u001b[0m\u001b[0m\n\u001b[0m\u001b[1;32m    259\u001b[0m         \u001b[0;32mif\u001b[0m \u001b[0mlen\u001b[0m\u001b[0;34m(\u001b[0m\u001b[0mline\u001b[0m\u001b[0;34m)\u001b[0m \u001b[0;34m>\u001b[0m \u001b[0m_MAXLINE\u001b[0m\u001b[0;34m:\u001b[0m\u001b[0;34m\u001b[0m\u001b[0;34m\u001b[0m\u001b[0m\n\u001b[1;32m    260\u001b[0m             \u001b[0;32mraise\u001b[0m \u001b[0mLineTooLong\u001b[0m\u001b[0;34m(\u001b[0m\u001b[0;34m\"status line\"\u001b[0m\u001b[0;34m)\u001b[0m\u001b[0;34m\u001b[0m\u001b[0;34m\u001b[0m\u001b[0m\n",
      "\u001b[0;32m/anaconda3/lib/python3.6/socket.py\u001b[0m in \u001b[0;36mreadinto\u001b[0;34m(self, b)\u001b[0m\n\u001b[1;32m    584\u001b[0m         \u001b[0;32mwhile\u001b[0m \u001b[0;32mTrue\u001b[0m\u001b[0;34m:\u001b[0m\u001b[0;34m\u001b[0m\u001b[0;34m\u001b[0m\u001b[0m\n\u001b[1;32m    585\u001b[0m             \u001b[0;32mtry\u001b[0m\u001b[0;34m:\u001b[0m\u001b[0;34m\u001b[0m\u001b[0;34m\u001b[0m\u001b[0m\n\u001b[0;32m--> 586\u001b[0;31m                 \u001b[0;32mreturn\u001b[0m \u001b[0mself\u001b[0m\u001b[0;34m.\u001b[0m\u001b[0m_sock\u001b[0m\u001b[0;34m.\u001b[0m\u001b[0mrecv_into\u001b[0m\u001b[0;34m(\u001b[0m\u001b[0mb\u001b[0m\u001b[0;34m)\u001b[0m\u001b[0;34m\u001b[0m\u001b[0;34m\u001b[0m\u001b[0m\n\u001b[0m\u001b[1;32m    587\u001b[0m             \u001b[0;32mexcept\u001b[0m \u001b[0mtimeout\u001b[0m\u001b[0;34m:\u001b[0m\u001b[0;34m\u001b[0m\u001b[0;34m\u001b[0m\u001b[0m\n\u001b[1;32m    588\u001b[0m                 \u001b[0mself\u001b[0m\u001b[0;34m.\u001b[0m\u001b[0m_timeout_occurred\u001b[0m \u001b[0;34m=\u001b[0m \u001b[0;32mTrue\u001b[0m\u001b[0;34m\u001b[0m\u001b[0;34m\u001b[0m\u001b[0m\n",
      "\u001b[0;31mKeyboardInterrupt\u001b[0m: "
     ]
    }
   ],
   "source": [
    "h2o.init(nthreads=-1) \n",
    "Prediction_rand = []\n",
    "Time_rand = []\n",
    "Prediction_h2o = []\n",
    "Time_h2o = []\n",
    "for _ in range(30):\n",
    "    # Downsample to make it balanced\n",
    "    downsampled = resample(train[train.COMPANY_SIZE == \"B\"], \n",
    "                                 replace=False,    # sample without replacement\n",
    "                                 n_samples=700)\n",
    "    df_downsampled = pd.concat([downsampled, train[train.COMPANY_SIZE != \"B\"]])\n",
    "    df_downsampled = df_downsampled[df_downsampled.COMPANY_SIZE != \"A\"]\n",
    "    \n",
    "    y = df_downsampled.COMPANY_SIZE\n",
    "    X = df_downsampled.drop([\"COMPANY_SIZE\"], axis=1)\n",
    "    X_train, X_val, y_train, y_val = train_test_split(X, y, test_size=0.33)\n",
    "    \n",
    "    # Grid search with Random Forest\n",
    "    y_train = le.fit_transform(y_train)\n",
    "    y_val = le.transform(y_val)\n",
    "    \n",
    "    # Time stemp\n",
    "    start_time = time.time()\n",
    "    \n",
    "    # Random Forest __ sklearn\n",
    "    parameters = {'max_depth':[5,8,10,12,15], 'n_estimators':[50, 80, 100, 150]}\n",
    "    rf         = RandomForestClassifier()\n",
    "    clf        = GridSearchCV(rf, parameters, scoring='roc_auc',\n",
    "                              cv=5, n_jobs=-1).fit(X_train, y_train)\n",
    "    \n",
    "    Time_rand.append(time.time() - start_time)\n",
    "    \n",
    "    # Predict\n",
    "    pred_y_0 = clf.predict(X_val)\n",
    "    pred_y_1 = clf.predict_proba((X_val))\n",
    "\n",
    "    \n",
    "    # Calculate AUC\n",
    "    fpr, tpr, thresholds = metrics.roc_curve(y_val, [i[1] for i in pred_y_1])\n",
    "    Prediction_rand.append(metrics.auc(fpr, tpr))\n",
    "    \n",
    "    \n",
    "    # H2O GridSearch with Random Forest\n",
    "    # h2o.init(nthreads=-1)             #specify max number of bytes. uses all cores by default.\n",
    "    h2o.remove_all()  \n",
    "    \n",
    "    # Feature transformation\n",
    "    x = list(X_train.columns)\n",
    "    y = 'COMPANY_SIZE'\n",
    "    train_h = X_train.copy()\n",
    "    train_h['COMPANY_SIZE'] = y_train\n",
    "    train_h = H2OFrame(train_h)\n",
    "    train_h['COMPANY_SIZE'] = train_h['COMPANY_SIZE'].asfactor()\n",
    "    \n",
    "    valid_h = X_val.copy()\n",
    "    valid_h['COMPANY_SIZE'] = y_val\n",
    "    valid_h = H2OFrame(valid_h)\n",
    "    valid_h['COMPANY_SIZE'] = valid_h['COMPANY_SIZE'].asfactor()\n",
    "    \n",
    "    start_time = time.time()\n",
    "    gbm_params1 = {'ntrees': [50, 80, 100, 150],\n",
    "                    'max_depth': [5,8,10,12,15]}\n",
    "    \n",
    "    \n",
    "    \n",
    "    gbm_grid1 = H2OGridSearch(model=H2ORandomForestEstimator,\n",
    "                              grid_id='gbm_grid1',\n",
    "                              hyper_params=gbm_params1)\n",
    "    gbm_grid1.train(x=x, y=y,\n",
    "                    training_frame=train_h,\n",
    "                    seed=1)\n",
    "    \n",
    "    # Get the grid results, sorted by validation AUC\n",
    "    gbm_gridperf1 = gbm_grid1.get_grid(sort_by='auc', decreasing=True)\n",
    "    Time_h2o.append(time.time() - start_time)\n",
    "    gbm_gridperf1\n",
    "    \n",
    "    # Grab the top GBM model, chosen by validation AUC\n",
    "    best_gbm1 = gbm_gridperf1.models[0]\n",
    "    \n",
    "# Now let's evaluate the model performance on a test set\n",
    "# so we get an honest estimate of top model performance\n",
    "    best_gbm_perf1 = best_gbm1.model_performance(valid_h)\n",
    "\n",
    "    Prediction_h2o.append(best_gbm_perf1.auc())\n",
    "    # h2o.shutdown()\n",
    "\n",
    "h2o.shutdown()\n",
    "Performance = pd.DataFrame({\"Prediction_rand\":Prediction_rand, \"Prediction_h2o\":Prediction_h2o,\n",
    "                           \"Time_rand\":Time_rand, \"Time_h2o\":Time_h2o})\n",
    "print(\"All Down\")"
   ]
  },
  {
   "cell_type": "code",
   "execution_count": 96,
   "metadata": {},
   "outputs": [
    {
     "data": {
      "text/html": [
       "<div>\n",
       "<style scoped>\n",
       "    .dataframe tbody tr th:only-of-type {\n",
       "        vertical-align: middle;\n",
       "    }\n",
       "\n",
       "    .dataframe tbody tr th {\n",
       "        vertical-align: top;\n",
       "    }\n",
       "\n",
       "    .dataframe thead th {\n",
       "        text-align: right;\n",
       "    }\n",
       "</style>\n",
       "<table border=\"1\" class=\"dataframe\">\n",
       "  <thead>\n",
       "    <tr style=\"text-align: right;\">\n",
       "      <th></th>\n",
       "      <th>Prediction_rand</th>\n",
       "      <th>Prediction_h2o</th>\n",
       "      <th>Time_rand</th>\n",
       "      <th>Time_h2o</th>\n",
       "    </tr>\n",
       "  </thead>\n",
       "  <tbody>\n",
       "    <tr>\n",
       "      <th>0</th>\n",
       "      <td>0.954833</td>\n",
       "      <td>0.955878</td>\n",
       "      <td>5.986408</td>\n",
       "      <td>12.157410</td>\n",
       "    </tr>\n",
       "    <tr>\n",
       "      <th>1</th>\n",
       "      <td>0.953006</td>\n",
       "      <td>0.955878</td>\n",
       "      <td>6.569238</td>\n",
       "      <td>1.546691</td>\n",
       "    </tr>\n",
       "    <tr>\n",
       "      <th>2</th>\n",
       "      <td>0.953944</td>\n",
       "      <td>0.955878</td>\n",
       "      <td>5.763797</td>\n",
       "      <td>1.548668</td>\n",
       "    </tr>\n",
       "    <tr>\n",
       "      <th>3</th>\n",
       "      <td>0.953751</td>\n",
       "      <td>0.955878</td>\n",
       "      <td>6.237865</td>\n",
       "      <td>3.560598</td>\n",
       "    </tr>\n",
       "    <tr>\n",
       "      <th>4</th>\n",
       "      <td>0.954232</td>\n",
       "      <td>0.955878</td>\n",
       "      <td>7.508816</td>\n",
       "      <td>1.681860</td>\n",
       "    </tr>\n",
       "  </tbody>\n",
       "</table>\n",
       "</div>"
      ],
      "text/plain": [
       "   Prediction_rand  Prediction_h2o  Time_rand   Time_h2o\n",
       "0         0.954833        0.955878   5.986408  12.157410\n",
       "1         0.953006        0.955878   6.569238   1.546691\n",
       "2         0.953944        0.955878   5.763797   1.548668\n",
       "3         0.953751        0.955878   6.237865   3.560598\n",
       "4         0.954232        0.955878   7.508816   1.681860"
      ]
     },
     "execution_count": 96,
     "metadata": {},
     "output_type": "execute_result"
    }
   ],
   "source": [
    "Performance.head()"
   ]
  },
  {
   "cell_type": "code",
   "execution_count": null,
   "metadata": {},
   "outputs": [],
   "source": [
    "Performance.Prediction_rand.plot()\n",
    "Performance.Prediction_h2o.plot()\n",
    "plt.title(\"AUC for each training\")\n",
    "plt.legend()\n",
    "plt.show()"
   ]
  },
  {
   "cell_type": "markdown",
   "metadata": {},
   "source": [
    "### Try AutoML"
   ]
  },
  {
   "cell_type": "markdown",
   "metadata": {},
   "source": [
    "`exclude_algos` or `include_algos` allows to select targeting algorithms;\n",
    "`nfolds` for cross_validation(default=5);\n",
    "`balance_classes` allows you to balance the dataset;\n",
    "`stopping_metric` is used for early stopping of the grid searches and individual models(Defaults=logloss for classification, deviance for regression);"
   ]
  },
  {
   "cell_type": "code",
   "execution_count": 176,
   "metadata": {},
   "outputs": [
    {
     "name": "stdout",
     "output_type": "stream",
     "text": [
      "Checking whether there is an H2O instance running at http://localhost:54321 . connected.\n"
     ]
    },
    {
     "data": {
      "text/html": [
       "<div style=\"overflow:auto\"><table style=\"width:50%\"><tr><td>H2O cluster uptime:</td>\n",
       "<td>39 mins 46 secs</td></tr>\n",
       "<tr><td>H2O cluster timezone:</td>\n",
       "<td>America/Los_Angeles</td></tr>\n",
       "<tr><td>H2O data parsing timezone:</td>\n",
       "<td>UTC</td></tr>\n",
       "<tr><td>H2O cluster version:</td>\n",
       "<td>3.24.0.5</td></tr>\n",
       "<tr><td>H2O cluster version age:</td>\n",
       "<td>6 days </td></tr>\n",
       "<tr><td>H2O cluster name:</td>\n",
       "<td>H2O_from_python_gaozhiping_cefn0e</td></tr>\n",
       "<tr><td>H2O cluster total nodes:</td>\n",
       "<td>1</td></tr>\n",
       "<tr><td>H2O cluster free memory:</td>\n",
       "<td>1.587 Gb</td></tr>\n",
       "<tr><td>H2O cluster total cores:</td>\n",
       "<td>4</td></tr>\n",
       "<tr><td>H2O cluster allowed cores:</td>\n",
       "<td>4</td></tr>\n",
       "<tr><td>H2O cluster status:</td>\n",
       "<td>locked, healthy</td></tr>\n",
       "<tr><td>H2O connection url:</td>\n",
       "<td>http://localhost:54321</td></tr>\n",
       "<tr><td>H2O connection proxy:</td>\n",
       "<td>None</td></tr>\n",
       "<tr><td>H2O internal security:</td>\n",
       "<td>False</td></tr>\n",
       "<tr><td>H2O API Extensions:</td>\n",
       "<td>Amazon S3, XGBoost, Algos, AutoML, Core V3, Core V4</td></tr>\n",
       "<tr><td>Python version:</td>\n",
       "<td>3.6.8 final</td></tr></table></div>"
      ],
      "text/plain": [
       "--------------------------  ---------------------------------------------------\n",
       "H2O cluster uptime:         39 mins 46 secs\n",
       "H2O cluster timezone:       America/Los_Angeles\n",
       "H2O data parsing timezone:  UTC\n",
       "H2O cluster version:        3.24.0.5\n",
       "H2O cluster version age:    6 days\n",
       "H2O cluster name:           H2O_from_python_gaozhiping_cefn0e\n",
       "H2O cluster total nodes:    1\n",
       "H2O cluster free memory:    1.587 Gb\n",
       "H2O cluster total cores:    4\n",
       "H2O cluster allowed cores:  4\n",
       "H2O cluster status:         locked, healthy\n",
       "H2O connection url:         http://localhost:54321\n",
       "H2O connection proxy:\n",
       "H2O internal security:      False\n",
       "H2O API Extensions:         Amazon S3, XGBoost, Algos, AutoML, Core V3, Core V4\n",
       "Python version:             3.6.8 final\n",
       "--------------------------  ---------------------------------------------------"
      ]
     },
     "metadata": {},
     "output_type": "display_data"
    },
    {
     "name": "stdout",
     "output_type": "stream",
     "text": [
      "Parse progress: |█████████████████████████████████████████████████████████| 100%\n",
      "Parse progress: |█████████████████████████████████████████████████████████| 100%\n",
      "AutoML progress: |████████████████████████████████████████████████████████| 100%\n"
     ]
    }
   ],
   "source": [
    "from h2o.automl import H2OAutoML\n",
    "h2o.init(nthreads=-1) \n",
    "h2o.remove_all() \n",
    "\n",
    "# Feature transformation\n",
    "x = list(X_train.columns)\n",
    "y = 'COMPANY_SIZE'\n",
    "train = X_train.copy()\n",
    "train['COMPANY_SIZE'] = y_train\n",
    "train = H2OFrame(train)\n",
    "train['COMPANY_SIZE'] = train['COMPANY_SIZE'].asfactor()\n",
    "\n",
    "valid = X_val.copy()\n",
    "valid['COMPANY_SIZE'] = y_val\n",
    "valid = H2OFrame(valid)\n",
    "valid['COMPANY_SIZE'] = valid['COMPANY_SIZE'].asfactor()\n",
    "\n",
    "# Run AutoML for 20 base models (limited to 1 hour max runtime by default)\n",
    "aml = H2OAutoML(max_models=20, seed=1)\n",
    "aml.train(x=x, y=y, training_frame=train)"
   ]
  },
  {
   "cell_type": "code",
   "execution_count": 177,
   "metadata": {},
   "outputs": [
    {
     "data": {
      "text/html": [
       "<table>\n",
       "<thead>\n",
       "<tr><th>model_id                                           </th><th style=\"text-align: right;\">     auc</th><th style=\"text-align: right;\">  logloss</th><th style=\"text-align: right;\">  mean_per_class_error</th><th style=\"text-align: right;\">    rmse</th><th style=\"text-align: right;\">     mse</th></tr>\n",
       "</thead>\n",
       "<tbody>\n",
       "<tr><td>StackedEnsemble_BestOfFamily_AutoML_20190625_144411</td><td style=\"text-align: right;\">0.855996</td><td style=\"text-align: right;\"> 0.472002</td><td style=\"text-align: right;\">              0.210547</td><td style=\"text-align: right;\">0.3916  </td><td style=\"text-align: right;\">0.15335 </td></tr>\n",
       "<tr><td>XGBoost_grid_1_AutoML_20190625_144411_model_3      </td><td style=\"text-align: right;\">0.855716</td><td style=\"text-align: right;\"> 0.472722</td><td style=\"text-align: right;\">              0.211694</td><td style=\"text-align: right;\">0.391411</td><td style=\"text-align: right;\">0.153202</td></tr>\n",
       "<tr><td>StackedEnsemble_AllModels_AutoML_20190625_144411   </td><td style=\"text-align: right;\">0.853921</td><td style=\"text-align: right;\"> 0.475755</td><td style=\"text-align: right;\">              0.206427</td><td style=\"text-align: right;\">0.393416</td><td style=\"text-align: right;\">0.154776</td></tr>\n",
       "<tr><td>XGBoost_3_AutoML_20190625_144411                   </td><td style=\"text-align: right;\">0.85227 </td><td style=\"text-align: right;\"> 0.47769 </td><td style=\"text-align: right;\">              0.208269</td><td style=\"text-align: right;\">0.394365</td><td style=\"text-align: right;\">0.155524</td></tr>\n",
       "<tr><td>XGBoost_1_AutoML_20190625_144411                   </td><td style=\"text-align: right;\">0.852171</td><td style=\"text-align: right;\"> 0.474988</td><td style=\"text-align: right;\">              0.208333</td><td style=\"text-align: right;\">0.393358</td><td style=\"text-align: right;\">0.154731</td></tr>\n",
       "<tr><td>XGBoost_2_AutoML_20190625_144411                   </td><td style=\"text-align: right;\">0.852141</td><td style=\"text-align: right;\"> 0.479082</td><td style=\"text-align: right;\">              0.213407</td><td style=\"text-align: right;\">0.394918</td><td style=\"text-align: right;\">0.15596 </td></tr>\n",
       "<tr><td>XGBoost_grid_1_AutoML_20190625_144411_model_2      </td><td style=\"text-align: right;\">0.851342</td><td style=\"text-align: right;\"> 0.497923</td><td style=\"text-align: right;\">              0.232858</td><td style=\"text-align: right;\">0.402775</td><td style=\"text-align: right;\">0.162228</td></tr>\n",
       "<tr><td>XGBoost_grid_1_AutoML_20190625_144411_model_1      </td><td style=\"text-align: right;\">0.850416</td><td style=\"text-align: right;\"> 0.476063</td><td style=\"text-align: right;\">              0.211128</td><td style=\"text-align: right;\">0.394962</td><td style=\"text-align: right;\">0.155995</td></tr>\n",
       "<tr><td>GBM_1_AutoML_20190625_144411                       </td><td style=\"text-align: right;\">0.849257</td><td style=\"text-align: right;\"> 0.491732</td><td style=\"text-align: right;\">              0.228544</td><td style=\"text-align: right;\">0.399864</td><td style=\"text-align: right;\">0.159891</td></tr>\n",
       "<tr><td>GBM_3_AutoML_20190625_144411                       </td><td style=\"text-align: right;\">0.846248</td><td style=\"text-align: right;\"> 0.487765</td><td style=\"text-align: right;\">              0.241337</td><td style=\"text-align: right;\">0.39879 </td><td style=\"text-align: right;\">0.159033</td></tr>\n",
       "<tr><td>GBM_2_AutoML_20190625_144411                       </td><td style=\"text-align: right;\">0.845524</td><td style=\"text-align: right;\"> 0.490804</td><td style=\"text-align: right;\">              0.254309</td><td style=\"text-align: right;\">0.400326</td><td style=\"text-align: right;\">0.160261</td></tr>\n",
       "<tr><td>XGBoost_grid_1_AutoML_20190625_144411_model_4      </td><td style=\"text-align: right;\">0.844794</td><td style=\"text-align: right;\"> 0.48651 </td><td style=\"text-align: right;\">              0.219076</td><td style=\"text-align: right;\">0.397999</td><td style=\"text-align: right;\">0.158403</td></tr>\n",
       "<tr><td>GBM_4_AutoML_20190625_144411                       </td><td style=\"text-align: right;\">0.841612</td><td style=\"text-align: right;\"> 0.497304</td><td style=\"text-align: right;\">              0.238478</td><td style=\"text-align: right;\">0.402739</td><td style=\"text-align: right;\">0.162199</td></tr>\n",
       "<tr><td>GBM_5_AutoML_20190625_144411                       </td><td style=\"text-align: right;\">0.840979</td><td style=\"text-align: right;\"> 0.48631 </td><td style=\"text-align: right;\">              0.208125</td><td style=\"text-align: right;\">0.39826 </td><td style=\"text-align: right;\">0.158611</td></tr>\n",
       "<tr><td>GBM_grid_1_AutoML_20190625_144411_model_1          </td><td style=\"text-align: right;\">0.840936</td><td style=\"text-align: right;\"> 0.493494</td><td style=\"text-align: right;\">              0.25208 </td><td style=\"text-align: right;\">0.401162</td><td style=\"text-align: right;\">0.160931</td></tr>\n",
       "<tr><td>XRT_1_AutoML_20190625_144411                       </td><td style=\"text-align: right;\">0.839792</td><td style=\"text-align: right;\"> 0.809565</td><td style=\"text-align: right;\">              0.245343</td><td style=\"text-align: right;\">0.403152</td><td style=\"text-align: right;\">0.162532</td></tr>\n",
       "<tr><td>DRF_1_AutoML_20190625_144411                       </td><td style=\"text-align: right;\">0.835677</td><td style=\"text-align: right;\"> 0.714475</td><td style=\"text-align: right;\">              0.264938</td><td style=\"text-align: right;\">0.40716 </td><td style=\"text-align: right;\">0.165779</td></tr>\n",
       "<tr><td>GBM_grid_1_AutoML_20190625_144411_model_2          </td><td style=\"text-align: right;\">0.833433</td><td style=\"text-align: right;\"> 0.751829</td><td style=\"text-align: right;\">              0.23809 </td><td style=\"text-align: right;\">0.43252 </td><td style=\"text-align: right;\">0.187074</td></tr>\n",
       "<tr><td>DeepLearning_grid_1_AutoML_20190625_144411_model_1 </td><td style=\"text-align: right;\">0.831568</td><td style=\"text-align: right;\"> 0.62749 </td><td style=\"text-align: right;\">              0.230078</td><td style=\"text-align: right;\">0.41259 </td><td style=\"text-align: right;\">0.17023 </td></tr>\n",
       "<tr><td>DeepLearning_1_AutoML_20190625_144411              </td><td style=\"text-align: right;\">0.816454</td><td style=\"text-align: right;\"> 0.555017</td><td style=\"text-align: right;\">              0.255406</td><td style=\"text-align: right;\">0.42063 </td><td style=\"text-align: right;\">0.17693 </td></tr>\n",
       "<tr><td>DeepLearning_grid_1_AutoML_20190625_144411_model_2 </td><td style=\"text-align: right;\">0.792895</td><td style=\"text-align: right;\"> 0.592209</td><td style=\"text-align: right;\">              0.273725</td><td style=\"text-align: right;\">0.435828</td><td style=\"text-align: right;\">0.189946</td></tr>\n",
       "<tr><td>GLM_grid_1_AutoML_20190625_144411_model_1          </td><td style=\"text-align: right;\">0.788281</td><td style=\"text-align: right;\"> 0.560668</td><td style=\"text-align: right;\">              0.291235</td><td style=\"text-align: right;\">0.432228</td><td style=\"text-align: right;\">0.186821</td></tr>\n",
       "</tbody>\n",
       "</table>"
      ]
     },
     "metadata": {},
     "output_type": "display_data"
    },
    {
     "data": {
      "text/plain": []
     },
     "execution_count": 177,
     "metadata": {},
     "output_type": "execute_result"
    }
   ],
   "source": [
    "# View the AutoML Leaderboard\n",
    "lb = aml.leaderboard\n",
    "lb.head(rows=lb.nrows)  # Print all rows instead of default (10 rows)"
   ]
  },
  {
   "cell_type": "code",
   "execution_count": 178,
   "metadata": {},
   "outputs": [
    {
     "name": "stdout",
     "output_type": "stream",
     "text": [
      "stackedensemble prediction progress: |████████████████████████████████████| 100%\n"
     ]
    }
   ],
   "source": [
    "# The leader model is stored here\n",
    "aml.leader\n",
    "\n",
    "# If you need to generate predictions on a test set, you can make\n",
    "# predictions directly on the `\"H2OAutoML\"` object, or on the leader\n",
    "# model object directly\n",
    "\n",
    "preds = aml.predict(valid)\n",
    "\n",
    "# or:\n",
    "#preds = aml.leader.predict(valid)"
   ]
  },
  {
   "cell_type": "code",
   "execution_count": 179,
   "metadata": {},
   "outputs": [
    {
     "name": "stdout",
     "output_type": "stream",
     "text": [
      "Parse progress: |█████████████████████████████████████████████████████████| 100%\n",
      "stackedensemble prediction progress: |████████████████████████████████████| 100%\n",
      "AUC by sklearn.metrics is 0.8598893215822915\n"
     ]
    },
    {
     "data": {
      "text/plain": [
       "array([[202,  36],\n",
       "       [ 64, 141]])"
      ]
     },
     "execution_count": 179,
     "metadata": {},
     "output_type": "execute_result"
    }
   ],
   "source": [
    "# AUC with sklearn metrics on H2o prediction\n",
    "pred = aml.predict(H2OFrame(X_val)).as_data_frame()\n",
    "fpr, tpr, thresholds = metrics.roc_curve(y_val, pred['p1'])\n",
    "print(\"AUC by sklearn.metrics is %s\" % metrics.auc(fpr, tpr))\n",
    "confusion_matrix(y_val, pred['predict'])"
   ]
  },
  {
   "cell_type": "code",
   "execution_count": 191,
   "metadata": {},
   "outputs": [
    {
     "name": "stdout",
     "output_type": "stream",
     "text": [
      "Parse progress: |█████████████████████████████████████████████████████████| 100%\n",
      "Parse progress: |█████████████████████████████████████████████████████████| 100%\n",
      "drf Grid Build progress: |████████████████████████████████████████████████| 100%\n",
      "--- 14.13841986656189 seconds ---\n"
     ]
    },
    {
     "data": {
      "text/plain": [
       "0.8602377536380407"
      ]
     },
     "execution_count": 191,
     "metadata": {},
     "output_type": "execute_result"
    }
   ],
   "source": [
    "h2o.remove_all() \n",
    "# Feature transformation\n",
    "x = list(X_train.columns)\n",
    "y = 'COMPANY_SIZE'\n",
    "train = X_train.copy()\n",
    "train['COMPANY_SIZE'] = y_train\n",
    "train = H2OFrame(train)\n",
    "train['COMPANY_SIZE'] = train['COMPANY_SIZE'].asfactor()\n",
    "\n",
    "valid = X_val.copy()\n",
    "valid['COMPANY_SIZE'] = y_val\n",
    "valid = H2OFrame(valid)\n",
    "valid['COMPANY_SIZE'] = valid['COMPANY_SIZE'].asfactor()\n",
    "\n",
    "# H2O GridSearch with Random Forest\n",
    "start_time = time.time()\n",
    "gbm_params1 = {'ntrees': [50, 80, 100, 150],\n",
    "                'max_depth': [5,8,10,12,15]}\n",
    "\n",
    "\n",
    "\n",
    "gbm_grid1 = H2OGridSearch(model=H2ORandomForestEstimator,\n",
    "                          grid_id='gbm_grid1',\n",
    "                          hyper_params=gbm_params1)\n",
    "gbm_grid1.train(x=x, y=y,\n",
    "                training_frame=train,\n",
    "                seed=1)\n",
    "\n",
    "# Get the grid results, sorted by validation AUC\n",
    "gbm_gridperf1 = gbm_grid1.get_grid(sort_by='auc', decreasing=True)\n",
    "print(\"--- %s seconds ---\" % (time.time() - start_time))\n",
    "gbm_gridperf1\n",
    "\n",
    "# Grab the top GBM model, chosen by validation AUC\n",
    "best_gbm1 = gbm_gridperf1.models[0]\n",
    "\n",
    "# Now let's evaluate the model performance on a test set\n",
    "# so we get an honest estimate of top model performance\n",
    "best_gbm_perf1 = best_gbm1.model_performance(valid)\n",
    "\n",
    "best_gbm_perf1.auc()"
   ]
  },
  {
   "cell_type": "code",
   "execution_count": 192,
   "metadata": {},
   "outputs": [
    {
     "name": "stdout",
     "output_type": "stream",
     "text": [
      "Parse progress: |█████████████████████████████████████████████████████████| 100%\n",
      "drf prediction progress: |████████████████████████████████████████████████| 100%\n",
      "AUC by sklearn.metrics is 0.8602377536380407\n"
     ]
    },
    {
     "data": {
      "text/plain": [
       "array([[203,  35],\n",
       "       [ 62, 143]])"
      ]
     },
     "execution_count": 192,
     "metadata": {},
     "output_type": "execute_result"
    }
   ],
   "source": [
    "# AUC with sklearn metrics on H2o prediction\n",
    "pred = best_gbm1.predict(H2OFrame(X_val)).as_data_frame()\n",
    "fpr, tpr, thresholds = metrics.roc_curve(y_val, pred['p1'])\n",
    "print(\"AUC by sklearn.metrics is %s\" % metrics.auc(fpr, tpr))\n",
    "confusion_matrix(y_val, pred['predict'])"
   ]
  },
  {
   "cell_type": "code",
   "execution_count": 193,
   "metadata": {},
   "outputs": [
    {
     "name": "stdout",
     "output_type": "stream",
     "text": [
      "     max_depth ntrees           model_ids                 auc\n",
      "0           15    150  gbm_grid1_model_20  0.8620601493307916\n",
      "1            8    150  gbm_grid1_model_17  0.8619434846499067\n",
      "2           12    150  gbm_grid1_model_19  0.8615537749712062\n",
      "3           10    150  gbm_grid1_model_18  0.8613080344731722\n",
      "4            8    100  gbm_grid1_model_12  0.8603697525715874\n",
      "5           15    100  gbm_grid1_model_15   0.860208407800151\n",
      "6            5    150  gbm_grid1_model_16   0.859600262123198\n",
      "7           12    100  gbm_grid1_model_14  0.8595183486238532\n",
      "8           10    100  gbm_grid1_model_13  0.8591385678541642\n",
      "9            8     80   gbm_grid1_model_7  0.8589474363556932\n",
      "10          15     80  gbm_grid1_model_10  0.8582946105881886\n",
      "11          12     80   gbm_grid1_model_9  0.8577584495015688\n",
      "12          10     80   gbm_grid1_model_8  0.8576070336391437\n",
      "13           5    100  gbm_grid1_model_11  0.8569964057349378\n",
      "14           5     80   gbm_grid1_model_6  0.8564925136026054\n",
      "15           5     50   gbm_grid1_model_1  0.8558396878351007\n",
      "16           8     50   gbm_grid1_model_2  0.8549361571150562\n",
      "17          10     50   gbm_grid1_model_3  0.8542709202112871\n",
      "18          12     50   gbm_grid1_model_4  0.8540599308947933\n",
      "19          15     50   gbm_grid1_model_5  0.8536205766710353\n"
     ]
    },
    {
     "data": {
      "text/plain": []
     },
     "execution_count": 193,
     "metadata": {},
     "output_type": "execute_result"
    }
   ],
   "source": [
    "gbm_gridperf1"
   ]
  },
  {
   "cell_type": "code",
   "execution_count": null,
   "metadata": {},
   "outputs": [],
   "source": [
    "h2o.shutdown()"
   ]
  }
 ],
 "metadata": {
  "kernelspec": {
   "display_name": "Python 3",
   "language": "python",
   "name": "python3"
  },
  "language_info": {
   "codemirror_mode": {
    "name": "ipython",
    "version": 3
   },
   "file_extension": ".py",
   "mimetype": "text/x-python",
   "name": "python",
   "nbconvert_exporter": "python",
   "pygments_lexer": "ipython3",
   "version": "3.6.8"
  }
 },
 "nbformat": 4,
 "nbformat_minor": 2
}
