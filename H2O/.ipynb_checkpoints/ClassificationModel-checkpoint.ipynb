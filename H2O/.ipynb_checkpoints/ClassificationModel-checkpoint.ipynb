{
 "cells": [
  {
   "cell_type": "code",
   "execution_count": 1,
   "metadata": {},
   "outputs": [],
   "source": [
    "import pandas as pd\n",
    "import seaborn as sns\n",
    "import matplotlib.pyplot as plt\n",
    "from sklearn.utils import resample\n",
    "import numpy as np\n",
    "\n",
    "sns.set()\n",
    "plt.rcParams['figure.figsize'] = [15, 10]"
   ]
  },
  {
   "cell_type": "code",
   "execution_count": 21,
   "metadata": {},
   "outputs": [],
   "source": [
    "# Read data\n",
    "train = pd.read_csv(\"train.csv\")\n",
    "test = pd.read_csv(\"test.csv\")"
   ]
  },
  {
   "cell_type": "markdown",
   "metadata": {},
   "source": [
    "## Onehot Encoder\n",
    "The industry feature is categorical feature which cannot be directly used for modelling. So I used onehotencoder to transform the data for modelling purpose."
   ]
  },
  {
   "cell_type": "code",
   "execution_count": 22,
   "metadata": {},
   "outputs": [],
   "source": [
    "# Feature engineering\n",
    "from sklearn.preprocessing import OneHotEncoder\n",
    "enc = OneHotEncoder()\n",
    "enc.fit(pd.DataFrame(train.INDUSTRY))\n",
    "indu = [\"indus_\"+i[3:] for i in enc.get_feature_names().tolist()]\n",
    "train[indu] = pd.DataFrame(enc.transform(pd.DataFrame(train.INDUSTRY)).toarray())\n",
    "train = train.drop([\"INDUSTRY\"], axis=1)\n",
    "\n",
    "test[indu] = pd.DataFrame(enc.transform(pd.DataFrame(test.INDUSTRY)).toarray())\n",
    "test = test.drop([\"INDUSTRY\",\"Unnamed: 0\"], axis=1)"
   ]
  },
  {
   "cell_type": "code",
   "execution_count": 23,
   "metadata": {},
   "outputs": [],
   "source": [
    "test.describe()\n",
    "dataset = train.copy()"
   ]
  },
  {
   "cell_type": "markdown",
   "metadata": {},
   "source": [
    "## Downsample\n",
    "The sample is imbalanced. The B type company have 2 times sample than A or C. So I downsampled the sample to make it even. Compared with the model based on original dataset, this method improved the model performance."
   ]
  },
  {
   "cell_type": "code",
   "execution_count": 5,
   "metadata": {},
   "outputs": [],
   "source": [
    "# Downsample to make it balanced\n",
    "downsampled = resample(train[train.COMPANY_SIZE == \"B\"], \n",
    "                                 replace=False,    # sample without replacement\n",
    "                                 n_samples=700)\n",
    "df_downsampled = pd.concat([downsampled, train[train.COMPANY_SIZE != \"B\"]])"
   ]
  },
  {
   "cell_type": "code",
   "execution_count": 6,
   "metadata": {},
   "outputs": [],
   "source": [
    "df_downsampled.COMPANY_SIZE.value_counts()\n",
    "\n",
    "df_downsampled = df_downsampled[df_downsampled.COMPANY_SIZE != \"A\"]"
   ]
  },
  {
   "cell_type": "code",
   "execution_count": 7,
   "metadata": {},
   "outputs": [
    {
     "data": {
      "text/plain": [
       "B    700\n",
       "C    641\n",
       "Name: COMPANY_SIZE, dtype: int64"
      ]
     },
     "execution_count": 7,
     "metadata": {},
     "output_type": "execute_result"
    }
   ],
   "source": [
    "df_downsampled.COMPANY_SIZE.value_counts()"
   ]
  },
  {
   "cell_type": "markdown",
   "metadata": {},
   "source": [
    "## Train model\n",
    "Split the dataset tot training and validating set to tune the parameter with the measure of model performance on validating set."
   ]
  },
  {
   "cell_type": "code",
   "execution_count": 8,
   "metadata": {},
   "outputs": [],
   "source": [
    "from sklearn.model_selection import GridSearchCV\n",
    "from sklearn import svm\n",
    "from sklearn import preprocessing\n",
    "from sklearn.linear_model import LogisticRegression\n",
    "from sklearn.tree import DecisionTreeClassifier\n",
    "from sklearn.ensemble import RandomForestClassifier\n",
    "from sklearn.metrics import classification_report\n",
    "from sklearn.metrics import precision_recall_fscore_support\n",
    "from sklearn.model_selection import train_test_split\n",
    "from sklearn.metrics import confusion_matrix\n",
    "from sklearn import metrics\n",
    "import time\n",
    "\n",
    "le = preprocessing.LabelEncoder()\n",
    "\n",
    "y = df_downsampled.COMPANY_SIZE\n",
    "X = df_downsampled.drop([\"COMPANY_SIZE\"], axis=1)\n",
    "X_train, X_val, y_train, y_val = train_test_split(X, y, test_size=0.33)"
   ]
  },
  {
   "cell_type": "code",
   "execution_count": 9,
   "metadata": {},
   "outputs": [
    {
     "data": {
      "text/plain": [
       "(898, 17)"
      ]
     },
     "execution_count": 9,
     "metadata": {},
     "output_type": "execute_result"
    }
   ],
   "source": [
    "X_train.shape"
   ]
  },
  {
   "cell_type": "code",
   "execution_count": 10,
   "metadata": {},
   "outputs": [
    {
     "data": {
      "text/plain": [
       "(443, 17)"
      ]
     },
     "execution_count": 10,
     "metadata": {},
     "output_type": "execute_result"
    }
   ],
   "source": [
    "X_val.shape"
   ]
  },
  {
   "cell_type": "markdown",
   "metadata": {},
   "source": [
    "## GridSearching\n",
    "### Sklearn "
   ]
  },
  {
   "cell_type": "code",
   "execution_count": 11,
   "metadata": {},
   "outputs": [
    {
     "name": "stdout",
     "output_type": "stream",
     "text": [
      "--- 8.095280170440674 seconds ---\n",
      "              precision    recall  f1-score   support\n",
      "\n",
      "           0       0.79      0.81      0.80       241\n",
      "           1       0.77      0.74      0.76       202\n",
      "\n",
      "   micro avg       0.78      0.78      0.78       443\n",
      "   macro avg       0.78      0.78      0.78       443\n",
      "weighted avg       0.78      0.78      0.78       443\n",
      "\n",
      "{'max_depth': 5, 'n_estimators': 50}\n"
     ]
    },
    {
     "data": {
      "text/plain": [
       "0.8448297111868863"
      ]
     },
     "execution_count": 11,
     "metadata": {},
     "output_type": "execute_result"
    }
   ],
   "source": [
    "# Grid search with Random Forest\n",
    "y_train = le.fit_transform(y_train)\n",
    "y_val = le.transform(y_val)\n",
    "\n",
    "# Time stemp\n",
    "start_time = time.time()\n",
    "\n",
    "# Random Forest __ sklearn\n",
    "parameters = {'max_depth':[5,8,10,12,15], 'n_estimators':[50, 80, 100, 150]}\n",
    "rf         = RandomForestClassifier()\n",
    "clf        = GridSearchCV(rf, parameters, scoring='roc_auc',\n",
    "                          cv=5, n_jobs=-1).fit(X_train, y_train)\n",
    "\n",
    "print(\"--- %s seconds ---\" % (time.time() - start_time))\n",
    "\n",
    "# Predict\n",
    "pred_y_0 = clf.predict(X_val)\n",
    "pred_y_1 = clf.predict_proba((X_val))\n",
    "print(classification_report(y_val, pred_y_0))\n",
    "print(clf.best_params_)\n",
    "\n",
    "# Calculate AUC\n",
    "fpr, tpr, thresholds = metrics.roc_curve(y_val, [i[1] for i in pred_y_1])\n",
    "metrics.auc(fpr, tpr)"
   ]
  },
  {
   "cell_type": "code",
   "execution_count": 12,
   "metadata": {},
   "outputs": [
    {
     "name": "stdout",
     "output_type": "stream",
     "text": [
      "               p1\n",
      "predict          \n",
      "0        0.498611\n",
      "1        0.891506\n",
      "               p1\n",
      "predict          \n",
      "0        0.001509\n",
      "1        0.502534\n"
     ]
    }
   ],
   "source": [
    "# Default threshold = 0.5\n",
    "prediction = pd.DataFrame(pred_y_0, columns=[\"predict\"])\n",
    "prediction[\"p1\"] = [i[1] for i in pred_y_1]\n",
    "\n",
    "print(prediction.groupby(\"predict\").max())\n",
    "print(prediction.groupby(\"predict\").min())"
   ]
  },
  {
   "cell_type": "code",
   "execution_count": 13,
   "metadata": {},
   "outputs": [
    {
     "data": {
      "text/plain": [
       "array([[196,  45],\n",
       "       [ 52, 150]])"
      ]
     },
     "execution_count": 13,
     "metadata": {},
     "output_type": "execute_result"
    }
   ],
   "source": [
    "# Confusion matrix\n",
    "confusion_matrix(y_val, pred_y_0)"
   ]
  },
  {
   "cell_type": "code",
   "execution_count": 14,
   "metadata": {},
   "outputs": [
    {
     "name": "stdout",
     "output_type": "stream",
     "text": [
      "--- 0.36733412742614746 seconds ---\n",
      "              precision    recall  f1-score   support\n",
      "\n",
      "           0       0.79      0.78      0.79       241\n",
      "           1       0.75      0.75      0.75       202\n",
      "\n",
      "   micro avg       0.77      0.77      0.77       443\n",
      "   macro avg       0.77      0.77      0.77       443\n",
      "weighted avg       0.77      0.77      0.77       443\n",
      "\n",
      "0.8448297111868863\n",
      "[[201  40]\n",
      " [ 55 147]]\n"
     ]
    }
   ],
   "source": [
    "# Random Forest \n",
    "start_time = time.time()\n",
    "rf         = RandomForestClassifier(max_depth=10, n_estimators=150)\n",
    "rf.fit(X_train, y_train)\n",
    "pred_y_0   = rf.predict(X_val)\n",
    "pred_y_1 = clf.predict_proba((X_val))\n",
    "print(\"--- %s seconds ---\" % (time.time() - start_time))\n",
    "print(classification_report(y_val, pred_y_0))\n",
    "fpr, tpr, thresholds = metrics.roc_curve(y_val, [i[1] for i in pred_y_1])\n",
    "\n",
    "print(metrics.auc(fpr, tpr))\n",
    "\n",
    "print(confusion_matrix(y_val, [1 if i[1] > 0.55 else 0 for i in pred_y_1]))"
   ]
  },
  {
   "cell_type": "markdown",
   "metadata": {},
   "source": [
    "### H2O in Python"
   ]
  },
  {
   "cell_type": "code",
   "execution_count": 29,
   "metadata": {},
   "outputs": [
    {
     "name": "stdout",
     "output_type": "stream",
     "text": [
      "Checking whether there is an H2O instance running at http://localhost:54321 ..... not found.\n",
      "Attempting to start a local H2O server...\n",
      "  Java Version: openjdk version \"1.8.0_152-release\"; OpenJDK Runtime Environment (build 1.8.0_152-release-1056-b12); OpenJDK 64-Bit Server VM (build 25.152-b12, mixed mode)\n",
      "  Starting server from /anaconda3/lib/python3.6/site-packages/h2o/backend/bin/h2o.jar\n",
      "  Ice root: /var/folders/jz/2mclryx11hzddghkhpwv_r800000gn/T/tmpf436ffxy\n",
      "  JVM stdout: /var/folders/jz/2mclryx11hzddghkhpwv_r800000gn/T/tmpf436ffxy/h2o_gaozhiping_started_from_python.out\n",
      "  JVM stderr: /var/folders/jz/2mclryx11hzddghkhpwv_r800000gn/T/tmpf436ffxy/h2o_gaozhiping_started_from_python.err\n",
      "  Server is running at http://127.0.0.1:54321\n",
      "Connecting to H2O server at http://127.0.0.1:54321 ... successful.\n"
     ]
    },
    {
     "data": {
      "text/html": [
       "<div style=\"overflow:auto\"><table style=\"width:50%\"><tr><td>H2O cluster uptime:</td>\n",
       "<td>02 secs</td></tr>\n",
       "<tr><td>H2O cluster timezone:</td>\n",
       "<td>America/Los_Angeles</td></tr>\n",
       "<tr><td>H2O data parsing timezone:</td>\n",
       "<td>UTC</td></tr>\n",
       "<tr><td>H2O cluster version:</td>\n",
       "<td>3.24.0.5</td></tr>\n",
       "<tr><td>H2O cluster version age:</td>\n",
       "<td>6 days </td></tr>\n",
       "<tr><td>H2O cluster name:</td>\n",
       "<td>H2O_from_python_gaozhiping_wtv3ll</td></tr>\n",
       "<tr><td>H2O cluster total nodes:</td>\n",
       "<td>1</td></tr>\n",
       "<tr><td>H2O cluster free memory:</td>\n",
       "<td>1.778 Gb</td></tr>\n",
       "<tr><td>H2O cluster total cores:</td>\n",
       "<td>4</td></tr>\n",
       "<tr><td>H2O cluster allowed cores:</td>\n",
       "<td>4</td></tr>\n",
       "<tr><td>H2O cluster status:</td>\n",
       "<td>accepting new members, healthy</td></tr>\n",
       "<tr><td>H2O connection url:</td>\n",
       "<td>http://127.0.0.1:54321</td></tr>\n",
       "<tr><td>H2O connection proxy:</td>\n",
       "<td>None</td></tr>\n",
       "<tr><td>H2O internal security:</td>\n",
       "<td>False</td></tr>\n",
       "<tr><td>H2O API Extensions:</td>\n",
       "<td>Amazon S3, XGBoost, Algos, AutoML, Core V3, Core V4</td></tr>\n",
       "<tr><td>Python version:</td>\n",
       "<td>3.6.8 final</td></tr></table></div>"
      ],
      "text/plain": [
       "--------------------------  ---------------------------------------------------\n",
       "H2O cluster uptime:         02 secs\n",
       "H2O cluster timezone:       America/Los_Angeles\n",
       "H2O data parsing timezone:  UTC\n",
       "H2O cluster version:        3.24.0.5\n",
       "H2O cluster version age:    6 days\n",
       "H2O cluster name:           H2O_from_python_gaozhiping_wtv3ll\n",
       "H2O cluster total nodes:    1\n",
       "H2O cluster free memory:    1.778 Gb\n",
       "H2O cluster total cores:    4\n",
       "H2O cluster allowed cores:  4\n",
       "H2O cluster status:         accepting new members, healthy\n",
       "H2O connection url:         http://127.0.0.1:54321\n",
       "H2O connection proxy:\n",
       "H2O internal security:      False\n",
       "H2O API Extensions:         Amazon S3, XGBoost, Algos, AutoML, Core V3, Core V4\n",
       "Python version:             3.6.8 final\n",
       "--------------------------  ---------------------------------------------------"
      ]
     },
     "metadata": {},
     "output_type": "display_data"
    }
   ],
   "source": [
    "import h2o\n",
    "h2o.init(nthreads=-1)             #specify max number of bytes. uses all cores by default.\n",
    "h2o.remove_all()                          #clean slate, in case cluster was already running"
   ]
  },
  {
   "cell_type": "code",
   "execution_count": 30,
   "metadata": {},
   "outputs": [],
   "source": [
    "from h2o.estimators.gbm import H2OGradientBoostingEstimator\n",
    "from h2o.estimators.random_forest import H2ORandomForestEstimator\n",
    "from h2o.grid.grid_search import H2OGridSearch\n",
    "from h2o.frame import H2OFrame"
   ]
  },
  {
   "cell_type": "code",
   "execution_count": 31,
   "metadata": {},
   "outputs": [
    {
     "name": "stdout",
     "output_type": "stream",
     "text": [
      "Parse progress: |█████████████████████████████████████████████████████████| 100%\n",
      "Parse progress: |█████████████████████████████████████████████████████████| 100%\n"
     ]
    }
   ],
   "source": [
    "# Feature transformation\n",
    "x = list(X_train.columns)\n",
    "y = 'COMPANY_SIZE'\n",
    "train = X_train.copy()\n",
    "train['COMPANY_SIZE'] = y_train\n",
    "train = H2OFrame(train)\n",
    "train['COMPANY_SIZE'] = train['COMPANY_SIZE'].asfactor()\n",
    "\n",
    "valid = X_val.copy()\n",
    "valid['COMPANY_SIZE'] = y_val\n",
    "valid = H2OFrame(valid)\n",
    "valid['COMPANY_SIZE'] = valid['COMPANY_SIZE'].asfactor()"
   ]
  },
  {
   "cell_type": "code",
   "execution_count": 32,
   "metadata": {},
   "outputs": [
    {
     "name": "stdout",
     "output_type": "stream",
     "text": [
      "drf Grid Build progress: |████████████████████████████████████████████████| 100%\n",
      "--- 17.08111810684204 seconds ---\n"
     ]
    },
    {
     "data": {
      "text/plain": [
       "0.8219684588985128"
      ]
     },
     "execution_count": 32,
     "metadata": {},
     "output_type": "execute_result"
    }
   ],
   "source": [
    "# H2O GridSearch with Random Forest\n",
    "start_time = time.time()\n",
    "gbm_params1 = {'ntrees': [50, 80, 100, 150],\n",
    "                'max_depth': [5,8,10,12,15]}\n",
    "\n",
    "\n",
    "\n",
    "gbm_grid1 = H2OGridSearch(model=H2ORandomForestEstimator,\n",
    "                          grid_id='gbm_grid1',\n",
    "                          hyper_params=gbm_params1)\n",
    "gbm_grid1.train(x=x, y=y,\n",
    "                training_frame=train,\n",
    "                seed=1)\n",
    "\n",
    "# Get the grid results, sorted by validation AUC\n",
    "gbm_gridperf1 = gbm_grid1.get_grid(sort_by='auc', decreasing=True)\n",
    "print(\"--- %s seconds ---\" % (time.time() - start_time))\n",
    "gbm_gridperf1\n",
    "\n",
    "# Grab the top GBM model, chosen by validation AUC\n",
    "best_gbm1 = gbm_gridperf1.models[0]\n",
    "\n",
    "# Now let's evaluate the model performance on a test set\n",
    "# so we get an honest estimate of top model performance\n",
    "best_gbm_perf1 = best_gbm1.model_performance(valid)\n",
    "\n",
    "best_gbm_perf1.auc()"
   ]
  },
  {
   "cell_type": "code",
   "execution_count": 33,
   "metadata": {},
   "outputs": [
    {
     "name": "stdout",
     "output_type": "stream",
     "text": [
      "     max_depth ntrees           model_ids                 auc\n",
      "0            5     80   gbm_grid1_model_6  0.8667884118465514\n",
      "1            5     50   gbm_grid1_model_1  0.8659908566885312\n",
      "2            5    100  gbm_grid1_model_11  0.8651858477439873\n",
      "3           10    150  gbm_grid1_model_18  0.8651113098787517\n",
      "4            5    150  gbm_grid1_model_16  0.8649125422381236\n",
      "5            8    150  gbm_grid1_model_17  0.8648479427549195\n",
      "6           10    100  gbm_grid1_model_13  0.8644032001590141\n",
      "7            8     80   gbm_grid1_model_7   0.864055356787915\n",
      "8           12    150  gbm_grid1_model_19  0.8639758497316636\n",
      "9            8    100  gbm_grid1_model_12  0.8638640429338104\n",
      "10          12    100  gbm_grid1_model_14   0.863804412641622\n",
      "11          12     80   gbm_grid1_model_9  0.8633919697873187\n",
      "12          10     80   gbm_grid1_model_8  0.8631385410455178\n",
      "13          15    100  gbm_grid1_model_15  0.8624677002583979\n",
      "14          15     80  gbm_grid1_model_10  0.8622888093818326\n",
      "15          15    150  gbm_grid1_model_20  0.8622068177300735\n",
      "16           8     50   gbm_grid1_model_2   0.859876267143709\n",
      "17          10     50   gbm_grid1_model_3  0.8576898230967999\n",
      "18          12     50   gbm_grid1_model_4  0.8568202146690519\n",
      "19          15     50   gbm_grid1_model_5  0.8547356390379647\n"
     ]
    },
    {
     "data": {
      "text/plain": []
     },
     "execution_count": 33,
     "metadata": {},
     "output_type": "execute_result"
    }
   ],
   "source": [
    "# Check the model with the best performance\n",
    "gbm_gridperf1"
   ]
  },
  {
   "cell_type": "code",
   "execution_count": 34,
   "metadata": {},
   "outputs": [
    {
     "name": "stdout",
     "output_type": "stream",
     "text": [
      "Confusion Matrix (Act/Pred) for max f1 @ threshold = 0.5704698222689331: \n"
     ]
    },
    {
     "data": {
      "text/html": [
       "<div style=\"overflow:auto\"><table style=\"width:50%\"><tr><td><b></b></td>\n",
       "<td><b>0</b></td>\n",
       "<td><b>1</b></td>\n",
       "<td><b>Error</b></td>\n",
       "<td><b>Rate</b></td></tr>\n",
       "<tr><td>0</td>\n",
       "<td>183.0</td>\n",
       "<td>49.0</td>\n",
       "<td>0.2112</td>\n",
       "<td> (49.0/232.0)</td></tr>\n",
       "<tr><td>1</td>\n",
       "<td>53.0</td>\n",
       "<td>158.0</td>\n",
       "<td>0.2512</td>\n",
       "<td> (53.0/211.0)</td></tr>\n",
       "<tr><td>Total</td>\n",
       "<td>236.0</td>\n",
       "<td>207.0</td>\n",
       "<td>0.2302</td>\n",
       "<td> (102.0/443.0)</td></tr></table></div>"
      ],
      "text/plain": [
       "       0    1    Error    Rate\n",
       "-----  ---  ---  -------  -------------\n",
       "0      183  49   0.2112   (49.0/232.0)\n",
       "1      53   158  0.2512   (53.0/211.0)\n",
       "Total  236  207  0.2302   (102.0/443.0)"
      ]
     },
     "metadata": {},
     "output_type": "display_data"
    },
    {
     "data": {
      "text/plain": []
     },
     "execution_count": 34,
     "metadata": {},
     "output_type": "execute_result"
    }
   ],
   "source": [
    "# Confusion matrix\n",
    "best_gbm_perf1.confusion_matrix()"
   ]
  },
  {
   "cell_type": "code",
   "execution_count": 219,
   "metadata": {},
   "outputs": [
    {
     "name": "stdout",
     "output_type": "stream",
     "text": [
      "drf Model Build progress: |███████████████████████████████████████████████| 100%\n",
      "--- 0.9379830360412598 seconds ---\n",
      "Trainset AUC is 0.8610837903353998\n",
      "AUC is 0.8529321555637345\n",
      "Confusion Matrix (Act/Pred) for max f1 @ threshold = 0.34602851320058103: \n"
     ]
    },
    {
     "data": {
      "text/html": [
       "<div style=\"overflow:auto\"><table style=\"width:50%\"><tr><td><b></b></td>\n",
       "<td><b>0</b></td>\n",
       "<td><b>1</b></td>\n",
       "<td><b>Error</b></td>\n",
       "<td><b>Rate</b></td></tr>\n",
       "<tr><td>0</td>\n",
       "<td>122.0</td>\n",
       "<td>112.0</td>\n",
       "<td>0.4786</td>\n",
       "<td> (112.0/234.0)</td></tr>\n",
       "<tr><td>1</td>\n",
       "<td>13.0</td>\n",
       "<td>196.0</td>\n",
       "<td>0.0622</td>\n",
       "<td> (13.0/209.0)</td></tr>\n",
       "<tr><td>Total</td>\n",
       "<td>135.0</td>\n",
       "<td>308.0</td>\n",
       "<td>0.2822</td>\n",
       "<td> (125.0/443.0)</td></tr></table></div>"
      ],
      "text/plain": [
       "       0    1    Error    Rate\n",
       "-----  ---  ---  -------  -------------\n",
       "0      122  112  0.4786   (112.0/234.0)\n",
       "1      13   196  0.0622   (13.0/209.0)\n",
       "Total  135  308  0.2822   (125.0/443.0)"
      ]
     },
     "metadata": {},
     "output_type": "display_data"
    },
    {
     "data": {
      "text/plain": []
     },
     "execution_count": 219,
     "metadata": {},
     "output_type": "execute_result"
    }
   ],
   "source": [
    "# H2O Random Forest\n",
    "start_time = time.time()\n",
    "my_rf = H2ORandomForestEstimator(ntrees = 100, max_depth=5)\n",
    "#my_rf = H2ORandomForestEstimator(ntrees = 150, max_depth=10, nfolds=5)\n",
    "my_rf.train(x=x, y=y, training_frame=train)\n",
    "print(\"--- %s seconds ---\" % (time.time() - start_time))\n",
    "print(\"Trainset AUC is %s\" % my_rf.model_performance().auc())\n",
    "print(\"AUC is %s\" % my_rf.model_performance(valid).auc())\n",
    "my_rf.model_performance(valid).confusion_matrix()"
   ]
  },
  {
   "cell_type": "code",
   "execution_count": 220,
   "metadata": {},
   "outputs": [
    {
     "name": "stdout",
     "output_type": "stream",
     "text": [
      "Parse progress: |█████████████████████████████████████████████████████████| 100%\n",
      "drf prediction progress: |████████████████████████████████████████████████| 100%\n",
      "AUC by sklearn.metrics is 0.8529321555637345\n"
     ]
    },
    {
     "data": {
      "text/plain": [
       "array([[184,  50],\n",
       "       [ 53, 156]])"
      ]
     },
     "execution_count": 220,
     "metadata": {},
     "output_type": "execute_result"
    }
   ],
   "source": [
    "# AUC with sklearn metrics on H2o prediction\n",
    "pred = my_rf.predict(H2OFrame(X_val)).as_data_frame()\n",
    "fpr, tpr, thresholds = metrics.roc_curve(y_val, pred['p1'])\n",
    "print(\"AUC by sklearn.metrics is %s\" % metrics.auc(fpr, tpr))\n",
    "confusion_matrix(y_val, pred['predict'])"
   ]
  },
  {
   "cell_type": "code",
   "execution_count": 221,
   "metadata": {},
   "outputs": [],
   "source": [
    "pred[\"threshold\"] = pred.p1 >= 0.48381023968259496"
   ]
  },
  {
   "cell_type": "code",
   "execution_count": 222,
   "metadata": {},
   "outputs": [
    {
     "data": {
      "text/plain": [
       "array([[188,  46],\n",
       "       [ 56, 153]])"
      ]
     },
     "execution_count": 222,
     "metadata": {},
     "output_type": "execute_result"
    }
   ],
   "source": [
    "confusion_matrix(y_val, pred['threshold'])"
   ]
  },
  {
   "cell_type": "code",
   "execution_count": 223,
   "metadata": {},
   "outputs": [
    {
     "data": {
      "text/plain": [
       "array([[184,  50],\n",
       "       [ 53, 156]])"
      ]
     },
     "execution_count": 223,
     "metadata": {},
     "output_type": "execute_result"
    }
   ],
   "source": [
    "confusion_matrix(y_val, pred['predict'])"
   ]
  },
  {
   "cell_type": "markdown",
   "metadata": {},
   "source": [
    "### Compare the moedel performance"
   ]
  },
  {
   "cell_type": "code",
   "execution_count": null,
   "metadata": {},
   "outputs": [],
   "source": [
    "Prediction_rand = []\n",
    "Time_rand = []\n",
    "Prediction_h2o = []\n",
    "Time_h2o = []\n",
    "for _ in range(30):\n",
    "    \n",
    "    # Time stemp\n",
    "    start_time = time.time()\n",
    "    \n",
    "    # Random Forest __ sklearn\n",
    "    parameters = {'max_depth':[5,8,10,12,15], 'n_estimators':[50, 80, 100, 150]}\n",
    "    rf         = RandomForestClassifier()\n",
    "    clf        = GridSearchCV(rf, parameters, scoring='roc_auc',\n",
    "                              cv=5, n_jobs=-1).fit(X_train, y_train)\n",
    "    \n",
    "    Time_rand.append(time.time() - start_time)\n",
    "    \n",
    "    # Predict\n",
    "    pred_y_0 = clf.predict(X_val)\n",
    "    pred_y_1 = clf.predict_proba((X_val))\n",
    "\n",
    "    \n",
    "    # Calculate AUC\n",
    "    fpr, tpr, thresholds = metrics.roc_curve(y_val, [i[1] for i in pred_y_1])\n",
    "    Prediction_rand.append(metrics.auc(fpr, tpr))\n",
    "    \n",
    "    \n",
    "    # H2O GridSearch with Random Forest\n",
    "    start_time = time.time()\n",
    "    gbm_params1 = {'ntrees': [50, 80, 100, 150],\n",
    "                    'max_depth': [5,8,10,12,15]}\n",
    "    \n",
    "    \n",
    "    \n",
    "    gbm_grid1 = H2OGridSearch(model=H2ORandomForestEstimator,\n",
    "                              grid_id='gbm_grid1',\n",
    "                              hyper_params=gbm_params1)\n",
    "    gbm_grid1.train(x=x, y=y,\n",
    "                    training_frame=train,\n",
    "                    seed=1)\n",
    "    \n",
    "    # Get the grid results, sorted by validation AUC\n",
    "    gbm_gridperf1 = gbm_grid1.get_grid(sort_by='auc', decreasing=True)\n",
    "    Time_h2o.append(time.time() - start_time)\n",
    "    gbm_gridperf1\n",
    "    \n",
    "    # Grab the top GBM model, chosen by validation AUC\n",
    "    best_gbm1 = gbm_gridperf1.models[0]\n",
    "    \n",
    "# Now let's evaluate the model performance on a test set\n",
    "# so we get an honest estimate of top model performance\n",
    "    best_gbm_perf1 = best_gbm1.model_performance(valid)\n",
    "\n",
    "    Prediction_h2o.append(best_gbm_perf1.auc())\n",
    "    \n",
    "Performance = pd.DataFrame({\"Prediction_rand\":Prediction_rand, \"Prediction_h2o\":Prediction_h2o,\n",
    "                           \"Time_rand\":Time_rand, \"Time_h2o\":Time_h2o})\n",
    "print(\"All Done\")"
   ]
  },
  {
   "cell_type": "code",
   "execution_count": 39,
   "metadata": {},
   "outputs": [
    {
     "data": {
      "text/html": [
       "<div>\n",
       "<style scoped>\n",
       "    .dataframe tbody tr th:only-of-type {\n",
       "        vertical-align: middle;\n",
       "    }\n",
       "\n",
       "    .dataframe tbody tr th {\n",
       "        vertical-align: top;\n",
       "    }\n",
       "\n",
       "    .dataframe thead th {\n",
       "        text-align: right;\n",
       "    }\n",
       "</style>\n",
       "<table border=\"1\" class=\"dataframe\">\n",
       "  <thead>\n",
       "    <tr style=\"text-align: right;\">\n",
       "      <th></th>\n",
       "      <th>Prediction_rand</th>\n",
       "      <th>Prediction_h2o</th>\n",
       "      <th>Time_rand</th>\n",
       "      <th>Time_h2o</th>\n",
       "    </tr>\n",
       "  </thead>\n",
       "  <tbody>\n",
       "    <tr>\n",
       "      <th>0</th>\n",
       "      <td>0.830252</td>\n",
       "      <td>0.821968</td>\n",
       "      <td>6.634381</td>\n",
       "      <td>1.865584</td>\n",
       "    </tr>\n",
       "    <tr>\n",
       "      <th>1</th>\n",
       "      <td>0.827004</td>\n",
       "      <td>0.821968</td>\n",
       "      <td>7.804865</td>\n",
       "      <td>1.772508</td>\n",
       "    </tr>\n",
       "    <tr>\n",
       "      <th>2</th>\n",
       "      <td>0.828843</td>\n",
       "      <td>0.821968</td>\n",
       "      <td>6.782336</td>\n",
       "      <td>1.564539</td>\n",
       "    </tr>\n",
       "    <tr>\n",
       "      <th>3</th>\n",
       "      <td>0.824696</td>\n",
       "      <td>0.821968</td>\n",
       "      <td>5.115591</td>\n",
       "      <td>1.259368</td>\n",
       "    </tr>\n",
       "    <tr>\n",
       "      <th>4</th>\n",
       "      <td>0.825247</td>\n",
       "      <td>0.821968</td>\n",
       "      <td>5.880640</td>\n",
       "      <td>1.349490</td>\n",
       "    </tr>\n",
       "  </tbody>\n",
       "</table>\n",
       "</div>"
      ],
      "text/plain": [
       "   Prediction_rand  Prediction_h2o  Time_rand  Time_h2o\n",
       "0         0.830252        0.821968   6.634381  1.865584\n",
       "1         0.827004        0.821968   7.804865  1.772508\n",
       "2         0.828843        0.821968   6.782336  1.564539\n",
       "3         0.824696        0.821968   5.115591  1.259368\n",
       "4         0.825247        0.821968   5.880640  1.349490"
      ]
     },
     "execution_count": 39,
     "metadata": {},
     "output_type": "execute_result"
    }
   ],
   "source": [
    "Performance.head()"
   ]
  },
  {
   "cell_type": "code",
   "execution_count": 40,
   "metadata": {},
   "outputs": [
    {
     "data": {
      "image/png": "[encoded data removed]",
      "text/plain": [
       "<Figure size 432x288 with 1 Axes>"
      ]
     },
     "metadata": {
      "needs_background": "light"
     },
     "output_type": "display_data"
    }
   ],
   "source": [
    "Performance.Prediction_rand.plot()\n",
    "Performance.Prediction_h2o.plot()\n",
    "plt.title(\"AUC for each training\")\n",
    "plt.legend()\n",
    "plt.show()"
   ]
  },
  {
   "cell_type": "markdown",
   "metadata": {},
   "source": [
    "### Compare the moedel performance with sampling"
   ]
  },
  {
   "cell_type": "code",
   "execution_count": null,
   "metadata": {},
   "outputs": [],
   "source": [
    "h2o.init(nthreads=-1) \n",
    "Prediction_rand = []\n",
    "Time_rand = []\n",
    "Prediction_h2o = []\n",
    "Time_h2o = []\n",
    "for _ in range(15):\n",
    "    # Downsample to make it balanced\n",
    "    downsampled = resample(dataset[dataset.COMPANY_SIZE == \"B\"], \n",
    "                                 replace=False,    # sample without replacement\n",
    "                                 n_samples=700)\n",
    "    df_downsampled = pd.concat([downsampled, dataset[dataset.COMPANY_SIZE != \"B\"]])\n",
    "    df_downsampled = df_downsampled[df_downsampled.COMPANY_SIZE != \"A\"]\n",
    "    \n",
    "    y = df_downsampled.COMPANY_SIZE\n",
    "    X = df_downsampled.drop([\"COMPANY_SIZE\"], axis=1)\n",
    "    X_train, X_val, y_train, y_val = train_test_split(X, y, test_size=0.33)\n",
    "    \n",
    "    # Grid search with Random Forest\n",
    "    y_train = le.fit_transform(y_train)\n",
    "    y_val = le.transform(y_val)\n",
    "    \n",
    "    # Time stemp\n",
    "    start_time = time.time()\n",
    "    \n",
    "    # Random Forest __ sklearn\n",
    "    parameters = {'max_depth':[5,8,10,12,15], 'n_estimators':[50, 80, 100, 150]}\n",
    "    rf         = RandomForestClassifier()\n",
    "    clf        = GridSearchCV(rf, parameters, scoring='roc_auc',\n",
    "                              cv=5, n_jobs=-1).fit(X_train, y_train)\n",
    "    \n",
    "    Time_rand.append(time.time() - start_time)\n",
    "    \n",
    "    # Predict\n",
    "    pred_y_0 = clf.predict(X_val)\n",
    "    pred_y_1 = clf.predict_proba((X_val))\n",
    "\n",
    "    \n",
    "    # Calculate AUC\n",
    "    fpr, tpr, thresholds = metrics.roc_curve(y_val, [i[1] for i in pred_y_1])\n",
    "    Prediction_rand.append(metrics.auc(fpr, tpr))\n",
    "    \n",
    "    \n",
    "    # H2O GridSearch with Random Forest\n",
    "    # h2o.init(nthreads=-1)             #specify max number of bytes. uses all cores by default.\n",
    "    h2o.remove_all()  \n",
    "    \n",
    "    # Feature transformation\n",
    "    x = list(X_train.columns)\n",
    "    y = 'COMPANY_SIZE'\n",
    "    \n",
    "    train_h = X_train.copy()\n",
    "    train_h['COMPANY_SIZE'] = y_train\n",
    "    train_h = H2OFrame(train_h)\n",
    "    train_h['COMPANY_SIZE'] = train_h['COMPANY_SIZE'].asfactor()\n",
    "    \n",
    "    valid_h = X_val.copy()\n",
    "    valid_h['COMPANY_SIZE'] = y_val\n",
    "    valid_h = H2OFrame(valid_h)\n",
    "    valid_h['COMPANY_SIZE'] = valid_h['COMPANY_SIZE'].asfactor()\n",
    "    \n",
    "    start_time = time.time()\n",
    "    gbm_params1 = {'ntrees': [50, 80, 100, 150],\n",
    "                    'max_depth': [5,8,10,12,15]}\n",
    "    \n",
    "    \n",
    "    \n",
    "    gbm_grid1 = H2OGridSearch(model=H2ORandomForestEstimator,\n",
    "                              grid_id='gbm_grid1',\n",
    "                              hyper_params=gbm_params1)\n",
    "    gbm_grid1.train(x=x, y=y,\n",
    "                    training_frame=train_h,\n",
    "                    seed=1)\n",
    "    \n",
    "    # Get the grid results, sorted by validation AUC\n",
    "    gbm_gridperf1 = gbm_grid1.get_grid(sort_by='auc', decreasing=True)\n",
    "    Time_h2o.append(time.time() - start_time)\n",
    "    gbm_gridperf1\n",
    "    \n",
    "    # Grab the top GBM model, chosen by validation AUC\n",
    "    best_gbm1 = gbm_gridperf1.models[0]\n",
    "    \n",
    "# Now let's evaluate the model performance on a test set\n",
    "# so we get an honest estimate of top model performance\n",
    "    best_gbm_perf1 = best_gbm1.model_performance(valid_h)\n",
    "\n",
    "    Prediction_h2o.append(best_gbm_perf1.auc())\n",
    "    # h2o.shutdown()\n",
    "\n",
    "h2o.shutdown()\n",
    "Performance = pd.DataFrame({\"Prediction_rand\":Prediction_rand, \"Prediction_h2o\":Prediction_h2o,\n",
    "                           \"Time_rand\":Time_rand, \"Time_h2o\":Time_h2o})\n",
    "print(\"All Done\")"
   ]
  },
  {
   "cell_type": "code",
   "execution_count": 43,
   "metadata": {},
   "outputs": [
    {
     "data": {
      "text/html": [
       "<div>\n",
       "<style scoped>\n",
       "    .dataframe tbody tr th:only-of-type {\n",
       "        vertical-align: middle;\n",
       "    }\n",
       "\n",
       "    .dataframe tbody tr th {\n",
       "        vertical-align: top;\n",
       "    }\n",
       "\n",
       "    .dataframe thead th {\n",
       "        text-align: right;\n",
       "    }\n",
       "</style>\n",
       "<table border=\"1\" class=\"dataframe\">\n",
       "  <thead>\n",
       "    <tr style=\"text-align: right;\">\n",
       "      <th></th>\n",
       "      <th>Prediction_rand</th>\n",
       "      <th>Prediction_h2o</th>\n",
       "      <th>Time_rand</th>\n",
       "      <th>Time_h2o</th>\n",
       "    </tr>\n",
       "  </thead>\n",
       "  <tbody>\n",
       "    <tr>\n",
       "      <th>0</th>\n",
       "      <td>0.853264</td>\n",
       "      <td>0.856860</td>\n",
       "      <td>8.605739</td>\n",
       "      <td>16.605721</td>\n",
       "    </tr>\n",
       "    <tr>\n",
       "      <th>1</th>\n",
       "      <td>0.840450</td>\n",
       "      <td>0.835743</td>\n",
       "      <td>5.735462</td>\n",
       "      <td>10.405549</td>\n",
       "    </tr>\n",
       "    <tr>\n",
       "      <th>2</th>\n",
       "      <td>0.848330</td>\n",
       "      <td>0.843239</td>\n",
       "      <td>5.382985</td>\n",
       "      <td>11.049962</td>\n",
       "    </tr>\n",
       "    <tr>\n",
       "      <th>3</th>\n",
       "      <td>0.868262</td>\n",
       "      <td>0.870410</td>\n",
       "      <td>6.131883</td>\n",
       "      <td>11.885008</td>\n",
       "    </tr>\n",
       "    <tr>\n",
       "      <th>4</th>\n",
       "      <td>0.871552</td>\n",
       "      <td>0.876580</td>\n",
       "      <td>5.502682</td>\n",
       "      <td>12.110447</td>\n",
       "    </tr>\n",
       "  </tbody>\n",
       "</table>\n",
       "</div>"
      ],
      "text/plain": [
       "   Prediction_rand  Prediction_h2o  Time_rand   Time_h2o\n",
       "0         0.853264        0.856860   8.605739  16.605721\n",
       "1         0.840450        0.835743   5.735462  10.405549\n",
       "2         0.848330        0.843239   5.382985  11.049962\n",
       "3         0.868262        0.870410   6.131883  11.885008\n",
       "4         0.871552        0.876580   5.502682  12.110447"
      ]
     },
     "execution_count": 43,
     "metadata": {},
     "output_type": "execute_result"
    }
   ],
   "source": [
    "Performance.head()"
   ]
  },
  {
   "cell_type": "code",
   "execution_count": 44,
   "metadata": {},
   "outputs": [
    {
     "data": {
      "image/png": "[encoded data removed]",
      "text/plain": [
       "<Figure size 432x288 with 1 Axes>"
      ]
     },
     "metadata": {
      "needs_background": "light"
     },
     "output_type": "display_data"
    }
   ],
   "source": [
    "Performance.Prediction_rand.plot()\n",
    "Performance.Prediction_h2o.plot()\n",
    "plt.title(\"AUC for each training\")\n",
    "plt.legend()\n",
    "plt.show()"
   ]
  },
  {
   "cell_type": "code",
   "execution_count": 45,
   "metadata": {},
   "outputs": [
    {
     "data": {
      "text/plain": [
       "Prediction_rand    0.666667\n",
       "Prediction_h2o     0.666667\n",
       "Time_rand          0.666667\n",
       "Time_h2o           0.666667\n",
       "dtype: float64"
      ]
     },
     "execution_count": 45,
     "metadata": {},
     "output_type": "execute_result"
    }
   ],
   "source": [
    "Performance[Performance.Prediction_rand < Performance.Prediction_h2o].count()/Performance.count()"
   ]
  },
  {
   "cell_type": "markdown",
   "metadata": {},
   "source": [
    "### Try AutoML"
   ]
  },
  {
   "cell_type": "markdown",
   "metadata": {},
   "source": [
    "`exclude_algos` or `include_algos` allows to select targeting algorithms;\n",
    "`nfolds` for cross_validation(default=5);\n",
    "`balance_classes` allows you to balance the dataset;\n",
    "`stopping_metric` is used for early stopping of the grid searches and individual models(Defaults=logloss for classification, deviance for regression);"
   ]
  },
  {
   "cell_type": "code",
   "execution_count": 176,
   "metadata": {},
   "outputs": [
    {
     "name": "stdout",
     "output_type": "stream",
     "text": [
      "Checking whether there is an H2O instance running at http://localhost:54321 . connected.\n"
     ]
    },
    {
     "data": {
      "text/html": [
       "<div style=\"overflow:auto\"><table style=\"width:50%\"><tr><td>H2O cluster uptime:</td>\n",
       "<td>39 mins 46 secs</td></tr>\n",
       "<tr><td>H2O cluster timezone:</td>\n",
       "<td>America/Los_Angeles</td></tr>\n",
       "<tr><td>H2O data parsing timezone:</td>\n",
       "<td>UTC</td></tr>\n",
       "<tr><td>H2O cluster version:</td>\n",
       "<td>3.24.0.5</td></tr>\n",
       "<tr><td>H2O cluster version age:</td>\n",
       "<td>6 days </td></tr>\n",
       "<tr><td>H2O cluster name:</td>\n",
       "<td>H2O_from_python_gaozhiping_cefn0e</td></tr>\n",
       "<tr><td>H2O cluster total nodes:</td>\n",
       "<td>1</td></tr>\n",
       "<tr><td>H2O cluster free memory:</td>\n",
       "<td>1.587 Gb</td></tr>\n",
       "<tr><td>H2O cluster total cores:</td>\n",
       "<td>4</td></tr>\n",
       "<tr><td>H2O cluster allowed cores:</td>\n",
       "<td>4</td></tr>\n",
       "<tr><td>H2O cluster status:</td>\n",
       "<td>locked, healthy</td></tr>\n",
       "<tr><td>H2O connection url:</td>\n",
       "<td>http://localhost:54321</td></tr>\n",
       "<tr><td>H2O connection proxy:</td>\n",
       "<td>None</td></tr>\n",
       "<tr><td>H2O internal security:</td>\n",
       "<td>False</td></tr>\n",
       "<tr><td>H2O API Extensions:</td>\n",
       "<td>Amazon S3, XGBoost, Algos, AutoML, Core V3, Core V4</td></tr>\n",
       "<tr><td>Python version:</td>\n",
       "<td>3.6.8 final</td></tr></table></div>"
      ],
      "text/plain": [
       "--------------------------  ---------------------------------------------------\n",
       "H2O cluster uptime:         39 mins 46 secs\n",
       "H2O cluster timezone:       America/Los_Angeles\n",
       "H2O data parsing timezone:  UTC\n",
       "H2O cluster version:        3.24.0.5\n",
       "H2O cluster version age:    6 days\n",
       "H2O cluster name:           H2O_from_python_gaozhiping_cefn0e\n",
       "H2O cluster total nodes:    1\n",
       "H2O cluster free memory:    1.587 Gb\n",
       "H2O cluster total cores:    4\n",
       "H2O cluster allowed cores:  4\n",
       "H2O cluster status:         locked, healthy\n",
       "H2O connection url:         http://localhost:54321\n",
       "H2O connection proxy:\n",
       "H2O internal security:      False\n",
       "H2O API Extensions:         Amazon S3, XGBoost, Algos, AutoML, Core V3, Core V4\n",
       "Python version:             3.6.8 final\n",
       "--------------------------  ---------------------------------------------------"
      ]
     },
     "metadata": {},
     "output_type": "display_data"
    },
    {
     "name": "stdout",
     "output_type": "stream",
     "text": [
      "Parse progress: |█████████████████████████████████████████████████████████| 100%\n",
      "Parse progress: |█████████████████████████████████████████████████████████| 100%\n",
      "AutoML progress: |████████████████████████████████████████████████████████| 100%\n"
     ]
    }
   ],
   "source": [
    "from h2o.automl import H2OAutoML\n",
    "h2o.init(nthreads=-1) \n",
    "h2o.remove_all() \n",
    "\n",
    "# Feature transformation\n",
    "x = list(X_train.columns)\n",
    "y = 'COMPANY_SIZE'\n",
    "train = X_train.copy()\n",
    "train['COMPANY_SIZE'] = y_train\n",
    "train = H2OFrame(train)\n",
    "train['COMPANY_SIZE'] = train['COMPANY_SIZE'].asfactor()\n",
    "\n",
    "valid = X_val.copy()\n",
    "valid['COMPANY_SIZE'] = y_val\n",
    "valid = H2OFrame(valid)\n",
    "valid['COMPANY_SIZE'] = valid['COMPANY_SIZE'].asfactor()\n",
    "\n",
    "# Run AutoML for 20 base models (limited to 1 hour max runtime by default)\n",
    "aml = H2OAutoML(max_models=20, seed=1)\n",
    "aml.train(x=x, y=y, training_frame=train)"
   ]
  },
  {
   "cell_type": "code",
   "execution_count": 177,
   "metadata": {},
   "outputs": [
    {
     "data": {
      "text/html": [
       "<table>\n",
       "<thead>\n",
       "<tr><th>model_id                                           </th><th style=\"text-align: right;\">     auc</th><th style=\"text-align: right;\">  logloss</th><th style=\"text-align: right;\">  mean_per_class_error</th><th style=\"text-align: right;\">    rmse</th><th style=\"text-align: right;\">     mse</th></tr>\n",
       "</thead>\n",
       "<tbody>\n",
       "<tr><td>StackedEnsemble_BestOfFamily_AutoML_20190625_144411</td><td style=\"text-align: right;\">0.855996</td><td style=\"text-align: right;\"> 0.472002</td><td style=\"text-align: right;\">              0.210547</td><td style=\"text-align: right;\">0.3916  </td><td style=\"text-align: right;\">0.15335 </td></tr>\n",
       "<tr><td>XGBoost_grid_1_AutoML_20190625_144411_model_3      </td><td style=\"text-align: right;\">0.855716</td><td style=\"text-align: right;\"> 0.472722</td><td style=\"text-align: right;\">              0.211694</td><td style=\"text-align: right;\">0.391411</td><td style=\"text-align: right;\">0.153202</td></tr>\n",
       "<tr><td>StackedEnsemble_AllModels_AutoML_20190625_144411   </td><td style=\"text-align: right;\">0.853921</td><td style=\"text-align: right;\"> 0.475755</td><td style=\"text-align: right;\">              0.206427</td><td style=\"text-align: right;\">0.393416</td><td style=\"text-align: right;\">0.154776</td></tr>\n",
       "<tr><td>XGBoost_3_AutoML_20190625_144411                   </td><td style=\"text-align: right;\">0.85227 </td><td style=\"text-align: right;\"> 0.47769 </td><td style=\"text-align: right;\">              0.208269</td><td style=\"text-align: right;\">0.394365</td><td style=\"text-align: right;\">0.155524</td></tr>\n",
       "<tr><td>XGBoost_1_AutoML_20190625_144411                   </td><td style=\"text-align: right;\">0.852171</td><td style=\"text-align: right;\"> 0.474988</td><td style=\"text-align: right;\">              0.208333</td><td style=\"text-align: right;\">0.393358</td><td style=\"text-align: right;\">0.154731</td></tr>\n",
       "<tr><td>XGBoost_2_AutoML_20190625_144411                   </td><td style=\"text-align: right;\">0.852141</td><td style=\"text-align: right;\"> 0.479082</td><td style=\"text-align: right;\">              0.213407</td><td style=\"text-align: right;\">0.394918</td><td style=\"text-align: right;\">0.15596 </td></tr>\n",
       "<tr><td>XGBoost_grid_1_AutoML_20190625_144411_model_2      </td><td style=\"text-align: right;\">0.851342</td><td style=\"text-align: right;\"> 0.497923</td><td style=\"text-align: right;\">              0.232858</td><td style=\"text-align: right;\">0.402775</td><td style=\"text-align: right;\">0.162228</td></tr>\n",
       "<tr><td>XGBoost_grid_1_AutoML_20190625_144411_model_1      </td><td style=\"text-align: right;\">0.850416</td><td style=\"text-align: right;\"> 0.476063</td><td style=\"text-align: right;\">              0.211128</td><td style=\"text-align: right;\">0.394962</td><td style=\"text-align: right;\">0.155995</td></tr>\n",
       "<tr><td>GBM_1_AutoML_20190625_144411                       </td><td style=\"text-align: right;\">0.849257</td><td style=\"text-align: right;\"> 0.491732</td><td style=\"text-align: right;\">              0.228544</td><td style=\"text-align: right;\">0.399864</td><td style=\"text-align: right;\">0.159891</td></tr>\n",
       "<tr><td>GBM_3_AutoML_20190625_144411                       </td><td style=\"text-align: right;\">0.846248</td><td style=\"text-align: right;\"> 0.487765</td><td style=\"text-align: right;\">              0.241337</td><td style=\"text-align: right;\">0.39879 </td><td style=\"text-align: right;\">0.159033</td></tr>\n",
       "<tr><td>GBM_2_AutoML_20190625_144411                       </td><td style=\"text-align: right;\">0.845524</td><td style=\"text-align: right;\"> 0.490804</td><td style=\"text-align: right;\">              0.254309</td><td style=\"text-align: right;\">0.400326</td><td style=\"text-align: right;\">0.160261</td></tr>\n",
       "<tr><td>XGBoost_grid_1_AutoML_20190625_144411_model_4      </td><td style=\"text-align: right;\">0.844794</td><td style=\"text-align: right;\"> 0.48651 </td><td style=\"text-align: right;\">              0.219076</td><td style=\"text-align: right;\">0.397999</td><td style=\"text-align: right;\">0.158403</td></tr>\n",
       "<tr><td>GBM_4_AutoML_20190625_144411                       </td><td style=\"text-align: right;\">0.841612</td><td style=\"text-align: right;\"> 0.497304</td><td style=\"text-align: right;\">              0.238478</td><td style=\"text-align: right;\">0.402739</td><td style=\"text-align: right;\">0.162199</td></tr>\n",
       "<tr><td>GBM_5_AutoML_20190625_144411                       </td><td style=\"text-align: right;\">0.840979</td><td style=\"text-align: right;\"> 0.48631 </td><td style=\"text-align: right;\">              0.208125</td><td style=\"text-align: right;\">0.39826 </td><td style=\"text-align: right;\">0.158611</td></tr>\n",
       "<tr><td>GBM_grid_1_AutoML_20190625_144411_model_1          </td><td style=\"text-align: right;\">0.840936</td><td style=\"text-align: right;\"> 0.493494</td><td style=\"text-align: right;\">              0.25208 </td><td style=\"text-align: right;\">0.401162</td><td style=\"text-align: right;\">0.160931</td></tr>\n",
       "<tr><td>XRT_1_AutoML_20190625_144411                       </td><td style=\"text-align: right;\">0.839792</td><td style=\"text-align: right;\"> 0.809565</td><td style=\"text-align: right;\">              0.245343</td><td style=\"text-align: right;\">0.403152</td><td style=\"text-align: right;\">0.162532</td></tr>\n",
       "<tr><td>DRF_1_AutoML_20190625_144411                       </td><td style=\"text-align: right;\">0.835677</td><td style=\"text-align: right;\"> 0.714475</td><td style=\"text-align: right;\">              0.264938</td><td style=\"text-align: right;\">0.40716 </td><td style=\"text-align: right;\">0.165779</td></tr>\n",
       "<tr><td>GBM_grid_1_AutoML_20190625_144411_model_2          </td><td style=\"text-align: right;\">0.833433</td><td style=\"text-align: right;\"> 0.751829</td><td style=\"text-align: right;\">              0.23809 </td><td style=\"text-align: right;\">0.43252 </td><td style=\"text-align: right;\">0.187074</td></tr>\n",
       "<tr><td>DeepLearning_grid_1_AutoML_20190625_144411_model_1 </td><td style=\"text-align: right;\">0.831568</td><td style=\"text-align: right;\"> 0.62749 </td><td style=\"text-align: right;\">              0.230078</td><td style=\"text-align: right;\">0.41259 </td><td style=\"text-align: right;\">0.17023 </td></tr>\n",
       "<tr><td>DeepLearning_1_AutoML_20190625_144411              </td><td style=\"text-align: right;\">0.816454</td><td style=\"text-align: right;\"> 0.555017</td><td style=\"text-align: right;\">              0.255406</td><td style=\"text-align: right;\">0.42063 </td><td style=\"text-align: right;\">0.17693 </td></tr>\n",
       "<tr><td>DeepLearning_grid_1_AutoML_20190625_144411_model_2 </td><td style=\"text-align: right;\">0.792895</td><td style=\"text-align: right;\"> 0.592209</td><td style=\"text-align: right;\">              0.273725</td><td style=\"text-align: right;\">0.435828</td><td style=\"text-align: right;\">0.189946</td></tr>\n",
       "<tr><td>GLM_grid_1_AutoML_20190625_144411_model_1          </td><td style=\"text-align: right;\">0.788281</td><td style=\"text-align: right;\"> 0.560668</td><td style=\"text-align: right;\">              0.291235</td><td style=\"text-align: right;\">0.432228</td><td style=\"text-align: right;\">0.186821</td></tr>\n",
       "</tbody>\n",
       "</table>"
      ]
     },
     "metadata": {},
     "output_type": "display_data"
    },
    {
     "data": {
      "text/plain": []
     },
     "execution_count": 177,
     "metadata": {},
     "output_type": "execute_result"
    }
   ],
   "source": [
    "# View the AutoML Leaderboard\n",
    "lb = aml.leaderboard\n",
    "lb.head(rows=lb.nrows)  # Print all rows instead of default (10 rows)"
   ]
  },
  {
   "cell_type": "code",
   "execution_count": 178,
   "metadata": {},
   "outputs": [
    {
     "name": "stdout",
     "output_type": "stream",
     "text": [
      "stackedensemble prediction progress: |████████████████████████████████████| 100%\n"
     ]
    }
   ],
   "source": [
    "# The leader model is stored here\n",
    "aml.leader\n",
    "\n",
    "# If you need to generate predictions on a test set, you can make\n",
    "# predictions directly on the `\"H2OAutoML\"` object, or on the leader\n",
    "# model object directly\n",
    "\n",
    "preds = aml.predict(valid)\n",
    "\n",
    "# or:\n",
    "#preds = aml.leader.predict(valid)"
   ]
  },
  {
   "cell_type": "code",
   "execution_count": 179,
   "metadata": {},
   "outputs": [
    {
     "name": "stdout",
     "output_type": "stream",
     "text": [
      "Parse progress: |█████████████████████████████████████████████████████████| 100%\n",
      "stackedensemble prediction progress: |████████████████████████████████████| 100%\n",
      "AUC by sklearn.metrics is 0.8598893215822915\n"
     ]
    },
    {
     "data": {
      "text/plain": [
       "array([[202,  36],\n",
       "       [ 64, 141]])"
      ]
     },
     "execution_count": 179,
     "metadata": {},
     "output_type": "execute_result"
    }
   ],
   "source": [
    "# AUC with sklearn metrics on H2o prediction\n",
    "pred = aml.predict(H2OFrame(X_val)).as_data_frame()\n",
    "fpr, tpr, thresholds = metrics.roc_curve(y_val, pred['p1'])\n",
    "print(\"AUC by sklearn.metrics is %s\" % metrics.auc(fpr, tpr))\n",
    "confusion_matrix(y_val, pred['predict'])"
   ]
  },
  {
   "cell_type": "code",
   "execution_count": 191,
   "metadata": {},
   "outputs": [
    {
     "name": "stdout",
     "output_type": "stream",
     "text": [
      "Parse progress: |█████████████████████████████████████████████████████████| 100%\n",
      "Parse progress: |█████████████████████████████████████████████████████████| 100%\n",
      "drf Grid Build progress: |████████████████████████████████████████████████| 100%\n",
      "--- 14.13841986656189 seconds ---\n"
     ]
    },
    {
     "data": {
      "text/plain": [
       "0.8602377536380407"
      ]
     },
     "execution_count": 191,
     "metadata": {},
     "output_type": "execute_result"
    }
   ],
   "source": [
    "h2o.remove_all() \n",
    "# Feature transformation\n",
    "x = list(X_train.columns)\n",
    "y = 'COMPANY_SIZE'\n",
    "train = X_train.copy()\n",
    "train['COMPANY_SIZE'] = y_train\n",
    "train = H2OFrame(train)\n",
    "train['COMPANY_SIZE'] = train['COMPANY_SIZE'].asfactor()\n",
    "\n",
    "valid = X_val.copy()\n",
    "valid['COMPANY_SIZE'] = y_val\n",
    "valid = H2OFrame(valid)\n",
    "valid['COMPANY_SIZE'] = valid['COMPANY_SIZE'].asfactor()\n",
    "\n",
    "# H2O GridSearch with Random Forest\n",
    "start_time = time.time()\n",
    "gbm_params1 = {'ntrees': [50, 80, 100, 150],\n",
    "                'max_depth': [5,8,10,12,15]}\n",
    "\n",
    "\n",
    "\n",
    "gbm_grid1 = H2OGridSearch(model=H2ORandomForestEstimator,\n",
    "                          grid_id='gbm_grid1',\n",
    "                          hyper_params=gbm_params1)\n",
    "gbm_grid1.train(x=x, y=y,\n",
    "                training_frame=train,\n",
    "                seed=1)\n",
    "\n",
    "# Get the grid results, sorted by validation AUC\n",
    "gbm_gridperf1 = gbm_grid1.get_grid(sort_by='auc', decreasing=True)\n",
    "print(\"--- %s seconds ---\" % (time.time() - start_time))\n",
    "gbm_gridperf1\n",
    "\n",
    "# Grab the top GBM model, chosen by validation AUC\n",
    "best_gbm1 = gbm_gridperf1.models[0]\n",
    "\n",
    "# Now let's evaluate the model performance on a test set\n",
    "# so we get an honest estimate of top model performance\n",
    "best_gbm_perf1 = best_gbm1.model_performance(valid)\n",
    "\n",
    "best_gbm_perf1.auc()"
   ]
  },
  {
   "cell_type": "code",
   "execution_count": 192,
   "metadata": {},
   "outputs": [
    {
     "name": "stdout",
     "output_type": "stream",
     "text": [
      "Parse progress: |█████████████████████████████████████████████████████████| 100%\n",
      "drf prediction progress: |████████████████████████████████████████████████| 100%\n",
      "AUC by sklearn.metrics is 0.8602377536380407\n"
     ]
    },
    {
     "data": {
      "text/plain": [
       "array([[203,  35],\n",
       "       [ 62, 143]])"
      ]
     },
     "execution_count": 192,
     "metadata": {},
     "output_type": "execute_result"
    }
   ],
   "source": [
    "# AUC with sklearn metrics on H2o prediction\n",
    "pred = best_gbm1.predict(H2OFrame(X_val)).as_data_frame()\n",
    "fpr, tpr, thresholds = metrics.roc_curve(y_val, pred['p1'])\n",
    "print(\"AUC by sklearn.metrics is %s\" % metrics.auc(fpr, tpr))\n",
    "confusion_matrix(y_val, pred['predict'])"
   ]
  },
  {
   "cell_type": "code",
   "execution_count": 193,
   "metadata": {},
   "outputs": [
    {
     "name": "stdout",
     "output_type": "stream",
     "text": [
      "     max_depth ntrees           model_ids                 auc\n",
      "0           15    150  gbm_grid1_model_20  0.8620601493307916\n",
      "1            8    150  gbm_grid1_model_17  0.8619434846499067\n",
      "2           12    150  gbm_grid1_model_19  0.8615537749712062\n",
      "3           10    150  gbm_grid1_model_18  0.8613080344731722\n",
      "4            8    100  gbm_grid1_model_12  0.8603697525715874\n",
      "5           15    100  gbm_grid1_model_15   0.860208407800151\n",
      "6            5    150  gbm_grid1_model_16   0.859600262123198\n",
      "7           12    100  gbm_grid1_model_14  0.8595183486238532\n",
      "8           10    100  gbm_grid1_model_13  0.8591385678541642\n",
      "9            8     80   gbm_grid1_model_7  0.8589474363556932\n",
      "10          15     80  gbm_grid1_model_10  0.8582946105881886\n",
      "11          12     80   gbm_grid1_model_9  0.8577584495015688\n",
      "12          10     80   gbm_grid1_model_8  0.8576070336391437\n",
      "13           5    100  gbm_grid1_model_11  0.8569964057349378\n",
      "14           5     80   gbm_grid1_model_6  0.8564925136026054\n",
      "15           5     50   gbm_grid1_model_1  0.8558396878351007\n",
      "16           8     50   gbm_grid1_model_2  0.8549361571150562\n",
      "17          10     50   gbm_grid1_model_3  0.8542709202112871\n",
      "18          12     50   gbm_grid1_model_4  0.8540599308947933\n",
      "19          15     50   gbm_grid1_model_5  0.8536205766710353\n"
     ]
    },
    {
     "data": {
      "text/plain": []
     },
     "execution_count": 193,
     "metadata": {},
     "output_type": "execute_result"
    }
   ],
   "source": [
    "gbm_gridperf1"
   ]
  },
  {
   "cell_type": "code",
   "execution_count": 46,
   "metadata": {},
   "outputs": [
    {
     "name": "stdout",
     "output_type": "stream",
     "text": [
      "[WARNING] in <ipython-input-46-1edf85295eae> line 1:\n",
      "    >>> h2o.shutdown()\n",
      "        ^^^^ Deprecated, use ``h2o.cluster().shutdown()``.\n"
     ]
    }
   ],
   "source": [
    "h2o.shutdown()"
   ]
  }
 ],
 "metadata": {
  "kernelspec": {
   "display_name": "Python 3",
   "language": "python",
   "name": "python3"
  },
  "language_info": {
   "codemirror_mode": {
    "name": "ipython",
    "version": 3
   },
   "file_extension": ".py",
   "mimetype": "text/x-python",
   "name": "python",
   "nbconvert_exporter": "python",
   "pygments_lexer": "ipython3",
   "version": "3.6.8"
  }
 },
 "nbformat": 4,
 "nbformat_minor": 2
}
